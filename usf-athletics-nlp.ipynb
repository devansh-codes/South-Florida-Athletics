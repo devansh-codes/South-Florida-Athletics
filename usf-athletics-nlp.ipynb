{
 "cells": [
  {
   "cell_type": "code",
   "execution_count": 1,
   "id": "e2a3eeca",
   "metadata": {
    "_cell_guid": "b1076dfc-b9ad-4769-8c92-a6c4dae69d19",
    "_uuid": "8f2839f25d086af736a60e9eeb907d3b93b6e0e5",
    "execution": {
     "iopub.execute_input": "2024-11-22T18:12:44.641395Z",
     "iopub.status.busy": "2024-11-22T18:12:44.641017Z",
     "iopub.status.idle": "2024-11-22T18:12:45.502561Z",
     "shell.execute_reply": "2024-11-22T18:12:45.501455Z"
    },
    "papermill": {
     "duration": 0.871248,
     "end_time": "2024-11-22T18:12:45.504749",
     "exception": false,
     "start_time": "2024-11-22T18:12:44.633501",
     "status": "completed"
    },
    "tags": []
   },
   "outputs": [
    {
     "name": "stdout",
     "output_type": "stream",
     "text": [
      "/kaggle/input/data-eight/Data.xlsx\n",
      "/kaggle/input/testingdata2/UABComments.csv\n",
      "/kaggle/input/dataseven/Data.xlsx\n"
     ]
    }
   ],
   "source": [
    "# This Python 3 environment comes with many helpful analytics libraries installed\n",
    "# It is defined by the kaggle/python Docker image: https://github.com/kaggle/docker-python\n",
    "# For example, here's several helpful packages to load\n",
    "\n",
    "import numpy as np # linear algebra\n",
    "import pandas as pd # data processing, CSV file I/O (e.g. pd.read_csv)\n",
    "\n",
    "# Input data files are available in the read-only \"../input/\" directory\n",
    "# For example, running this (by clicking run or pressing Shift+Enter) will list all files under the input directory\n",
    "\n",
    "import os\n",
    "for dirname, _, filenames in os.walk('/kaggle/input'): \n",
    "    for filename in filenames:\n",
    "        print(os.path.join(dirname, filename))\n",
    "\n",
    "# You can write up to 20GB to the current directory (/kaggle/working/) that gets preserved as output when you create a version using \"Save & Run All\" \n",
    "# You can also write temporary files to /kaggle/temp/, but they won't be saved outside of the current session"
   ]
  },
  {
   "cell_type": "code",
   "execution_count": 2,
   "id": "c47a85c7",
   "metadata": {
    "execution": {
     "iopub.execute_input": "2024-11-22T18:12:45.516256Z",
     "iopub.status.busy": "2024-11-22T18:12:45.515759Z",
     "iopub.status.idle": "2024-11-22T18:12:45.523453Z",
     "shell.execute_reply": "2024-11-22T18:12:45.522363Z"
    },
    "papermill": {
     "duration": 0.015565,
     "end_time": "2024-11-22T18:12:45.525442",
     "exception": false,
     "start_time": "2024-11-22T18:12:45.509877",
     "status": "completed"
    },
    "tags": []
   },
   "outputs": [
    {
     "name": "stdout",
     "output_type": "stream",
     "text": [
      "/kaggle/input/data-eight/Data.xlsx\n",
      "/kaggle/input/testingdata2/UABComments.csv\n",
      "/kaggle/input/dataseven/Data.xlsx\n"
     ]
    }
   ],
   "source": [
    "import os\n",
    "for dirname, _, filenames in os.walk('/kaggle/input'):\n",
    "    for filename in filenames:\n",
    "        print(os.path.join(dirname, filename))"
   ]
  },
  {
   "cell_type": "code",
   "execution_count": 3,
   "id": "62392730",
   "metadata": {
    "execution": {
     "iopub.execute_input": "2024-11-22T18:12:45.536762Z",
     "iopub.status.busy": "2024-11-22T18:12:45.536380Z",
     "iopub.status.idle": "2024-11-22T18:12:45.888311Z",
     "shell.execute_reply": "2024-11-22T18:12:45.887203Z"
    },
    "papermill": {
     "duration": 0.360287,
     "end_time": "2024-11-22T18:12:45.890723",
     "exception": false,
     "start_time": "2024-11-22T18:12:45.530436",
     "status": "completed"
    },
    "tags": []
   },
   "outputs": [
    {
     "data": {
      "text/html": [
       "<div>\n",
       "<style scoped>\n",
       "    .dataframe tbody tr th:only-of-type {\n",
       "        vertical-align: middle;\n",
       "    }\n",
       "\n",
       "    .dataframe tbody tr th {\n",
       "        vertical-align: top;\n",
       "    }\n",
       "\n",
       "    .dataframe thead th {\n",
       "        text-align: right;\n",
       "    }\n",
       "</style>\n",
       "<table border=\"1\" class=\"dataframe\">\n",
       "  <thead>\n",
       "    <tr style=\"text-align: right;\">\n",
       "      <th></th>\n",
       "      <th>Reviews</th>\n",
       "      <th>Category</th>\n",
       "    </tr>\n",
       "  </thead>\n",
       "  <tbody>\n",
       "    <tr>\n",
       "      <th>0</th>\n",
       "      <td>Arena club food buffet has really stepped up a...</td>\n",
       "      <td>Concessions</td>\n",
       "    </tr>\n",
       "    <tr>\n",
       "      <th>1</th>\n",
       "      <td>Arena Club staff catering staff very helpful</td>\n",
       "      <td>Concessions</td>\n",
       "    </tr>\n",
       "    <tr>\n",
       "      <th>2</th>\n",
       "      <td>Have never used.</td>\n",
       "      <td>Concessions</td>\n",
       "    </tr>\n",
       "    <tr>\n",
       "      <th>3</th>\n",
       "      <td>Stm meals have been great this year. Please br...</td>\n",
       "      <td>Concessions</td>\n",
       "    </tr>\n",
       "    <tr>\n",
       "      <th>4</th>\n",
       "      <td>We do not buy from the concession.</td>\n",
       "      <td>Concessions</td>\n",
       "    </tr>\n",
       "  </tbody>\n",
       "</table>\n",
       "</div>"
      ],
      "text/plain": [
       "                                             Reviews     Category\n",
       "0  Arena club food buffet has really stepped up a...  Concessions\n",
       "1      Arena Club staff catering staff very helpful   Concessions\n",
       "2                                  Have never used.   Concessions\n",
       "3  Stm meals have been great this year. Please br...  Concessions\n",
       "4                We do not buy from the concession.   Concessions"
      ]
     },
     "execution_count": 3,
     "metadata": {},
     "output_type": "execute_result"
    }
   ],
   "source": [
    "import pandas as pd\n",
    "df = pd.read_excel('/kaggle/input/data-eight/Data.xlsx')\n",
    "df.head()\n"
   ]
  },
  {
   "cell_type": "code",
   "execution_count": 4,
   "id": "1f7dc102",
   "metadata": {
    "execution": {
     "iopub.execute_input": "2024-11-22T18:12:45.903025Z",
     "iopub.status.busy": "2024-11-22T18:12:45.902287Z",
     "iopub.status.idle": "2024-11-22T18:12:45.915720Z",
     "shell.execute_reply": "2024-11-22T18:12:45.914716Z"
    },
    "papermill": {
     "duration": 0.021845,
     "end_time": "2024-11-22T18:12:45.917823",
     "exception": false,
     "start_time": "2024-11-22T18:12:45.895978",
     "status": "completed"
    },
    "tags": []
   },
   "outputs": [
    {
     "data": {
      "text/plain": [
       "Category\n",
       "Concessions          270\n",
       "Video Board/Sound     86\n",
       "Cheer                 85\n",
       "Ticketing             79\n",
       "Fac.                  75\n",
       "Marketing             73\n",
       "Parking               68\n",
       "Name: count, dtype: int64"
      ]
     },
     "execution_count": 4,
     "metadata": {},
     "output_type": "execute_result"
    }
   ],
   "source": [
    "df['Category'].value_counts()"
   ]
  },
  {
   "cell_type": "code",
   "execution_count": 5,
   "id": "28ebd8d0",
   "metadata": {
    "execution": {
     "iopub.execute_input": "2024-11-22T18:12:45.930360Z",
     "iopub.status.busy": "2024-11-22T18:12:45.929960Z",
     "iopub.status.idle": "2024-11-22T18:12:45.935381Z",
     "shell.execute_reply": "2024-11-22T18:12:45.934408Z"
    },
    "papermill": {
     "duration": 0.014073,
     "end_time": "2024-11-22T18:12:45.937540",
     "exception": false,
     "start_time": "2024-11-22T18:12:45.923467",
     "status": "completed"
    },
    "tags": []
   },
   "outputs": [
    {
     "name": "stdout",
     "output_type": "stream",
     "text": [
      "Index(['Reviews', 'Category'], dtype='object')\n"
     ]
    }
   ],
   "source": [
    "print(df.columns)"
   ]
  },
  {
   "cell_type": "code",
   "execution_count": 6,
   "id": "53c3aad6",
   "metadata": {
    "execution": {
     "iopub.execute_input": "2024-11-22T18:12:45.950095Z",
     "iopub.status.busy": "2024-11-22T18:12:45.949412Z",
     "iopub.status.idle": "2024-11-22T18:12:45.956105Z",
     "shell.execute_reply": "2024-11-22T18:12:45.954956Z"
    },
    "papermill": {
     "duration": 0.015022,
     "end_time": "2024-11-22T18:12:45.958039",
     "exception": false,
     "start_time": "2024-11-22T18:12:45.943017",
     "status": "completed"
    },
    "tags": []
   },
   "outputs": [
    {
     "data": {
      "text/plain": [
       "736"
      ]
     },
     "execution_count": 6,
     "metadata": {},
     "output_type": "execute_result"
    }
   ],
   "source": [
    "# Split into features (reviews) and labels (categories)\n",
    "X = df['Reviews']\n",
    "Y = df['Category']\n",
    "len(X)"
   ]
  },
  {
   "cell_type": "code",
   "execution_count": 7,
   "id": "16890a5b",
   "metadata": {
    "execution": {
     "iopub.execute_input": "2024-11-22T18:12:45.970494Z",
     "iopub.status.busy": "2024-11-22T18:12:45.970117Z",
     "iopub.status.idle": "2024-11-22T18:12:47.438359Z",
     "shell.execute_reply": "2024-11-22T18:12:47.437260Z"
    },
    "papermill": {
     "duration": 1.477902,
     "end_time": "2024-11-22T18:12:47.441343",
     "exception": false,
     "start_time": "2024-11-22T18:12:45.963441",
     "status": "completed"
    },
    "tags": []
   },
   "outputs": [],
   "source": [
    "# Split the data into training and test sets\n",
    "from sklearn.model_selection import train_test_split\n",
    "X_train, X_test, Y_train, Y_test = train_test_split(X, Y, test_size=0.2, random_state=22)"
   ]
  },
  {
   "cell_type": "code",
   "execution_count": 8,
   "id": "ae15ac59",
   "metadata": {
    "execution": {
     "iopub.execute_input": "2024-11-22T18:12:47.454778Z",
     "iopub.status.busy": "2024-11-22T18:12:47.453841Z",
     "iopub.status.idle": "2024-11-22T18:12:47.573413Z",
     "shell.execute_reply": "2024-11-22T18:12:47.572199Z"
    },
    "papermill": {
     "duration": 0.128702,
     "end_time": "2024-11-22T18:12:47.576052",
     "exception": false,
     "start_time": "2024-11-22T18:12:47.447350",
     "status": "completed"
    },
    "tags": []
   },
   "outputs": [],
   "source": [
    "from sklearn.pipeline import Pipeline\n",
    "from sklearn.feature_extraction.text import TfidfVectorizer\n",
    "from sklearn.naive_bayes import MultinomialNB, ComplementNB\n",
    "from sklearn.svm import LinearSVC\n",
    "from sklearn.metrics import accuracy_score, classification_report "
   ]
  },
  {
   "cell_type": "code",
   "execution_count": 9,
   "id": "b2b40fdd",
   "metadata": {
    "execution": {
     "iopub.execute_input": "2024-11-22T18:12:47.588717Z",
     "iopub.status.busy": "2024-11-22T18:12:47.588359Z",
     "iopub.status.idle": "2024-11-22T18:12:47.594677Z",
     "shell.execute_reply": "2024-11-22T18:12:47.593490Z"
    },
    "papermill": {
     "duration": 0.015333,
     "end_time": "2024-11-22T18:12:47.596837",
     "exception": false,
     "start_time": "2024-11-22T18:12:47.581504",
     "status": "completed"
    },
    "tags": []
   },
   "outputs": [],
   "source": [
    "\n",
    "# Define pipelines for different models\n",
    "pipeMNB = Pipeline([('tfidf', TfidfVectorizer(stop_words='english', ngram_range=(1, 2))), ('clf', MultinomialNB())])\n",
    "pipeCNB = Pipeline([('tfidf', TfidfVectorizer(stop_words='english', ngram_range=(1,3))), ('clf', ComplementNB())])\n",
    "pipeSVC = Pipeline([('tfidf', TfidfVectorizer(stop_words='english', ngram_range=(1,3))), ('clf', LinearSVC())])"
   ]
  },
  {
   "cell_type": "code",
   "execution_count": 10,
   "id": "03f92a49",
   "metadata": {
    "execution": {
     "iopub.execute_input": "2024-11-22T18:12:47.608802Z",
     "iopub.status.busy": "2024-11-22T18:12:47.608481Z",
     "iopub.status.idle": "2024-11-22T18:12:47.615592Z",
     "shell.execute_reply": "2024-11-22T18:12:47.614516Z"
    },
    "papermill": {
     "duration": 0.015509,
     "end_time": "2024-11-22T18:12:47.617720",
     "exception": false,
     "start_time": "2024-11-22T18:12:47.602211",
     "status": "completed"
    },
    "tags": []
   },
   "outputs": [
    {
     "name": "stdout",
     "output_type": "stream",
     "text": [
      "Reviews     0\n",
      "Category    0\n",
      "dtype: int64\n"
     ]
    }
   ],
   "source": [
    "print(df.isnull().sum())"
   ]
  },
  {
   "cell_type": "code",
   "execution_count": 11,
   "id": "51927b0e",
   "metadata": {
    "execution": {
     "iopub.execute_input": "2024-11-22T18:12:47.631112Z",
     "iopub.status.busy": "2024-11-22T18:12:47.629886Z",
     "iopub.status.idle": "2024-11-22T18:12:47.636093Z",
     "shell.execute_reply": "2024-11-22T18:12:47.634921Z"
    },
    "papermill": {
     "duration": 0.015125,
     "end_time": "2024-11-22T18:12:47.638315",
     "exception": false,
     "start_time": "2024-11-22T18:12:47.623190",
     "status": "completed"
    },
    "tags": []
   },
   "outputs": [],
   "source": [
    "df['Reviews'] = df['Reviews'].fillna('')"
   ]
  },
  {
   "cell_type": "code",
   "execution_count": 12,
   "id": "27775b00",
   "metadata": {
    "execution": {
     "iopub.execute_input": "2024-11-22T18:12:47.651181Z",
     "iopub.status.busy": "2024-11-22T18:12:47.650768Z",
     "iopub.status.idle": "2024-11-22T18:12:47.655877Z",
     "shell.execute_reply": "2024-11-22T18:12:47.654926Z"
    },
    "papermill": {
     "duration": 0.013532,
     "end_time": "2024-11-22T18:12:47.657730",
     "exception": false,
     "start_time": "2024-11-22T18:12:47.644198",
     "status": "completed"
    },
    "tags": []
   },
   "outputs": [],
   "source": [
    "df['Reviews'] = df['Reviews'].astype(str)"
   ]
  },
  {
   "cell_type": "code",
   "execution_count": 13,
   "id": "c72bf82a",
   "metadata": {
    "execution": {
     "iopub.execute_input": "2024-11-22T18:12:47.670412Z",
     "iopub.status.busy": "2024-11-22T18:12:47.670028Z",
     "iopub.status.idle": "2024-11-22T18:12:47.676028Z",
     "shell.execute_reply": "2024-11-22T18:12:47.674943Z"
    },
    "papermill": {
     "duration": 0.015051,
     "end_time": "2024-11-22T18:12:47.678419",
     "exception": false,
     "start_time": "2024-11-22T18:12:47.663368",
     "status": "completed"
    },
    "tags": []
   },
   "outputs": [
    {
     "name": "stdout",
     "output_type": "stream",
     "text": [
      "0\n",
      "object\n"
     ]
    }
   ],
   "source": [
    "print(X_train.isnull().sum())  # Check for remaining missing values\n",
    "print(X_train.dtypes)          # Check data types"
   ]
  },
  {
   "cell_type": "code",
   "execution_count": 14,
   "id": "02286d3d",
   "metadata": {
    "execution": {
     "iopub.execute_input": "2024-11-22T18:12:47.691684Z",
     "iopub.status.busy": "2024-11-22T18:12:47.690949Z",
     "iopub.status.idle": "2024-11-22T18:12:47.852714Z",
     "shell.execute_reply": "2024-11-22T18:12:47.851488Z"
    },
    "papermill": {
     "duration": 0.170726,
     "end_time": "2024-11-22T18:12:47.855008",
     "exception": false,
     "start_time": "2024-11-22T18:12:47.684282",
     "status": "completed"
    },
    "tags": []
   },
   "outputs": [
    {
     "name": "stdout",
     "output_type": "stream",
     "text": [
      "MNB Accuracy: 0.45\n",
      "CNB Accuracy: 0.80\n",
      "SVC Accuracy: 0.82\n"
     ]
    }
   ],
   "source": [
    "pipeMNB.fit(X_train, Y_train)\n",
    "predictMNB = pipeMNB.predict(X_test)\n",
    "print(f\"MNB Accuracy: {accuracy_score(Y_test, predictMNB):.2f}\")\n",
    "\n",
    "pipeCNB.fit(X_train, Y_train)\n",
    "predictCNB = pipeCNB.predict(X_test)\n",
    "print(f\"CNB Accuracy: {accuracy_score(Y_test, predictCNB):.2f}\")\n",
    "\n",
    "pipeSVC.fit(X_train, Y_train)\n",
    "predictSVC = pipeSVC.predict(X_test)\n",
    "print(f\"SVC Accuracy: {accuracy_score(Y_test, predictSVC):.2f}\")"
   ]
  },
  {
   "cell_type": "code",
   "execution_count": 15,
   "id": "d474f0c0",
   "metadata": {
    "execution": {
     "iopub.execute_input": "2024-11-22T18:12:47.868510Z",
     "iopub.status.busy": "2024-11-22T18:12:47.867398Z",
     "iopub.status.idle": "2024-11-22T18:12:49.051814Z",
     "shell.execute_reply": "2024-11-22T18:12:49.050467Z"
    },
    "papermill": {
     "duration": 1.194352,
     "end_time": "2024-11-22T18:12:49.055049",
     "exception": false,
     "start_time": "2024-11-22T18:12:47.860697",
     "status": "completed"
    },
    "tags": []
   },
   "outputs": [
    {
     "name": "stdout",
     "output_type": "stream",
     "text": [
      "XGB Accuracy: 0.72\n"
     ]
    }
   ],
   "source": [
    "from sklearn.preprocessing import LabelEncoder\n",
    "from xgboost import XGBClassifier\n",
    "from sklearn.pipeline import Pipeline\n",
    "from sklearn.feature_extraction.text import TfidfVectorizer\n",
    "\n",
    "# Encode the target labels\n",
    "label_encoder = LabelEncoder()\n",
    "Y_train_encoded = label_encoder.fit_transform(Y_train)\n",
    "Y_test_encoded = label_encoder.transform(Y_test)\n",
    "\n",
    "# XGBoost pipeline\n",
    "pipeXGB = Pipeline([('tfidf', TfidfVectorizer(stop_words = 'english')),\n",
    "                    ('clf', XGBClassifier(use_label_encoder=False, eval_metric='mlogloss'))])\n",
    "\n",
    "# Train the model\n",
    "pipeXGB.fit(X_train, Y_train_encoded)  \n",
    "predictXGB = pipeXGB.predict(X_test)\n",
    "\n",
    "# Decode the predictions back to original labels\n",
    "predictXGB_decoded = label_encoder.inverse_transform(predictXGB)\n",
    "\n",
    "# Print accuracy\n",
    "print(f\"XGB Accuracy: {accuracy_score(Y_test, predictXGB_decoded):.2f}\") "
   ]
  },
  {
   "cell_type": "code",
   "execution_count": 16,
   "id": "d8a93525",
   "metadata": {
    "execution": {
     "iopub.execute_input": "2024-11-22T18:12:49.070364Z",
     "iopub.status.busy": "2024-11-22T18:12:49.069328Z",
     "iopub.status.idle": "2024-11-22T18:12:49.077209Z",
     "shell.execute_reply": "2024-11-22T18:12:49.076273Z"
    },
    "papermill": {
     "duration": 0.016969,
     "end_time": "2024-11-22T18:12:49.079380",
     "exception": false,
     "start_time": "2024-11-22T18:12:49.062411",
     "status": "completed"
    },
    "tags": []
   },
   "outputs": [
    {
     "data": {
      "text/plain": [
       "array(['Ticketing'], dtype=object)"
      ]
     },
     "execution_count": 16,
     "metadata": {},
     "output_type": "execute_result"
    }
   ],
   "source": [
    "msg = \"There was a big queue in ticketing office and tickets were expensive\"\n",
    "pipeSVC.predict([msg]) "
   ]
  },
  {
   "cell_type": "code",
   "execution_count": 17,
   "id": "2252ab24",
   "metadata": {
    "execution": {
     "iopub.execute_input": "2024-11-22T18:12:49.092401Z",
     "iopub.status.busy": "2024-11-22T18:12:49.092028Z",
     "iopub.status.idle": "2024-11-22T18:12:49.101047Z",
     "shell.execute_reply": "2024-11-22T18:12:49.099903Z"
    },
    "papermill": {
     "duration": 0.017817,
     "end_time": "2024-11-22T18:12:49.103011",
     "exception": false,
     "start_time": "2024-11-22T18:12:49.085194",
     "status": "completed"
    },
    "tags": []
   },
   "outputs": [
    {
     "data": {
      "text/plain": [
       "array(['Cheer'], dtype='<U17')"
      ]
     },
     "execution_count": 17,
     "metadata": {},
     "output_type": "execute_result"
    }
   ],
   "source": [
    "msg = \"It would be more entertaining to hear the band or the DJ during timeouts. There is too much talking and too many promotions. It kills the vibe.\"\n",
    "pipeCNB.predict([msg]) "
   ]
  },
  {
   "cell_type": "code",
   "execution_count": 18,
   "id": "912a7812",
   "metadata": {
    "execution": {
     "iopub.execute_input": "2024-11-22T18:12:49.117053Z",
     "iopub.status.busy": "2024-11-22T18:12:49.116671Z",
     "iopub.status.idle": "2024-11-22T18:12:49.125825Z",
     "shell.execute_reply": "2024-11-22T18:12:49.124764Z"
    },
    "papermill": {
     "duration": 0.018765,
     "end_time": "2024-11-22T18:12:49.127897",
     "exception": false,
     "start_time": "2024-11-22T18:12:49.109132",
     "status": "completed"
    },
    "tags": []
   },
   "outputs": [
    {
     "data": {
      "text/plain": [
       "array(['Fac.'], dtype=object)"
      ]
     },
     "execution_count": 18,
     "metadata": {},
     "output_type": "execute_result"
    }
   ],
   "source": [
    "msg = \"I know this is something outside control, but the TV timeouts while on a subscription service are getting way out of hand.  Constant commercial breaks make game feel dead and drag on forever. No reason a game on ESPN+ should take almost 4 1/2 hours.  \"\n",
    "pipeSVC.predict([msg]) "
   ]
  },
  {
   "cell_type": "code",
   "execution_count": 19,
   "id": "8c0b6d78",
   "metadata": {
    "execution": {
     "iopub.execute_input": "2024-11-22T18:12:49.142378Z",
     "iopub.status.busy": "2024-11-22T18:12:49.141347Z",
     "iopub.status.idle": "2024-11-22T18:12:49.150513Z",
     "shell.execute_reply": "2024-11-22T18:12:49.149324Z"
    },
    "papermill": {
     "duration": 0.018667,
     "end_time": "2024-11-22T18:12:49.152591",
     "exception": false,
     "start_time": "2024-11-22T18:12:49.133924",
     "status": "completed"
    },
    "tags": []
   },
   "outputs": [
    {
     "data": {
      "text/plain": [
       "array(['Concessions'], dtype=object)"
      ]
     },
     "execution_count": 19,
     "metadata": {},
     "output_type": "execute_result"
    }
   ],
   "source": [
    "msg = \"The stadium needs affordable food options. The prices are too high. \"\n",
    "pipeSVC.predict([msg]) "
   ]
  },
  {
   "cell_type": "code",
   "execution_count": 20,
   "id": "aa96000b",
   "metadata": {
    "execution": {
     "iopub.execute_input": "2024-11-22T18:12:49.166610Z",
     "iopub.status.busy": "2024-11-22T18:12:49.166252Z",
     "iopub.status.idle": "2024-11-22T18:12:49.174541Z",
     "shell.execute_reply": "2024-11-22T18:12:49.173475Z"
    },
    "papermill": {
     "duration": 0.017598,
     "end_time": "2024-11-22T18:12:49.176662",
     "exception": false,
     "start_time": "2024-11-22T18:12:49.159064",
     "status": "completed"
    },
    "tags": []
   },
   "outputs": [
    {
     "data": {
      "text/plain": [
       "array(['Fac.'], dtype='<U17')"
      ]
     },
     "execution_count": 20,
     "metadata": {},
     "output_type": "execute_result"
    }
   ],
   "source": [
    "msg = \"The seats were quite hard to sit on, and the restroom wasnt clean\"\n",
    "pipeCNB.predict([msg]) "
   ]
  },
  {
   "cell_type": "code",
   "execution_count": 21,
   "id": "2e5b58df",
   "metadata": {
    "execution": {
     "iopub.execute_input": "2024-11-22T18:12:49.190791Z",
     "iopub.status.busy": "2024-11-22T18:12:49.190428Z",
     "iopub.status.idle": "2024-11-22T18:12:49.219925Z",
     "shell.execute_reply": "2024-11-22T18:12:49.218826Z"
    },
    "papermill": {
     "duration": 0.039659,
     "end_time": "2024-11-22T18:12:49.222571",
     "exception": false,
     "start_time": "2024-11-22T18:12:49.182912",
     "status": "completed"
    },
    "tags": []
   },
   "outputs": [
    {
     "name": "stdout",
     "output_type": "stream",
     "text": [
      "                                            Comments\n",
      "0  Nothing open on the concessions.  Limited opti...\n",
      "1                               Better food choices.\n",
      "2    $14.00 FOR ONE REFILLABLE DRINK IS OUTRAGEOUS. \n",
      "3  prices of concession are obscene. People servi...\n",
      "4  1.  There are so many video boards in the stad...\n",
      "                                            Comments Predicted_Category\n",
      "0  Nothing open on the concessions.  Limited opti...        Concessions\n",
      "1                               Better food choices.        Concessions\n",
      "2    $14.00 FOR ONE REFILLABLE DRINK IS OUTRAGEOUS.         Concessions\n",
      "3  prices of concession are obscene. People servi...        Concessions\n",
      "4  1.  There are so many video boards in the stad...  Video Board/Sound\n",
      "Predictions saved to classified_comments.csv\n"
     ]
    }
   ],
   "source": [
    "import pandas as pd\n",
    "\n",
    "# Load the new data with comments to classify\n",
    "new_data = pd.read_csv('/kaggle/input/testingdata2/UABComments.csv', encoding='ISO-8859-1')\n",
    "\n",
    "new_data['Comments'] = new_data['Comments'].fillna('')  # Fill any missing values\n",
    "\n",
    "# Check the data\n",
    "print(new_data.head())\n",
    "\n",
    "# Predict using the best-performing model (pipeSVC in this case)\n",
    "predictions = pipeSVC.predict(new_data['Comments']) \n",
    "\n",
    "# Add the predictions as a new column in the DataFrame \n",
    "new_data['Predicted_Category'] = predictions\n",
    "print(new_data[['Comments', 'Predicted_Category']].head()) \n",
    "# Save the classified data to a new CSV file\n",
    "new_data.to_csv('/kaggle/working/classified_comments.csv', index=False)\n",
    "\n",
    "print(\"Predictions saved to classified_comments.csv\")"
   ]
  },
  {
   "cell_type": "code",
   "execution_count": 22,
   "id": "2b0c6dc1",
   "metadata": {
    "execution": {
     "iopub.execute_input": "2024-11-22T18:12:49.236894Z",
     "iopub.status.busy": "2024-11-22T18:12:49.236536Z",
     "iopub.status.idle": "2024-11-22T18:12:49.242469Z",
     "shell.execute_reply": "2024-11-22T18:12:49.241187Z"
    },
    "papermill": {
     "duration": 0.015762,
     "end_time": "2024-11-22T18:12:49.244884",
     "exception": false,
     "start_time": "2024-11-22T18:12:49.229122",
     "status": "completed"
    },
    "tags": []
   },
   "outputs": [
    {
     "name": "stdout",
     "output_type": "stream",
     "text": [
      "['__notebook__.ipynb', 'classified_comments.csv']\n"
     ]
    }
   ],
   "source": [
    "import os\n",
    "\n",
    "# List the files in the current working directory\n",
    "print(os.listdir('/kaggle/working'))"
   ]
  },
  {
   "cell_type": "code",
   "execution_count": 23,
   "id": "93dacb98",
   "metadata": {
    "execution": {
     "iopub.execute_input": "2024-11-22T18:12:49.259729Z",
     "iopub.status.busy": "2024-11-22T18:12:49.258805Z",
     "iopub.status.idle": "2024-11-22T18:13:01.575231Z",
     "shell.execute_reply": "2024-11-22T18:13:01.574029Z"
    },
    "papermill": {
     "duration": 12.326112,
     "end_time": "2024-11-22T18:13:01.577432",
     "exception": false,
     "start_time": "2024-11-22T18:12:49.251320",
     "status": "completed"
    },
    "tags": []
   },
   "outputs": [
    {
     "name": "stdout",
     "output_type": "stream",
     "text": [
      "Keyword extraction complete. File saved to /kaggle/working/reviews_with_keywords.csv\n"
     ]
    }
   ],
   "source": [
    "# Importing necessary libraries\n",
    "import pandas as pd\n",
    "import spacy\n",
    "\n",
    "# Load SpaCy's English language model\n",
    "nlp = spacy.load(\"en_core_web_sm\")\n",
    "\n",
    "# Load your dataset\n",
    "# Assuming the dataset is named 'reviews.csv' with two columns: 'reviews' and 'categories'\n",
    "df = pd.read_excel(\"/kaggle/input/data-eight/Data.xlsx\")\n",
    "\n",
    "# Function to extract keywords using SpaCy\n",
    "def extract_keywords(text):\n",
    "    doc = nlp(text)\n",
    "    # Extracting nouns, proper nouns, and adjectives as keywords\n",
    "    keywords = [token.text for token in doc if token.pos_ in ('NOUN', 'PROPN', 'ADJ')]\n",
    "    # Return summarized words as a single string\n",
    "    return ', '.join(keywords)\n",
    "\n",
    "# Apply the function to the reviews column and create a new column for keywords\n",
    "df['keywords'] = df['Reviews'].apply(extract_keywords)\n",
    "\n",
    "# Save the updated DataFrame to a new CSV file\n",
    "output_path = \"/kaggle/working/reviews_with_keywords.csv\"\n",
    "df.to_csv(output_path, index=False)\n",
    "\n",
    "print(f\"Keyword extraction complete. File saved to {output_path}\") "
   ]
  }
 ],
 "metadata": {
  "kaggle": {
   "accelerator": "none",
   "dataSources": [
    {
     "datasetId": 5889115,
     "sourceId": 9643503,
     "sourceType": "datasetVersion"
    },
    {
     "datasetId": 5889201,
     "sourceId": 9643637,
     "sourceType": "datasetVersion"
    },
    {
     "datasetId": 5948262,
     "sourceId": 9721952,
     "sourceType": "datasetVersion"
    }
   ],
   "dockerImageVersionId": 30761,
   "isGpuEnabled": false,
   "isInternetEnabled": false,
   "language": "python",
   "sourceType": "notebook"
  },
  "kernelspec": {
   "display_name": "Python 3",
   "language": "python",
   "name": "python3"
  },
  "language_info": {
   "codemirror_mode": {
    "name": "ipython",
    "version": 3
   },
   "file_extension": ".py",
   "mimetype": "text/x-python",
   "name": "python",
   "nbconvert_exporter": "python",
   "pygments_lexer": "ipython3",
   "version": "3.10.14"
  },
  "papermill": {
   "default_parameters": {},
   "duration": 20.949712,
   "end_time": "2024-11-22T18:13:02.906959",
   "environment_variables": {},
   "exception": null,
   "input_path": "__notebook__.ipynb",
   "output_path": "__notebook__.ipynb",
   "parameters": {},
   "start_time": "2024-11-22T18:12:41.957247",
   "version": "2.6.0"
  }
 },
 "nbformat": 4,
 "nbformat_minor": 5
}
