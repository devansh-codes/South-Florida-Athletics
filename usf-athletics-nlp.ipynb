{
 "cells": [
  {
   "cell_type": "code",
   "execution_count": 1,
   "id": "8dcbbfda",
   "metadata": {
    "_cell_guid": "b1076dfc-b9ad-4769-8c92-a6c4dae69d19",
    "_uuid": "8f2839f25d086af736a60e9eeb907d3b93b6e0e5",
    "execution": {
     "iopub.execute_input": "2024-10-14T19:05:36.960993Z",
     "iopub.status.busy": "2024-10-14T19:05:36.960431Z",
     "iopub.status.idle": "2024-10-14T19:05:38.040949Z",
     "shell.execute_reply": "2024-10-14T19:05:38.039551Z"
    },
    "papermill": {
     "duration": 1.092944,
     "end_time": "2024-10-14T19:05:38.043803",
     "exception": false,
     "start_time": "2024-10-14T19:05:36.950859",
     "status": "completed"
    },
    "tags": []
   },
   "outputs": [
    {
     "name": "stdout",
     "output_type": "stream",
     "text": [
      "/kaggle/input/datafour/Data.xlsx\n"
     ]
    }
   ],
   "source": [
    "# This Python 3 environment comes with many helpful analytics libraries installed\n",
    "# It is defined by the kaggle/python Docker image: https://github.com/kaggle/docker-python\n",
    "# For example, here's several helpful packages to load\n",
    "\n",
    "import numpy as np # linear algebra\n",
    "import pandas as pd # data processing, CSV file I/O (e.g. pd.read_csv)\n",
    "\n",
    "# Input data files are available in the read-only \"../input/\" directory\n",
    "# For example, running this (by clicking run or pressing Shift+Enter) will list all files under the input directory\n",
    "\n",
    "import os\n",
    "for dirname, _, filenames in os.walk('/kaggle/input'):\n",
    "    for filename in filenames:\n",
    "        print(os.path.join(dirname, filename))\n",
    "\n",
    "# You can write up to 20GB to the current directory (/kaggle/working/) that gets preserved as output when you create a version using \"Save & Run All\" \n",
    "# You can also write temporary files to /kaggle/temp/, but they won't be saved outside of the current session"
   ]
  },
  {
   "cell_type": "markdown",
   "id": "3805b1a1",
   "metadata": {
    "papermill": {
     "duration": 0.007059,
     "end_time": "2024-10-14T19:05:38.058968",
     "exception": false,
     "start_time": "2024-10-14T19:05:38.051909",
     "status": "completed"
    },
    "tags": []
   },
   "source": []
  },
  {
   "cell_type": "code",
   "execution_count": 2,
   "id": "d95df272",
   "metadata": {
    "execution": {
     "iopub.execute_input": "2024-10-14T19:05:38.075119Z",
     "iopub.status.busy": "2024-10-14T19:05:38.074568Z",
     "iopub.status.idle": "2024-10-14T19:05:38.082781Z",
     "shell.execute_reply": "2024-10-14T19:05:38.081379Z"
    },
    "papermill": {
     "duration": 0.020043,
     "end_time": "2024-10-14T19:05:38.086108",
     "exception": false,
     "start_time": "2024-10-14T19:05:38.066065",
     "status": "completed"
    },
    "tags": []
   },
   "outputs": [
    {
     "name": "stdout",
     "output_type": "stream",
     "text": [
      "/kaggle/input/datafour/Data.xlsx\n"
     ]
    }
   ],
   "source": [
    "import os\n",
    "for dirname, _, filenames in os.walk('/kaggle/input'):\n",
    "    for filename in filenames:\n",
    "        print(os.path.join(dirname, filename))"
   ]
  },
  {
   "cell_type": "code",
   "execution_count": 3,
   "id": "7099fd38",
   "metadata": {
    "execution": {
     "iopub.execute_input": "2024-10-14T19:05:38.106177Z",
     "iopub.status.busy": "2024-10-14T19:05:38.105644Z",
     "iopub.status.idle": "2024-10-14T19:05:38.549140Z",
     "shell.execute_reply": "2024-10-14T19:05:38.547778Z"
    },
    "papermill": {
     "duration": 0.455981,
     "end_time": "2024-10-14T19:05:38.552199",
     "exception": false,
     "start_time": "2024-10-14T19:05:38.096218",
     "status": "completed"
    },
    "tags": []
   },
   "outputs": [
    {
     "data": {
      "text/html": [
       "<div>\n",
       "<style scoped>\n",
       "    .dataframe tbody tr th:only-of-type {\n",
       "        vertical-align: middle;\n",
       "    }\n",
       "\n",
       "    .dataframe tbody tr th {\n",
       "        vertical-align: top;\n",
       "    }\n",
       "\n",
       "    .dataframe thead th {\n",
       "        text-align: right;\n",
       "    }\n",
       "</style>\n",
       "<table border=\"1\" class=\"dataframe\">\n",
       "  <thead>\n",
       "    <tr style=\"text-align: right;\">\n",
       "      <th></th>\n",
       "      <th>Reviews</th>\n",
       "      <th>Category</th>\n",
       "    </tr>\n",
       "  </thead>\n",
       "  <tbody>\n",
       "    <tr>\n",
       "      <th>0</th>\n",
       "      <td>Arena club food buffet has really stepped up a...</td>\n",
       "      <td>Concessions</td>\n",
       "    </tr>\n",
       "    <tr>\n",
       "      <th>1</th>\n",
       "      <td>Arena Club staff catering staff very helpful</td>\n",
       "      <td>Concessions</td>\n",
       "    </tr>\n",
       "    <tr>\n",
       "      <th>2</th>\n",
       "      <td>Have never used.</td>\n",
       "      <td>Concessions</td>\n",
       "    </tr>\n",
       "    <tr>\n",
       "      <th>3</th>\n",
       "      <td>Stm meals have been great this year. Please br...</td>\n",
       "      <td>Concessions</td>\n",
       "    </tr>\n",
       "    <tr>\n",
       "      <th>4</th>\n",
       "      <td>We do not buy from the concession.</td>\n",
       "      <td>Concessions</td>\n",
       "    </tr>\n",
       "  </tbody>\n",
       "</table>\n",
       "</div>"
      ],
      "text/plain": [
       "                                             Reviews     Category\n",
       "0  Arena club food buffet has really stepped up a...  Concessions\n",
       "1      Arena Club staff catering staff very helpful   Concessions\n",
       "2                                  Have never used.   Concessions\n",
       "3  Stm meals have been great this year. Please br...  Concessions\n",
       "4                We do not buy from the concession.   Concessions"
      ]
     },
     "execution_count": 3,
     "metadata": {},
     "output_type": "execute_result"
    }
   ],
   "source": [
    "import pandas as pd\n",
    "df = pd.read_excel('/kaggle/input/datafour/Data.xlsx')\n",
    "df.head()\n"
   ]
  },
  {
   "cell_type": "code",
   "execution_count": 4,
   "id": "c7e641c8",
   "metadata": {
    "execution": {
     "iopub.execute_input": "2024-10-14T19:05:38.569995Z",
     "iopub.status.busy": "2024-10-14T19:05:38.568839Z",
     "iopub.status.idle": "2024-10-14T19:05:38.586497Z",
     "shell.execute_reply": "2024-10-14T19:05:38.585170Z"
    },
    "papermill": {
     "duration": 0.029208,
     "end_time": "2024-10-14T19:05:38.589032",
     "exception": false,
     "start_time": "2024-10-14T19:05:38.559824",
     "status": "completed"
    },
    "tags": []
   },
   "outputs": [
    {
     "data": {
      "text/plain": [
       "Category\n",
       "Concessions          341\n",
       "Video Board/Sound     44\n",
       "Cheer                 35\n",
       "Ticketing             28\n",
       "Fac.                  25\n",
       "Marketing             23\n",
       "Parking               18\n",
       "Name: count, dtype: int64"
      ]
     },
     "execution_count": 4,
     "metadata": {},
     "output_type": "execute_result"
    }
   ],
   "source": [
    "df['Category'].value_counts()"
   ]
  },
  {
   "cell_type": "code",
   "execution_count": 5,
   "id": "1e8e8731",
   "metadata": {
    "execution": {
     "iopub.execute_input": "2024-10-14T19:05:38.606899Z",
     "iopub.status.busy": "2024-10-14T19:05:38.605761Z",
     "iopub.status.idle": "2024-10-14T19:05:38.612817Z",
     "shell.execute_reply": "2024-10-14T19:05:38.611558Z"
    },
    "papermill": {
     "duration": 0.018842,
     "end_time": "2024-10-14T19:05:38.615515",
     "exception": false,
     "start_time": "2024-10-14T19:05:38.596673",
     "status": "completed"
    },
    "tags": []
   },
   "outputs": [
    {
     "name": "stdout",
     "output_type": "stream",
     "text": [
      "Index(['Reviews', 'Category'], dtype='object')\n"
     ]
    }
   ],
   "source": [
    "print(df.columns)"
   ]
  },
  {
   "cell_type": "code",
   "execution_count": 6,
   "id": "b7dc22ad",
   "metadata": {
    "execution": {
     "iopub.execute_input": "2024-10-14T19:05:38.633667Z",
     "iopub.status.busy": "2024-10-14T19:05:38.632556Z",
     "iopub.status.idle": "2024-10-14T19:05:38.641512Z",
     "shell.execute_reply": "2024-10-14T19:05:38.640305Z"
    },
    "papermill": {
     "duration": 0.020823,
     "end_time": "2024-10-14T19:05:38.644030",
     "exception": false,
     "start_time": "2024-10-14T19:05:38.623207",
     "status": "completed"
    },
    "tags": []
   },
   "outputs": [
    {
     "data": {
      "text/plain": [
       "514"
      ]
     },
     "execution_count": 6,
     "metadata": {},
     "output_type": "execute_result"
    }
   ],
   "source": [
    "# Split into features (reviews) and labels (categories)\n",
    "X = df['Reviews']\n",
    "Y = df['Category']\n",
    "len(X)"
   ]
  },
  {
   "cell_type": "code",
   "execution_count": 7,
   "id": "51c813f9",
   "metadata": {
    "execution": {
     "iopub.execute_input": "2024-10-14T19:05:38.661969Z",
     "iopub.status.busy": "2024-10-14T19:05:38.661462Z",
     "iopub.status.idle": "2024-10-14T19:05:40.396738Z",
     "shell.execute_reply": "2024-10-14T19:05:40.395349Z"
    },
    "papermill": {
     "duration": 1.747815,
     "end_time": "2024-10-14T19:05:40.399877",
     "exception": false,
     "start_time": "2024-10-14T19:05:38.652062",
     "status": "completed"
    },
    "tags": []
   },
   "outputs": [],
   "source": [
    "# Split the data into training and test sets\n",
    "from sklearn.model_selection import train_test_split\n",
    "X_train, X_test, Y_train, Y_test = train_test_split(X, Y, test_size=0.2, random_state=22)"
   ]
  },
  {
   "cell_type": "code",
   "execution_count": 8,
   "id": "22ba494a",
   "metadata": {
    "execution": {
     "iopub.execute_input": "2024-10-14T19:05:40.417908Z",
     "iopub.status.busy": "2024-10-14T19:05:40.417295Z",
     "iopub.status.idle": "2024-10-14T19:05:40.561653Z",
     "shell.execute_reply": "2024-10-14T19:05:40.559687Z"
    },
    "papermill": {
     "duration": 0.158104,
     "end_time": "2024-10-14T19:05:40.565988",
     "exception": false,
     "start_time": "2024-10-14T19:05:40.407884",
     "status": "completed"
    },
    "tags": []
   },
   "outputs": [],
   "source": [
    "from sklearn.pipeline import Pipeline\n",
    "from sklearn.feature_extraction.text import TfidfVectorizer\n",
    "from sklearn.naive_bayes import MultinomialNB, ComplementNB\n",
    "from sklearn.svm import LinearSVC\n",
    "from sklearn.metrics import accuracy_score, classification_report "
   ]
  },
  {
   "cell_type": "code",
   "execution_count": 9,
   "id": "24727eaf",
   "metadata": {
    "execution": {
     "iopub.execute_input": "2024-10-14T19:05:40.584805Z",
     "iopub.status.busy": "2024-10-14T19:05:40.583665Z",
     "iopub.status.idle": "2024-10-14T19:05:40.592228Z",
     "shell.execute_reply": "2024-10-14T19:05:40.591066Z"
    },
    "papermill": {
     "duration": 0.020904,
     "end_time": "2024-10-14T19:05:40.594992",
     "exception": false,
     "start_time": "2024-10-14T19:05:40.574088",
     "status": "completed"
    },
    "tags": []
   },
   "outputs": [],
   "source": [
    "\n",
    "# Define pipelines for different models\n",
    "pipeMNB = Pipeline([('tfidf', TfidfVectorizer(stop_words='english', ngram_range=(1, 2))), ('clf', MultinomialNB())])\n",
    "pipeCNB = Pipeline([('tfidf', TfidfVectorizer(stop_words='english', ngram_range=(1,3))), ('clf', ComplementNB())])\n",
    "pipeSVC = Pipeline([('tfidf', TfidfVectorizer(stop_words='english', ngram_range=(1,2))), ('clf', LinearSVC())])"
   ]
  },
  {
   "cell_type": "code",
   "execution_count": 10,
   "id": "895d5a16",
   "metadata": {
    "execution": {
     "iopub.execute_input": "2024-10-14T19:05:40.612810Z",
     "iopub.status.busy": "2024-10-14T19:05:40.612399Z",
     "iopub.status.idle": "2024-10-14T19:05:40.620861Z",
     "shell.execute_reply": "2024-10-14T19:05:40.619372Z"
    },
    "papermill": {
     "duration": 0.020541,
     "end_time": "2024-10-14T19:05:40.623592",
     "exception": false,
     "start_time": "2024-10-14T19:05:40.603051",
     "status": "completed"
    },
    "tags": []
   },
   "outputs": [
    {
     "name": "stdout",
     "output_type": "stream",
     "text": [
      "Reviews     0\n",
      "Category    0\n",
      "dtype: int64\n"
     ]
    }
   ],
   "source": [
    "print(df.isnull().sum())"
   ]
  },
  {
   "cell_type": "code",
   "execution_count": 11,
   "id": "913c58b1",
   "metadata": {
    "execution": {
     "iopub.execute_input": "2024-10-14T19:05:40.645575Z",
     "iopub.status.busy": "2024-10-14T19:05:40.644215Z",
     "iopub.status.idle": "2024-10-14T19:05:40.653495Z",
     "shell.execute_reply": "2024-10-14T19:05:40.652001Z"
    },
    "papermill": {
     "duration": 0.024728,
     "end_time": "2024-10-14T19:05:40.657225",
     "exception": false,
     "start_time": "2024-10-14T19:05:40.632497",
     "status": "completed"
    },
    "tags": []
   },
   "outputs": [],
   "source": [
    "df['Reviews'] = df['Reviews'].fillna('')"
   ]
  },
  {
   "cell_type": "code",
   "execution_count": 12,
   "id": "179866df",
   "metadata": {
    "execution": {
     "iopub.execute_input": "2024-10-14T19:05:40.678327Z",
     "iopub.status.busy": "2024-10-14T19:05:40.677491Z",
     "iopub.status.idle": "2024-10-14T19:05:40.685422Z",
     "shell.execute_reply": "2024-10-14T19:05:40.684194Z"
    },
    "papermill": {
     "duration": 0.02278,
     "end_time": "2024-10-14T19:05:40.688592",
     "exception": false,
     "start_time": "2024-10-14T19:05:40.665812",
     "status": "completed"
    },
    "tags": []
   },
   "outputs": [],
   "source": [
    "df['Reviews'] = df['Reviews'].astype(str)"
   ]
  },
  {
   "cell_type": "code",
   "execution_count": 13,
   "id": "d1cb2174",
   "metadata": {
    "execution": {
     "iopub.execute_input": "2024-10-14T19:05:40.713337Z",
     "iopub.status.busy": "2024-10-14T19:05:40.712764Z",
     "iopub.status.idle": "2024-10-14T19:05:40.722907Z",
     "shell.execute_reply": "2024-10-14T19:05:40.721068Z"
    },
    "papermill": {
     "duration": 0.028376,
     "end_time": "2024-10-14T19:05:40.728418",
     "exception": false,
     "start_time": "2024-10-14T19:05:40.700042",
     "status": "completed"
    },
    "tags": []
   },
   "outputs": [
    {
     "name": "stdout",
     "output_type": "stream",
     "text": [
      "0\n",
      "object\n"
     ]
    }
   ],
   "source": [
    "print(X_train.isnull().sum())  # Check for remaining missing values\n",
    "print(X_train.dtypes)          # Check data types"
   ]
  },
  {
   "cell_type": "code",
   "execution_count": 14,
   "id": "d0c0ac20",
   "metadata": {
    "execution": {
     "iopub.execute_input": "2024-10-14T19:05:40.754492Z",
     "iopub.status.busy": "2024-10-14T19:05:40.753871Z",
     "iopub.status.idle": "2024-10-14T19:05:40.958427Z",
     "shell.execute_reply": "2024-10-14T19:05:40.957238Z"
    },
    "papermill": {
     "duration": 0.220974,
     "end_time": "2024-10-14T19:05:40.961216",
     "exception": false,
     "start_time": "2024-10-14T19:05:40.740242",
     "status": "completed"
    },
    "tags": []
   },
   "outputs": [
    {
     "name": "stdout",
     "output_type": "stream",
     "text": [
      "MNB Accuracy: 0.62\n",
      "CNB Accuracy: 0.71\n",
      "SVC Accuracy: 0.71\n"
     ]
    }
   ],
   "source": [
    "pipeMNB.fit(X_train, Y_train)\n",
    "predictMNB = pipeMNB.predict(X_test)\n",
    "print(f\"MNB Accuracy: {accuracy_score(Y_test, predictMNB):.2f}\")\n",
    "\n",
    "pipeCNB.fit(X_train, Y_train)\n",
    "predictCNB = pipeCNB.predict(X_test)\n",
    "print(f\"CNB Accuracy: {accuracy_score(Y_test, predictCNB):.2f}\")\n",
    "\n",
    "pipeSVC.fit(X_train, Y_train)\n",
    "predictSVC = pipeSVC.predict(X_test)\n",
    "print(f\"SVC Accuracy: {accuracy_score(Y_test, predictSVC):.2f}\") "
   ]
  },
  {
   "cell_type": "code",
   "execution_count": 15,
   "id": "6bbc7035",
   "metadata": {
    "execution": {
     "iopub.execute_input": "2024-10-14T19:05:40.979390Z",
     "iopub.status.busy": "2024-10-14T19:05:40.978895Z",
     "iopub.status.idle": "2024-10-14T19:05:43.520322Z",
     "shell.execute_reply": "2024-10-14T19:05:43.519293Z"
    },
    "papermill": {
     "duration": 2.553842,
     "end_time": "2024-10-14T19:05:43.523223",
     "exception": false,
     "start_time": "2024-10-14T19:05:40.969381",
     "status": "completed"
    },
    "tags": []
   },
   "outputs": [
    {
     "name": "stdout",
     "output_type": "stream",
     "text": [
      "XGB Accuracy: 0.73\n"
     ]
    }
   ],
   "source": [
    "from sklearn.preprocessing import LabelEncoder\n",
    "from xgboost import XGBClassifier\n",
    "from sklearn.pipeline import Pipeline\n",
    "from sklearn.feature_extraction.text import TfidfVectorizer\n",
    "\n",
    "# Encode the target labels\n",
    "label_encoder = LabelEncoder()\n",
    "Y_train_encoded = label_encoder.fit_transform(Y_train)\n",
    "Y_test_encoded = label_encoder.transform(Y_test)\n",
    "\n",
    "# XGBoost pipeline\n",
    "pipeXGB = Pipeline([('tfidf', TfidfVectorizer(stop_words = 'english', ngram_range=(1, 3))),\n",
    "                    ('clf', XGBClassifier(use_label_encoder=False, eval_metric='mlogloss'))])\n",
    "\n",
    "# Train the model\n",
    "pipeXGB.fit(X_train, Y_train_encoded)\n",
    "predictXGB = pipeXGB.predict(X_test)\n",
    "\n",
    "# Decode the predictions back to original labels\n",
    "predictXGB_decoded = label_encoder.inverse_transform(predictXGB)\n",
    "\n",
    "# Print accuracy\n",
    "print(f\"XGB Accuracy: {accuracy_score(Y_test, predictXGB_decoded):.2f}\") "
   ]
  },
  {
   "cell_type": "code",
   "execution_count": 16,
   "id": "49bb2388",
   "metadata": {
    "execution": {
     "iopub.execute_input": "2024-10-14T19:05:43.542749Z",
     "iopub.status.busy": "2024-10-14T19:05:43.542311Z",
     "iopub.status.idle": "2024-10-14T19:05:43.563827Z",
     "shell.execute_reply": "2024-10-14T19:05:43.555310Z"
    },
    "papermill": {
     "duration": 0.034143,
     "end_time": "2024-10-14T19:05:43.566799",
     "exception": false,
     "start_time": "2024-10-14T19:05:43.532656",
     "status": "completed"
    },
    "tags": []
   },
   "outputs": [
    {
     "data": {
      "text/plain": [
       "array([5])"
      ]
     },
     "execution_count": 16,
     "metadata": {},
     "output_type": "execute_result"
    }
   ],
   "source": [
    "msg = \"There was a big queue in ticketing office and tickets were expensive\"\n",
    "pipeXGB.predict([msg]) "
   ]
  },
  {
   "cell_type": "code",
   "execution_count": 17,
   "id": "5c7a86a6",
   "metadata": {
    "execution": {
     "iopub.execute_input": "2024-10-14T19:05:43.585813Z",
     "iopub.status.busy": "2024-10-14T19:05:43.585362Z",
     "iopub.status.idle": "2024-10-14T19:05:58.665024Z",
     "shell.execute_reply": "2024-10-14T19:05:58.660419Z"
    },
    "papermill": {
     "duration": 15.094793,
     "end_time": "2024-10-14T19:05:58.670197",
     "exception": false,
     "start_time": "2024-10-14T19:05:43.575404",
     "status": "completed"
    },
    "tags": []
   },
   "outputs": [
    {
     "name": "stdout",
     "output_type": "stream",
     "text": [
      "Word2Vec + Logistic Regression Accuracy: 0.62\n"
     ]
    }
   ],
   "source": [
    "import numpy as np\n",
    "from gensim.models import Word2Vec\n",
    "from sklearn.linear_model import LogisticRegression\n",
    "from sklearn.metrics import accuracy_score\n",
    "\n",
    "# Tokenizing reviews\n",
    "tokenized_train = [doc.split() for doc in X_train]\n",
    "tokenized_test = [doc.split() for doc in X_test]\n",
    "\n",
    "# Train Word2Vec model\n",
    "w2v_model = Word2Vec(sentences=tokenized_train, vector_size=100, window=5, min_count=2, workers=4)\n",
    "\n",
    "# Function to convert documents to average word vectors\n",
    "def document_vector(doc):\n",
    "    # Keep words in the document that are in the Word2Vec vocabulary\n",
    "    doc = [word for word in doc if word in w2v_model.wv]\n",
    "    \n",
    "    # Handle empty documents (no words in vocabulary)\n",
    "    if len(doc) == 0:\n",
    "        return np.zeros(w2v_model.vector_size)  # Return a zero vector if no valid words found\n",
    "    \n",
    "    # Return the mean of the word vectors\n",
    "    return np.mean(w2v_model.wv[doc], axis=0)\n",
    "\n",
    "# Convert training and test documents to vectors\n",
    "X_train_w2v = np.array([document_vector(doc) for doc in tokenized_train])\n",
    "X_test_w2v = np.array([document_vector(doc) for doc in tokenized_test])\n",
    "\n",
    "# Use Logistic Regression since it works with continuous values\n",
    "model = LogisticRegression(max_iter=1000)\n",
    "model.fit(X_train_w2v, Y_train)\n",
    "\n",
    "# Predict and evaluate\n",
    "predictions = model.predict(X_test_w2v)\n",
    "print(f\"Word2Vec + Logistic Regression Accuracy: {accuracy_score(Y_test, predictions):.2f}\")\n"
   ]
  },
  {
   "cell_type": "code",
   "execution_count": null,
   "id": "b2b71dae",
   "metadata": {
    "papermill": {
     "duration": 0.017172,
     "end_time": "2024-10-14T19:05:58.705003",
     "exception": false,
     "start_time": "2024-10-14T19:05:58.687831",
     "status": "completed"
    },
    "tags": []
   },
   "outputs": [],
   "source": []
  }
 ],
 "metadata": {
  "kaggle": {
   "accelerator": "none",
   "dataSources": [
    {
     "datasetId": 5874592,
     "sourceId": 9624234,
     "sourceType": "datasetVersion"
    }
   ],
   "dockerImageVersionId": 30761,
   "isGpuEnabled": false,
   "isInternetEnabled": false,
   "language": "python",
   "sourceType": "notebook"
  },
  "kernelspec": {
   "display_name": "Python 3",
   "language": "python",
   "name": "python3"
  },
  "language_info": {
   "codemirror_mode": {
    "name": "ipython",
    "version": 3
   },
   "file_extension": ".py",
   "mimetype": "text/x-python",
   "name": "python",
   "nbconvert_exporter": "python",
   "pygments_lexer": "ipython3",
   "version": "3.10.14"
  },
  "papermill": {
   "default_parameters": {},
   "duration": 25.976033,
   "end_time": "2024-10-14T19:05:59.750564",
   "environment_variables": {},
   "exception": null,
   "input_path": "__notebook__.ipynb",
   "output_path": "__notebook__.ipynb",
   "parameters": {},
   "start_time": "2024-10-14T19:05:33.774531",
   "version": "2.6.0"
  }
 },
 "nbformat": 4,
 "nbformat_minor": 5
}
