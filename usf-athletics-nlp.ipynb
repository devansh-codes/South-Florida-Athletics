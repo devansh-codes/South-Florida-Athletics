{
 "cells": [
  {
   "cell_type": "code",
   "execution_count": 1,
   "id": "8848a717",
   "metadata": {
    "_cell_guid": "b1076dfc-b9ad-4769-8c92-a6c4dae69d19",
    "_uuid": "8f2839f25d086af736a60e9eeb907d3b93b6e0e5",
    "execution": {
     "iopub.execute_input": "2024-10-14T15:41:30.050550Z",
     "iopub.status.busy": "2024-10-14T15:41:30.048963Z",
     "iopub.status.idle": "2024-10-14T15:41:30.997785Z",
     "shell.execute_reply": "2024-10-14T15:41:30.996687Z"
    },
    "papermill": {
     "duration": 0.960437,
     "end_time": "2024-10-14T15:41:31.000327",
     "exception": false,
     "start_time": "2024-10-14T15:41:30.039890",
     "status": "completed"
    },
    "tags": []
   },
   "outputs": [
    {
     "name": "stdout",
     "output_type": "stream",
     "text": [
      "/kaggle/input/datafour/Data.xlsx\n"
     ]
    }
   ],
   "source": [
    "# This Python 3 environment comes with many helpful analytics libraries installed\n",
    "# It is defined by the kaggle/python Docker image: https://github.com/kaggle/docker-python\n",
    "# For example, here's several helpful packages to load\n",
    "\n",
    "import numpy as np # linear algebra\n",
    "import pandas as pd # data processing, CSV file I/O (e.g. pd.read_csv)\n",
    "\n",
    "# Input data files are available in the read-only \"../input/\" directory\n",
    "# For example, running this (by clicking run or pressing Shift+Enter) will list all files under the input directory\n",
    "\n",
    "import os\n",
    "for dirname, _, filenames in os.walk('/kaggle/input'):\n",
    "    for filename in filenames:\n",
    "        print(os.path.join(dirname, filename))\n",
    "\n",
    "# You can write up to 20GB to the current directory (/kaggle/working/) that gets preserved as output when you create a version using \"Save & Run All\" \n",
    "# You can also write temporary files to /kaggle/temp/, but they won't be saved outside of the current session"
   ]
  },
  {
   "cell_type": "markdown",
   "id": "170ff52c",
   "metadata": {
    "papermill": {
     "duration": 0.006253,
     "end_time": "2024-10-14T15:41:31.013385",
     "exception": false,
     "start_time": "2024-10-14T15:41:31.007132",
     "status": "completed"
    },
    "tags": []
   },
   "source": []
  },
  {
   "cell_type": "code",
   "execution_count": 2,
   "id": "3c4167c3",
   "metadata": {
    "execution": {
     "iopub.execute_input": "2024-10-14T15:41:31.028311Z",
     "iopub.status.busy": "2024-10-14T15:41:31.027705Z",
     "iopub.status.idle": "2024-10-14T15:41:31.035455Z",
     "shell.execute_reply": "2024-10-14T15:41:31.034300Z"
    },
    "papermill": {
     "duration": 0.017992,
     "end_time": "2024-10-14T15:41:31.037800",
     "exception": false,
     "start_time": "2024-10-14T15:41:31.019808",
     "status": "completed"
    },
    "tags": []
   },
   "outputs": [
    {
     "name": "stdout",
     "output_type": "stream",
     "text": [
      "/kaggle/input/datafour/Data.xlsx\n"
     ]
    }
   ],
   "source": [
    "import os\n",
    "for dirname, _, filenames in os.walk('/kaggle/input'):\n",
    "    for filename in filenames:\n",
    "        print(os.path.join(dirname, filename))"
   ]
  },
  {
   "cell_type": "code",
   "execution_count": 3,
   "id": "5192fbdf",
   "metadata": {
    "execution": {
     "iopub.execute_input": "2024-10-14T15:41:31.053207Z",
     "iopub.status.busy": "2024-10-14T15:41:31.052728Z",
     "iopub.status.idle": "2024-10-14T15:41:31.459213Z",
     "shell.execute_reply": "2024-10-14T15:41:31.458085Z"
    },
    "papermill": {
     "duration": 0.417493,
     "end_time": "2024-10-14T15:41:31.462110",
     "exception": false,
     "start_time": "2024-10-14T15:41:31.044617",
     "status": "completed"
    },
    "tags": []
   },
   "outputs": [
    {
     "data": {
      "text/html": [
       "<div>\n",
       "<style scoped>\n",
       "    .dataframe tbody tr th:only-of-type {\n",
       "        vertical-align: middle;\n",
       "    }\n",
       "\n",
       "    .dataframe tbody tr th {\n",
       "        vertical-align: top;\n",
       "    }\n",
       "\n",
       "    .dataframe thead th {\n",
       "        text-align: right;\n",
       "    }\n",
       "</style>\n",
       "<table border=\"1\" class=\"dataframe\">\n",
       "  <thead>\n",
       "    <tr style=\"text-align: right;\">\n",
       "      <th></th>\n",
       "      <th>Reviews</th>\n",
       "      <th>Category</th>\n",
       "    </tr>\n",
       "  </thead>\n",
       "  <tbody>\n",
       "    <tr>\n",
       "      <th>0</th>\n",
       "      <td>Arena club food buffet has really stepped up a...</td>\n",
       "      <td>Concessions</td>\n",
       "    </tr>\n",
       "    <tr>\n",
       "      <th>1</th>\n",
       "      <td>Arena Club staff catering staff very helpful</td>\n",
       "      <td>Concessions</td>\n",
       "    </tr>\n",
       "    <tr>\n",
       "      <th>2</th>\n",
       "      <td>Have never used.</td>\n",
       "      <td>Concessions</td>\n",
       "    </tr>\n",
       "    <tr>\n",
       "      <th>3</th>\n",
       "      <td>Stm meals have been great this year. Please br...</td>\n",
       "      <td>Concessions</td>\n",
       "    </tr>\n",
       "    <tr>\n",
       "      <th>4</th>\n",
       "      <td>We do not buy from the concession.</td>\n",
       "      <td>Concessions</td>\n",
       "    </tr>\n",
       "  </tbody>\n",
       "</table>\n",
       "</div>"
      ],
      "text/plain": [
       "                                             Reviews     Category\n",
       "0  Arena club food buffet has really stepped up a...  Concessions\n",
       "1      Arena Club staff catering staff very helpful   Concessions\n",
       "2                                  Have never used.   Concessions\n",
       "3  Stm meals have been great this year. Please br...  Concessions\n",
       "4                We do not buy from the concession.   Concessions"
      ]
     },
     "execution_count": 3,
     "metadata": {},
     "output_type": "execute_result"
    }
   ],
   "source": [
    "import pandas as pd\n",
    "df = pd.read_excel('/kaggle/input/datafour/Data.xlsx')\n",
    "df.head()\n"
   ]
  },
  {
   "cell_type": "code",
   "execution_count": 4,
   "id": "bbb76e39",
   "metadata": {
    "execution": {
     "iopub.execute_input": "2024-10-14T15:41:31.478721Z",
     "iopub.status.busy": "2024-10-14T15:41:31.478155Z",
     "iopub.status.idle": "2024-10-14T15:41:31.493513Z",
     "shell.execute_reply": "2024-10-14T15:41:31.492472Z"
    },
    "papermill": {
     "duration": 0.026606,
     "end_time": "2024-10-14T15:41:31.495965",
     "exception": false,
     "start_time": "2024-10-14T15:41:31.469359",
     "status": "completed"
    },
    "tags": []
   },
   "outputs": [
    {
     "data": {
      "text/plain": [
       "Category\n",
       "Concessions          341\n",
       "Video Board/Sound     44\n",
       "Cheer                 35\n",
       "Ticketing             28\n",
       "Fac.                  25\n",
       "Marketing             23\n",
       "Parking               18\n",
       "Name: count, dtype: int64"
      ]
     },
     "execution_count": 4,
     "metadata": {},
     "output_type": "execute_result"
    }
   ],
   "source": [
    "df['Category'].value_counts()"
   ]
  },
  {
   "cell_type": "code",
   "execution_count": 5,
   "id": "7c8c0361",
   "metadata": {
    "execution": {
     "iopub.execute_input": "2024-10-14T15:41:31.512033Z",
     "iopub.status.busy": "2024-10-14T15:41:31.511576Z",
     "iopub.status.idle": "2024-10-14T15:41:31.517672Z",
     "shell.execute_reply": "2024-10-14T15:41:31.516628Z"
    },
    "papermill": {
     "duration": 0.017107,
     "end_time": "2024-10-14T15:41:31.520070",
     "exception": false,
     "start_time": "2024-10-14T15:41:31.502963",
     "status": "completed"
    },
    "tags": []
   },
   "outputs": [
    {
     "name": "stdout",
     "output_type": "stream",
     "text": [
      "Index(['Reviews', 'Category'], dtype='object')\n"
     ]
    }
   ],
   "source": [
    "print(df.columns)"
   ]
  },
  {
   "cell_type": "code",
   "execution_count": 6,
   "id": "d87d6ec7",
   "metadata": {
    "execution": {
     "iopub.execute_input": "2024-10-14T15:41:31.536190Z",
     "iopub.status.busy": "2024-10-14T15:41:31.535724Z",
     "iopub.status.idle": "2024-10-14T15:41:31.543478Z",
     "shell.execute_reply": "2024-10-14T15:41:31.542503Z"
    },
    "papermill": {
     "duration": 0.018357,
     "end_time": "2024-10-14T15:41:31.545638",
     "exception": false,
     "start_time": "2024-10-14T15:41:31.527281",
     "status": "completed"
    },
    "tags": []
   },
   "outputs": [
    {
     "data": {
      "text/plain": [
       "514"
      ]
     },
     "execution_count": 6,
     "metadata": {},
     "output_type": "execute_result"
    }
   ],
   "source": [
    "# Split into features (reviews) and labels (categories)\n",
    "X = df['Reviews']\n",
    "Y = df['Category']\n",
    "len(X)"
   ]
  },
  {
   "cell_type": "code",
   "execution_count": 7,
   "id": "504c27af",
   "metadata": {
    "execution": {
     "iopub.execute_input": "2024-10-14T15:41:31.562075Z",
     "iopub.status.busy": "2024-10-14T15:41:31.561594Z",
     "iopub.status.idle": "2024-10-14T15:41:33.069841Z",
     "shell.execute_reply": "2024-10-14T15:41:33.068815Z"
    },
    "papermill": {
     "duration": 1.519763,
     "end_time": "2024-10-14T15:41:33.072662",
     "exception": false,
     "start_time": "2024-10-14T15:41:31.552899",
     "status": "completed"
    },
    "tags": []
   },
   "outputs": [],
   "source": [
    "# Split the data into training and test sets\n",
    "from sklearn.model_selection import train_test_split\n",
    "X_train, X_test, Y_train, Y_test = train_test_split(X, Y, test_size=0.2, random_state=22)"
   ]
  },
  {
   "cell_type": "code",
   "execution_count": 8,
   "id": "c94e1d9d",
   "metadata": {
    "execution": {
     "iopub.execute_input": "2024-10-14T15:41:33.090808Z",
     "iopub.status.busy": "2024-10-14T15:41:33.090219Z",
     "iopub.status.idle": "2024-10-14T15:41:33.201240Z",
     "shell.execute_reply": "2024-10-14T15:41:33.200054Z"
    },
    "papermill": {
     "duration": 0.123927,
     "end_time": "2024-10-14T15:41:33.204085",
     "exception": false,
     "start_time": "2024-10-14T15:41:33.080158",
     "status": "completed"
    },
    "tags": []
   },
   "outputs": [],
   "source": [
    "from sklearn.pipeline import Pipeline\n",
    "from sklearn.feature_extraction.text import TfidfVectorizer\n",
    "from sklearn.naive_bayes import MultinomialNB, ComplementNB\n",
    "from sklearn.svm import LinearSVC\n",
    "from sklearn.metrics import accuracy_score, classification_report "
   ]
  },
  {
   "cell_type": "code",
   "execution_count": 9,
   "id": "ef956172",
   "metadata": {
    "execution": {
     "iopub.execute_input": "2024-10-14T15:41:33.220789Z",
     "iopub.status.busy": "2024-10-14T15:41:33.220318Z",
     "iopub.status.idle": "2024-10-14T15:41:33.227595Z",
     "shell.execute_reply": "2024-10-14T15:41:33.226444Z"
    },
    "papermill": {
     "duration": 0.018465,
     "end_time": "2024-10-14T15:41:33.229990",
     "exception": false,
     "start_time": "2024-10-14T15:41:33.211525",
     "status": "completed"
    },
    "tags": []
   },
   "outputs": [],
   "source": [
    "# Define pipelines for different models\n",
    "pipeMNB = Pipeline([('tfidf', TfidfVectorizer(stop_words='english')), ('clf', MultinomialNB())])\n",
    "pipeCNB = Pipeline([('tfidf', TfidfVectorizer(ngram_range=(1,3))), ('clf', ComplementNB())])\n",
    "pipeSVC = Pipeline([('tfidf', TfidfVectorizer(ngram_range=(1,3))), ('clf', LinearSVC())])"
   ]
  },
  {
   "cell_type": "code",
   "execution_count": 10,
   "id": "e999340d",
   "metadata": {
    "execution": {
     "iopub.execute_input": "2024-10-14T15:41:33.246510Z",
     "iopub.status.busy": "2024-10-14T15:41:33.246035Z",
     "iopub.status.idle": "2024-10-14T15:41:33.254427Z",
     "shell.execute_reply": "2024-10-14T15:41:33.253175Z"
    },
    "papermill": {
     "duration": 0.019553,
     "end_time": "2024-10-14T15:41:33.256920",
     "exception": false,
     "start_time": "2024-10-14T15:41:33.237367",
     "status": "completed"
    },
    "tags": []
   },
   "outputs": [
    {
     "name": "stdout",
     "output_type": "stream",
     "text": [
      "Reviews     0\n",
      "Category    0\n",
      "dtype: int64\n"
     ]
    }
   ],
   "source": [
    "print(df.isnull().sum())"
   ]
  },
  {
   "cell_type": "code",
   "execution_count": 11,
   "id": "8b52f123",
   "metadata": {
    "execution": {
     "iopub.execute_input": "2024-10-14T15:41:33.273847Z",
     "iopub.status.busy": "2024-10-14T15:41:33.273363Z",
     "iopub.status.idle": "2024-10-14T15:41:33.280051Z",
     "shell.execute_reply": "2024-10-14T15:41:33.278861Z"
    },
    "papermill": {
     "duration": 0.018161,
     "end_time": "2024-10-14T15:41:33.282688",
     "exception": false,
     "start_time": "2024-10-14T15:41:33.264527",
     "status": "completed"
    },
    "tags": []
   },
   "outputs": [],
   "source": [
    "df['Reviews'] = df['Reviews'].fillna('')"
   ]
  },
  {
   "cell_type": "code",
   "execution_count": 12,
   "id": "96df32a4",
   "metadata": {
    "execution": {
     "iopub.execute_input": "2024-10-14T15:41:33.299795Z",
     "iopub.status.busy": "2024-10-14T15:41:33.299334Z",
     "iopub.status.idle": "2024-10-14T15:41:33.305399Z",
     "shell.execute_reply": "2024-10-14T15:41:33.304237Z"
    },
    "papermill": {
     "duration": 0.017336,
     "end_time": "2024-10-14T15:41:33.307703",
     "exception": false,
     "start_time": "2024-10-14T15:41:33.290367",
     "status": "completed"
    },
    "tags": []
   },
   "outputs": [],
   "source": [
    "df['Reviews'] = df['Reviews'].astype(str)"
   ]
  },
  {
   "cell_type": "code",
   "execution_count": 13,
   "id": "b8acb504",
   "metadata": {
    "execution": {
     "iopub.execute_input": "2024-10-14T15:41:33.324543Z",
     "iopub.status.busy": "2024-10-14T15:41:33.324046Z",
     "iopub.status.idle": "2024-10-14T15:41:33.330692Z",
     "shell.execute_reply": "2024-10-14T15:41:33.329603Z"
    },
    "papermill": {
     "duration": 0.018538,
     "end_time": "2024-10-14T15:41:33.333784",
     "exception": false,
     "start_time": "2024-10-14T15:41:33.315246",
     "status": "completed"
    },
    "tags": []
   },
   "outputs": [
    {
     "name": "stdout",
     "output_type": "stream",
     "text": [
      "0\n",
      "object\n"
     ]
    }
   ],
   "source": [
    "print(X_train.isnull().sum())  # Check for remaining missing values\n",
    "print(X_train.dtypes)          # Check data types"
   ]
  },
  {
   "cell_type": "code",
   "execution_count": 14,
   "id": "bbf5b338",
   "metadata": {
    "execution": {
     "iopub.execute_input": "2024-10-14T15:41:33.350763Z",
     "iopub.status.busy": "2024-10-14T15:41:33.350312Z",
     "iopub.status.idle": "2024-10-14T15:41:33.580879Z",
     "shell.execute_reply": "2024-10-14T15:41:33.579650Z"
    },
    "papermill": {
     "duration": 0.242337,
     "end_time": "2024-10-14T15:41:33.583530",
     "exception": false,
     "start_time": "2024-10-14T15:41:33.341193",
     "status": "completed"
    },
    "tags": []
   },
   "outputs": [
    {
     "name": "stdout",
     "output_type": "stream",
     "text": [
      "MNB Accuracy: 0.62\n",
      "CNB Accuracy: 0.66\n",
      "SVC Accuracy: 0.68\n"
     ]
    }
   ],
   "source": [
    "pipeMNB.fit(X_train, Y_train)\n",
    "predictMNB = pipeMNB.predict(X_test)\n",
    "print(f\"MNB Accuracy: {accuracy_score(Y_test, predictMNB):.2f}\")\n",
    "\n",
    "pipeCNB.fit(X_train, Y_train)\n",
    "predictCNB = pipeCNB.predict(X_test)\n",
    "print(f\"CNB Accuracy: {accuracy_score(Y_test, predictCNB):.2f}\")\n",
    "\n",
    "pipeSVC.fit(X_train, Y_train)\n",
    "predictSVC = pipeSVC.predict(X_test)\n",
    "print(f\"SVC Accuracy: {accuracy_score(Y_test, predictSVC):.2f}\")"
   ]
  },
  {
   "cell_type": "code",
   "execution_count": 15,
   "id": "ad8e7626",
   "metadata": {
    "execution": {
     "iopub.execute_input": "2024-10-14T15:41:33.601030Z",
     "iopub.status.busy": "2024-10-14T15:41:33.600567Z",
     "iopub.status.idle": "2024-10-14T15:41:36.393953Z",
     "shell.execute_reply": "2024-10-14T15:41:36.392860Z"
    },
    "papermill": {
     "duration": 2.805605,
     "end_time": "2024-10-14T15:41:36.396976",
     "exception": false,
     "start_time": "2024-10-14T15:41:33.591371",
     "status": "completed"
    },
    "tags": []
   },
   "outputs": [
    {
     "name": "stdout",
     "output_type": "stream",
     "text": [
      "XGB Accuracy: 0.74\n"
     ]
    }
   ],
   "source": [
    "from sklearn.preprocessing import LabelEncoder\n",
    "from xgboost import XGBClassifier\n",
    "from sklearn.pipeline import Pipeline\n",
    "from sklearn.feature_extraction.text import TfidfVectorizer\n",
    "\n",
    "# Encode the target labels\n",
    "label_encoder = LabelEncoder()\n",
    "Y_train_encoded = label_encoder.fit_transform(Y_train)\n",
    "Y_test_encoded = label_encoder.transform(Y_test)\n",
    "\n",
    "# XGBoost pipeline\n",
    "pipeXGB = Pipeline([('tfidf', TfidfVectorizer(ngram_range=(1, 2))),\n",
    "                    ('clf', XGBClassifier(use_label_encoder=False, eval_metric='mlogloss'))])\n",
    "\n",
    "# Train the model\n",
    "pipeXGB.fit(X_train, Y_train_encoded)\n",
    "predictXGB = pipeXGB.predict(X_test)\n",
    "\n",
    "# Decode the predictions back to original labels\n",
    "predictXGB_decoded = label_encoder.inverse_transform(predictXGB)\n",
    "\n",
    "# Print accuracy\n",
    "print(f\"XGB Accuracy: {accuracy_score(Y_test, predictXGB_decoded):.2f}\")\n"
   ]
  },
  {
   "cell_type": "code",
   "execution_count": 16,
   "id": "a83d1c6e",
   "metadata": {
    "execution": {
     "iopub.execute_input": "2024-10-14T15:41:36.416662Z",
     "iopub.status.busy": "2024-10-14T15:41:36.415845Z",
     "iopub.status.idle": "2024-10-14T15:41:36.426329Z",
     "shell.execute_reply": "2024-10-14T15:41:36.425327Z"
    },
    "papermill": {
     "duration": 0.025502,
     "end_time": "2024-10-14T15:41:36.431900",
     "exception": false,
     "start_time": "2024-10-14T15:41:36.406398",
     "status": "completed"
    },
    "tags": []
   },
   "outputs": [
    {
     "data": {
      "text/plain": [
       "array([1])"
      ]
     },
     "execution_count": 16,
     "metadata": {},
     "output_type": "execute_result"
    }
   ],
   "source": [
    "msg = \"There was a big queue in ticketing office and tickets were expensive\"\n",
    "pipeXGB.predict([msg]) "
   ]
  },
  {
   "cell_type": "code",
   "execution_count": null,
   "id": "6be4e663",
   "metadata": {
    "papermill": {
     "duration": 0.008065,
     "end_time": "2024-10-14T15:41:36.449457",
     "exception": false,
     "start_time": "2024-10-14T15:41:36.441392",
     "status": "completed"
    },
    "tags": []
   },
   "outputs": [],
   "source": []
  }
 ],
 "metadata": {
  "kaggle": {
   "accelerator": "none",
   "dataSources": [
    {
     "datasetId": 5874592,
     "sourceId": 9624234,
     "sourceType": "datasetVersion"
    }
   ],
   "dockerImageVersionId": 30761,
   "isGpuEnabled": false,
   "isInternetEnabled": false,
   "language": "python",
   "sourceType": "notebook"
  },
  "kernelspec": {
   "display_name": "Python 3",
   "language": "python",
   "name": "python3"
  },
  "language_info": {
   "codemirror_mode": {
    "name": "ipython",
    "version": 3
   },
   "file_extension": ".py",
   "mimetype": "text/x-python",
   "name": "python",
   "nbconvert_exporter": "python",
   "pygments_lexer": "ipython3",
   "version": "3.10.14"
  },
  "papermill": {
   "default_parameters": {},
   "duration": 10.227172,
   "end_time": "2024-10-14T15:41:37.180225",
   "environment_variables": {},
   "exception": null,
   "input_path": "__notebook__.ipynb",
   "output_path": "__notebook__.ipynb",
   "parameters": {},
   "start_time": "2024-10-14T15:41:26.953053",
   "version": "2.6.0"
  }
 },
 "nbformat": 4,
 "nbformat_minor": 5
}
