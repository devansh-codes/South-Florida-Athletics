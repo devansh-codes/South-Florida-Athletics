{
 "cells": [
  {
   "cell_type": "code",
   "execution_count": 1,
   "id": "9c06d327",
   "metadata": {
    "_cell_guid": "b1076dfc-b9ad-4769-8c92-a6c4dae69d19",
    "_uuid": "8f2839f25d086af736a60e9eeb907d3b93b6e0e5",
    "execution": {
     "iopub.execute_input": "2024-09-30T17:01:46.913033Z",
     "iopub.status.busy": "2024-09-30T17:01:46.912600Z",
     "iopub.status.idle": "2024-09-30T17:01:47.794991Z",
     "shell.execute_reply": "2024-09-30T17:01:47.793762Z"
    },
    "papermill": {
     "duration": 0.893322,
     "end_time": "2024-09-30T17:01:47.797482",
     "exception": false,
     "start_time": "2024-09-30T17:01:46.904160",
     "status": "completed"
    },
    "tags": []
   },
   "outputs": [
    {
     "name": "stdout",
     "output_type": "stream",
     "text": [
      "/kaggle/input/updated-athletics-data/Collected Data - Sheet1.csv\n"
     ]
    }
   ],
   "source": [
    "# This Python 3 environment comes with many helpful analytics libraries installed\n",
    "# It is defined by the kaggle/python Docker image: https://github.com/kaggle/docker-python\n",
    "# For example, here's several helpful packages to load\n",
    "\n",
    "import numpy as np # linear algebra\n",
    "import pandas as pd # data processing, CSV file I/O (e.g. pd.read_csv)\n",
    "\n",
    "# Input data files are available in the read-only \"../input/\" directory\n",
    "# For example, running this (by clicking run or pressing Shift+Enter) will list all files under the input directory\n",
    "\n",
    "import os\n",
    "for dirname, _, filenames in os.walk('/kaggle/input'):\n",
    "    for filename in filenames:\n",
    "        print(os.path.join(dirname, filename))\n",
    "\n",
    "# You can write up to 20GB to the current directory (/kaggle/working/) that gets preserved as output when you create a version using \"Save & Run All\" \n",
    "# You can also write temporary files to /kaggle/temp/, but they won't be saved outside of the current session"
   ]
  },
  {
   "cell_type": "code",
   "execution_count": 2,
   "id": "bfffbf49",
   "metadata": {
    "execution": {
     "iopub.execute_input": "2024-09-30T17:01:47.812642Z",
     "iopub.status.busy": "2024-09-30T17:01:47.811265Z",
     "iopub.status.idle": "2024-09-30T17:01:47.819314Z",
     "shell.execute_reply": "2024-09-30T17:01:47.817999Z"
    },
    "papermill": {
     "duration": 0.017961,
     "end_time": "2024-09-30T17:01:47.821765",
     "exception": false,
     "start_time": "2024-09-30T17:01:47.803804",
     "status": "completed"
    },
    "tags": []
   },
   "outputs": [
    {
     "name": "stdout",
     "output_type": "stream",
     "text": [
      "/kaggle/input/updated-athletics-data/Collected Data - Sheet1.csv\n"
     ]
    }
   ],
   "source": [
    "import os\n",
    "for dirname, _, filenames in os.walk('/kaggle/input'):\n",
    "    for filename in filenames:\n",
    "        print(os.path.join(dirname, filename))"
   ]
  },
  {
   "cell_type": "code",
   "execution_count": 3,
   "id": "9f564360",
   "metadata": {
    "execution": {
     "iopub.execute_input": "2024-09-30T17:01:47.835752Z",
     "iopub.status.busy": "2024-09-30T17:01:47.835383Z",
     "iopub.status.idle": "2024-09-30T17:01:47.870545Z",
     "shell.execute_reply": "2024-09-30T17:01:47.869429Z"
    },
    "papermill": {
     "duration": 0.045141,
     "end_time": "2024-09-30T17:01:47.873112",
     "exception": false,
     "start_time": "2024-09-30T17:01:47.827971",
     "status": "completed"
    },
    "tags": []
   },
   "outputs": [
    {
     "data": {
      "text/plain": [
       "<bound method NDFrame.head of                                               Reviews    Categories\n",
       "0   If you have any additional thoughts, comments ...  Fan Services\n",
       "1   Make sure there is enough seats for students a...  Fan Services\n",
       "2   I am extremely disappointed that you chose NOT...  Fan Services\n",
       "3   I cannot see parts of the game with the 3 larg...  Fan Services\n",
       "4   Free things for students - food, giveaways, et...  Fan Services\n",
       "..                                                ...           ...\n",
       "75             I thought the crowd was tremendous!!!!  Fan Services\n",
       "76                             Underwhelming overall.  Fan Services\n",
       "77  PA Announcer is too loud and it's shocking aft...  Fan Services\n",
       "78  Felt there should be more commentary. It is fe...  Fan Services\n",
       "79  Low price of tickets and no parking fee is suc...     Ticketing\n",
       "\n",
       "[80 rows x 2 columns]>"
      ]
     },
     "execution_count": 3,
     "metadata": {},
     "output_type": "execute_result"
    }
   ],
   "source": [
    "df = pd.read_csv('/kaggle/input/updated-athletics-data/Collected Data - Sheet1.csv')\n",
    "df.head"
   ]
  },
  {
   "cell_type": "code",
   "execution_count": 4,
   "id": "3d167799",
   "metadata": {
    "execution": {
     "iopub.execute_input": "2024-09-30T17:01:47.887483Z",
     "iopub.status.busy": "2024-09-30T17:01:47.887037Z",
     "iopub.status.idle": "2024-09-30T17:01:47.900134Z",
     "shell.execute_reply": "2024-09-30T17:01:47.899138Z"
    },
    "papermill": {
     "duration": 0.023061,
     "end_time": "2024-09-30T17:01:47.902466",
     "exception": false,
     "start_time": "2024-09-30T17:01:47.879405",
     "status": "completed"
    },
    "tags": []
   },
   "outputs": [
    {
     "data": {
      "text/plain": [
       "Categories\n",
       "Fan Services    50\n",
       "Ticketing       14\n",
       "Parking          9\n",
       "Concessions      7\n",
       "Name: count, dtype: int64"
      ]
     },
     "execution_count": 4,
     "metadata": {},
     "output_type": "execute_result"
    }
   ],
   "source": [
    "df['Categories'].value_counts()"
   ]
  },
  {
   "cell_type": "code",
   "execution_count": 5,
   "id": "6e9fa20b",
   "metadata": {
    "execution": {
     "iopub.execute_input": "2024-09-30T17:01:47.917024Z",
     "iopub.status.busy": "2024-09-30T17:01:47.916598Z",
     "iopub.status.idle": "2024-09-30T17:01:47.923918Z",
     "shell.execute_reply": "2024-09-30T17:01:47.922918Z"
    },
    "papermill": {
     "duration": 0.017818,
     "end_time": "2024-09-30T17:01:47.926622",
     "exception": false,
     "start_time": "2024-09-30T17:01:47.908804",
     "status": "completed"
    },
    "tags": []
   },
   "outputs": [
    {
     "data": {
      "text/plain": [
       "80"
      ]
     },
     "execution_count": 5,
     "metadata": {},
     "output_type": "execute_result"
    }
   ],
   "source": [
    "# Split into features (reviews) and labels (categories)\n",
    "X = df['Reviews']\n",
    "Y = df['Categories']\n",
    "len(X)"
   ]
  },
  {
   "cell_type": "code",
   "execution_count": 6,
   "id": "a80d56fe",
   "metadata": {
    "execution": {
     "iopub.execute_input": "2024-09-30T17:01:47.941751Z",
     "iopub.status.busy": "2024-09-30T17:01:47.941351Z",
     "iopub.status.idle": "2024-09-30T17:01:49.285721Z",
     "shell.execute_reply": "2024-09-30T17:01:49.284532Z"
    },
    "papermill": {
     "duration": 1.355381,
     "end_time": "2024-09-30T17:01:49.288604",
     "exception": false,
     "start_time": "2024-09-30T17:01:47.933223",
     "status": "completed"
    },
    "tags": []
   },
   "outputs": [],
   "source": [
    "# Split the data into training and test sets\n",
    "from sklearn.model_selection import train_test_split\n",
    "X_train, X_test, Y_train, Y_test = train_test_split(X, Y, test_size=0.2, random_state=22)"
   ]
  },
  {
   "cell_type": "code",
   "execution_count": 7,
   "id": "8413c9f8",
   "metadata": {
    "execution": {
     "iopub.execute_input": "2024-09-30T17:01:49.304767Z",
     "iopub.status.busy": "2024-09-30T17:01:49.303653Z",
     "iopub.status.idle": "2024-09-30T17:01:49.497848Z",
     "shell.execute_reply": "2024-09-30T17:01:49.496911Z"
    },
    "papermill": {
     "duration": 0.204901,
     "end_time": "2024-09-30T17:01:49.500520",
     "exception": false,
     "start_time": "2024-09-30T17:01:49.295619",
     "status": "completed"
    },
    "tags": []
   },
   "outputs": [],
   "source": [
    "from sklearn.pipeline import Pipeline\n",
    "from sklearn.feature_extraction.text import TfidfVectorizer\n",
    "from sklearn.naive_bayes import MultinomialNB, ComplementNB\n",
    "from sklearn.svm import LinearSVC\n",
    "from sklearn.metrics import accuracy_score, classification_report "
   ]
  },
  {
   "cell_type": "code",
   "execution_count": 8,
   "id": "e47a96d7",
   "metadata": {
    "execution": {
     "iopub.execute_input": "2024-09-30T17:01:49.516459Z",
     "iopub.status.busy": "2024-09-30T17:01:49.515997Z",
     "iopub.status.idle": "2024-09-30T17:01:49.522869Z",
     "shell.execute_reply": "2024-09-30T17:01:49.521763Z"
    },
    "papermill": {
     "duration": 0.017391,
     "end_time": "2024-09-30T17:01:49.525140",
     "exception": false,
     "start_time": "2024-09-30T17:01:49.507749",
     "status": "completed"
    },
    "tags": []
   },
   "outputs": [],
   "source": [
    "# Define pipelines for different models\n",
    "pipeMNB = Pipeline([('tfidf', TfidfVectorizer(stop_words='english')), ('clf', MultinomialNB())])\n",
    "pipeCNB = Pipeline([('tfidf', TfidfVectorizer(ngram_range=(1,3))), ('clf', ComplementNB())])\n",
    "pipeSVC = Pipeline([('tfidf', TfidfVectorizer(ngram_range=(1,3))), ('clf', LinearSVC())])"
   ]
  },
  {
   "cell_type": "code",
   "execution_count": 9,
   "id": "753fb540",
   "metadata": {
    "execution": {
     "iopub.execute_input": "2024-09-30T17:01:49.540036Z",
     "iopub.status.busy": "2024-09-30T17:01:49.539621Z",
     "iopub.status.idle": "2024-09-30T17:01:49.548287Z",
     "shell.execute_reply": "2024-09-30T17:01:49.547108Z"
    },
    "papermill": {
     "duration": 0.019518,
     "end_time": "2024-09-30T17:01:49.551167",
     "exception": false,
     "start_time": "2024-09-30T17:01:49.531649",
     "status": "completed"
    },
    "tags": []
   },
   "outputs": [
    {
     "name": "stdout",
     "output_type": "stream",
     "text": [
      "Reviews       0\n",
      "Categories    0\n",
      "dtype: int64\n"
     ]
    }
   ],
   "source": [
    "print(df.isnull().sum())"
   ]
  },
  {
   "cell_type": "code",
   "execution_count": 10,
   "id": "2de0ac72",
   "metadata": {
    "execution": {
     "iopub.execute_input": "2024-09-30T17:01:49.567652Z",
     "iopub.status.busy": "2024-09-30T17:01:49.566622Z",
     "iopub.status.idle": "2024-09-30T17:01:49.573031Z",
     "shell.execute_reply": "2024-09-30T17:01:49.571854Z"
    },
    "papermill": {
     "duration": 0.017419,
     "end_time": "2024-09-30T17:01:49.575478",
     "exception": false,
     "start_time": "2024-09-30T17:01:49.558059",
     "status": "completed"
    },
    "tags": []
   },
   "outputs": [],
   "source": [
    "df['Reviews'] = df['Reviews'].fillna('')"
   ]
  },
  {
   "cell_type": "code",
   "execution_count": 11,
   "id": "71d13d0d",
   "metadata": {
    "execution": {
     "iopub.execute_input": "2024-09-30T17:01:49.590895Z",
     "iopub.status.busy": "2024-09-30T17:01:49.590449Z",
     "iopub.status.idle": "2024-09-30T17:01:49.596410Z",
     "shell.execute_reply": "2024-09-30T17:01:49.595162Z"
    },
    "papermill": {
     "duration": 0.01658,
     "end_time": "2024-09-30T17:01:49.598890",
     "exception": false,
     "start_time": "2024-09-30T17:01:49.582310",
     "status": "completed"
    },
    "tags": []
   },
   "outputs": [],
   "source": [
    "df['Reviews'] = df['Reviews'].astype(str)"
   ]
  },
  {
   "cell_type": "code",
   "execution_count": 12,
   "id": "b61a5b04",
   "metadata": {
    "execution": {
     "iopub.execute_input": "2024-09-30T17:01:49.615030Z",
     "iopub.status.busy": "2024-09-30T17:01:49.613991Z",
     "iopub.status.idle": "2024-09-30T17:01:49.620672Z",
     "shell.execute_reply": "2024-09-30T17:01:49.619549Z"
    },
    "papermill": {
     "duration": 0.017872,
     "end_time": "2024-09-30T17:01:49.623595",
     "exception": false,
     "start_time": "2024-09-30T17:01:49.605723",
     "status": "completed"
    },
    "tags": []
   },
   "outputs": [
    {
     "name": "stdout",
     "output_type": "stream",
     "text": [
      "0\n",
      "object\n"
     ]
    }
   ],
   "source": [
    "print(X_train.isnull().sum())  # Check for remaining missing values\n",
    "print(X_train.dtypes)          # Check data types"
   ]
  },
  {
   "cell_type": "code",
   "execution_count": 13,
   "id": "3ba73dbf",
   "metadata": {
    "execution": {
     "iopub.execute_input": "2024-09-30T17:01:49.639349Z",
     "iopub.status.busy": "2024-09-30T17:01:49.638881Z",
     "iopub.status.idle": "2024-09-30T17:01:49.714461Z",
     "shell.execute_reply": "2024-09-30T17:01:49.713210Z"
    },
    "papermill": {
     "duration": 0.086467,
     "end_time": "2024-09-30T17:01:49.716945",
     "exception": false,
     "start_time": "2024-09-30T17:01:49.630478",
     "status": "completed"
    },
    "tags": []
   },
   "outputs": [
    {
     "name": "stdout",
     "output_type": "stream",
     "text": [
      "MNB Accuracy: 0.56\n",
      "CNB Accuracy: 0.62\n",
      "SVC Accuracy: 0.56\n"
     ]
    }
   ],
   "source": [
    "pipeMNB.fit(X_train, Y_train)\n",
    "predictMNB = pipeMNB.predict(X_test)\n",
    "print(f\"MNB Accuracy: {accuracy_score(Y_test, predictMNB):.2f}\")\n",
    "\n",
    "pipeCNB.fit(X_train, Y_train)\n",
    "predictCNB = pipeCNB.predict(X_test)\n",
    "print(f\"CNB Accuracy: {accuracy_score(Y_test, predictCNB):.2f}\")\n",
    "\n",
    "pipeSVC.fit(X_train, Y_train)\n",
    "predictSVC = pipeSVC.predict(X_test)\n",
    "print(f\"SVC Accuracy: {accuracy_score(Y_test, predictSVC):.2f}\")"
   ]
  },
  {
   "cell_type": "code",
   "execution_count": 14,
   "id": "086edd39",
   "metadata": {
    "execution": {
     "iopub.execute_input": "2024-09-30T17:01:49.733428Z",
     "iopub.status.busy": "2024-09-30T17:01:49.732440Z",
     "iopub.status.idle": "2024-09-30T17:01:50.830248Z",
     "shell.execute_reply": "2024-09-30T17:01:50.829252Z"
    },
    "papermill": {
     "duration": 1.108671,
     "end_time": "2024-09-30T17:01:50.832897",
     "exception": false,
     "start_time": "2024-09-30T17:01:49.724226",
     "status": "completed"
    },
    "tags": []
   },
   "outputs": [
    {
     "name": "stdout",
     "output_type": "stream",
     "text": [
      "XGB Accuracy: 0.88\n"
     ]
    }
   ],
   "source": [
    "from sklearn.preprocessing import LabelEncoder\n",
    "from xgboost import XGBClassifier\n",
    "from sklearn.pipeline import Pipeline\n",
    "from sklearn.feature_extraction.text import TfidfVectorizer\n",
    "\n",
    "# Encode the target labels\n",
    "label_encoder = LabelEncoder()\n",
    "Y_train_encoded = label_encoder.fit_transform(Y_train)\n",
    "Y_test_encoded = label_encoder.transform(Y_test)\n",
    "\n",
    "# XGBoost pipeline\n",
    "pipeXGB = Pipeline([('tfidf', TfidfVectorizer(ngram_range=(1, 2), stop_words = 'english')),\n",
    "                    ('clf', XGBClassifier(use_label_encoder=False, eval_metric='mlogloss'))])\n",
    "\n",
    "# Train the model\n",
    "pipeXGB.fit(X_train, Y_train_encoded)\n",
    "predictXGB = pipeXGB.predict(X_test)\n",
    "\n",
    "# Decode the predictions back to original labels\n",
    "predictXGB_decoded = label_encoder.inverse_transform(predictXGB)\n",
    "\n",
    "# Print accuracy\n",
    "print(f\"XGB Accuracy: {accuracy_score(Y_test, predictXGB_decoded):.2f}\")\n"
   ]
  },
  {
   "cell_type": "code",
   "execution_count": 15,
   "id": "ad4336d1",
   "metadata": {
    "execution": {
     "iopub.execute_input": "2024-09-30T17:01:50.851995Z",
     "iopub.status.busy": "2024-09-30T17:01:50.851569Z",
     "iopub.status.idle": "2024-09-30T17:01:50.996839Z",
     "shell.execute_reply": "2024-09-30T17:01:50.995283Z"
    },
    "papermill": {
     "duration": 0.158145,
     "end_time": "2024-09-30T17:01:50.999405",
     "exception": false,
     "start_time": "2024-09-30T17:01:50.841260",
     "status": "completed"
    },
    "tags": []
   },
   "outputs": [
    {
     "name": "stdout",
     "output_type": "stream",
     "text": [
      "LR Accuracy: 0.56\n"
     ]
    }
   ],
   "source": [
    "from sklearn.linear_model import LogisticRegression\n",
    "from sklearn.feature_selection import SelectKBest, chi2 \n",
    "\n",
    "# Logistic Regression pipeline\n",
    "pipeLR = Pipeline([('tfidf', TfidfVectorizer(ngram_range=(1, 3), stop_words='english')),\n",
    "                   ('select', SelectKBest(chi2, k=1000)),\n",
    "                   ('clf', LogisticRegression(max_iter=1000))])\n",
    "\n",
    "pipeLR.fit(X_train, Y_train)\n",
    "predictLR = pipeLR.predict(X_test)\n",
    "print(f\"LR Accuracy: {accuracy_score(Y_test, predictLR):.2f}\")"
   ]
  },
  {
   "cell_type": "code",
   "execution_count": 16,
   "id": "1c66f462",
   "metadata": {
    "execution": {
     "iopub.execute_input": "2024-09-30T17:01:51.015766Z",
     "iopub.status.busy": "2024-09-30T17:01:51.015266Z",
     "iopub.status.idle": "2024-09-30T17:01:51.390003Z",
     "shell.execute_reply": "2024-09-30T17:01:51.388554Z"
    },
    "papermill": {
     "duration": 0.386127,
     "end_time": "2024-09-30T17:01:51.392653",
     "exception": false,
     "start_time": "2024-09-30T17:01:51.006526",
     "status": "completed"
    },
    "tags": []
   },
   "outputs": [
    {
     "name": "stdout",
     "output_type": "stream",
     "text": [
      "RF Accuracy: 0.62\n"
     ]
    }
   ],
   "source": [
    "from sklearn.ensemble import RandomForestClassifier\n",
    " \n",
    "    \n",
    "\n",
    "# Random Forest pipeline\n",
    "pipeRF = Pipeline([('tfidf', TfidfVectorizer(ngram_range=(1, 3), stop_words='english')),\n",
    "                   ('clf', RandomForestClassifier())])\n",
    "\n",
    "pipeRF.fit(X_train, Y_train)\n",
    "predictRF = pipeRF.predict(X_test)\n",
    "print(f\"RF Accuracy: {accuracy_score(Y_test, predictRF):.2f}\")"
   ]
  }
 ],
 "metadata": {
  "kaggle": {
   "accelerator": "none",
   "dataSources": [
    {
     "datasetId": 5754947,
     "sourceId": 9464940,
     "sourceType": "datasetVersion"
    }
   ],
   "dockerImageVersionId": 30761,
   "isGpuEnabled": false,
   "isInternetEnabled": false,
   "language": "python",
   "sourceType": "notebook"
  },
  "kernelspec": {
   "display_name": "Python 3",
   "language": "python",
   "name": "python3"
  },
  "language_info": {
   "codemirror_mode": {
    "name": "ipython",
    "version": 3
   },
   "file_extension": ".py",
   "mimetype": "text/x-python",
   "name": "python",
   "nbconvert_exporter": "python",
   "pygments_lexer": "ipython3",
   "version": "3.10.14"
  },
  "papermill": {
   "default_parameters": {},
   "duration": 8.503524,
   "end_time": "2024-09-30T17:01:52.020887",
   "environment_variables": {},
   "exception": null,
   "input_path": "__notebook__.ipynb",
   "output_path": "__notebook__.ipynb",
   "parameters": {},
   "start_time": "2024-09-30T17:01:43.517363",
   "version": "2.6.0"
  }
 },
 "nbformat": 4,
 "nbformat_minor": 5
}
