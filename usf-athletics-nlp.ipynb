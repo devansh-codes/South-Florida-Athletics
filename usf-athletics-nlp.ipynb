{
 "cells": [
  {
   "cell_type": "code",
   "execution_count": 1,
   "id": "bdad5ae1",
   "metadata": {
    "_cell_guid": "b1076dfc-b9ad-4769-8c92-a6c4dae69d19",
    "_uuid": "8f2839f25d086af736a60e9eeb907d3b93b6e0e5",
    "execution": {
     "iopub.execute_input": "2024-10-25T16:55:03.319379Z",
     "iopub.status.busy": "2024-10-25T16:55:03.318968Z",
     "iopub.status.idle": "2024-10-25T16:55:04.289089Z",
     "shell.execute_reply": "2024-10-25T16:55:04.287816Z"
    },
    "papermill": {
     "duration": 0.981207,
     "end_time": "2024-10-25T16:55:04.291747",
     "exception": false,
     "start_time": "2024-10-25T16:55:03.310540",
     "status": "completed"
    },
    "tags": []
   },
   "outputs": [
    {
     "name": "stdout",
     "output_type": "stream",
     "text": [
      "/kaggle/input/dataseven/Data.xlsx\n",
      "/kaggle/input/data-eight/Data.xlsx\n",
      "/kaggle/input/testingdata2/UABComments.csv\n"
     ]
    }
   ],
   "source": [
    "# This Python 3 environment comes with many helpful analytics libraries installed\n",
    "# It is defined by the kaggle/python Docker image: https://github.com/kaggle/docker-python\n",
    "# For example, here's several helpful packages to load\n",
    "\n",
    "import numpy as np # linear algebra\n",
    "import pandas as pd # data processing, CSV file I/O (e.g. pd.read_csv)\n",
    "\n",
    "# Input data files are available in the read-only \"../input/\" directory\n",
    "# For example, running this (by clicking run or pressing Shift+Enter) will list all files under the input directory\n",
    "\n",
    "import os\n",
    "for dirname, _, filenames in os.walk('/kaggle/input'): \n",
    "    for filename in filenames:\n",
    "        print(os.path.join(dirname, filename))\n",
    "\n",
    "# You can write up to 20GB to the current directory (/kaggle/working/) that gets preserved as output when you create a version using \"Save & Run All\" \n",
    "# You can also write temporary files to /kaggle/temp/, but they won't be saved outside of the current session"
   ]
  },
  {
   "cell_type": "code",
   "execution_count": 2,
   "id": "58a0343c",
   "metadata": {
    "execution": {
     "iopub.execute_input": "2024-10-25T16:55:04.306526Z",
     "iopub.status.busy": "2024-10-25T16:55:04.305961Z",
     "iopub.status.idle": "2024-10-25T16:55:04.317661Z",
     "shell.execute_reply": "2024-10-25T16:55:04.316056Z"
    },
    "papermill": {
     "duration": 0.021709,
     "end_time": "2024-10-25T16:55:04.320159",
     "exception": false,
     "start_time": "2024-10-25T16:55:04.298450",
     "status": "completed"
    },
    "tags": []
   },
   "outputs": [
    {
     "name": "stdout",
     "output_type": "stream",
     "text": [
      "/kaggle/input/dataseven/Data.xlsx\n",
      "/kaggle/input/data-eight/Data.xlsx\n",
      "/kaggle/input/testingdata2/UABComments.csv\n"
     ]
    }
   ],
   "source": [
    "import os\n",
    "for dirname, _, filenames in os.walk('/kaggle/input'):\n",
    "    for filename in filenames:\n",
    "        print(os.path.join(dirname, filename))"
   ]
  },
  {
   "cell_type": "code",
   "execution_count": 3,
   "id": "9626c9f4",
   "metadata": {
    "execution": {
     "iopub.execute_input": "2024-10-25T16:55:04.334296Z",
     "iopub.status.busy": "2024-10-25T16:55:04.333871Z",
     "iopub.status.idle": "2024-10-25T16:55:04.753560Z",
     "shell.execute_reply": "2024-10-25T16:55:04.752317Z"
    },
    "papermill": {
     "duration": 0.429896,
     "end_time": "2024-10-25T16:55:04.756298",
     "exception": false,
     "start_time": "2024-10-25T16:55:04.326402",
     "status": "completed"
    },
    "tags": []
   },
   "outputs": [
    {
     "data": {
      "text/html": [
       "<div>\n",
       "<style scoped>\n",
       "    .dataframe tbody tr th:only-of-type {\n",
       "        vertical-align: middle;\n",
       "    }\n",
       "\n",
       "    .dataframe tbody tr th {\n",
       "        vertical-align: top;\n",
       "    }\n",
       "\n",
       "    .dataframe thead th {\n",
       "        text-align: right;\n",
       "    }\n",
       "</style>\n",
       "<table border=\"1\" class=\"dataframe\">\n",
       "  <thead>\n",
       "    <tr style=\"text-align: right;\">\n",
       "      <th></th>\n",
       "      <th>Reviews</th>\n",
       "      <th>Category</th>\n",
       "    </tr>\n",
       "  </thead>\n",
       "  <tbody>\n",
       "    <tr>\n",
       "      <th>0</th>\n",
       "      <td>Arena club food buffet has really stepped up a...</td>\n",
       "      <td>Concessions</td>\n",
       "    </tr>\n",
       "    <tr>\n",
       "      <th>1</th>\n",
       "      <td>Arena Club staff catering staff very helpful</td>\n",
       "      <td>Concessions</td>\n",
       "    </tr>\n",
       "    <tr>\n",
       "      <th>2</th>\n",
       "      <td>Have never used.</td>\n",
       "      <td>Concessions</td>\n",
       "    </tr>\n",
       "    <tr>\n",
       "      <th>3</th>\n",
       "      <td>Stm meals have been great this year. Please br...</td>\n",
       "      <td>Concessions</td>\n",
       "    </tr>\n",
       "    <tr>\n",
       "      <th>4</th>\n",
       "      <td>We do not buy from the concession.</td>\n",
       "      <td>Concessions</td>\n",
       "    </tr>\n",
       "  </tbody>\n",
       "</table>\n",
       "</div>"
      ],
      "text/plain": [
       "                                             Reviews     Category\n",
       "0  Arena club food buffet has really stepped up a...  Concessions\n",
       "1      Arena Club staff catering staff very helpful   Concessions\n",
       "2                                  Have never used.   Concessions\n",
       "3  Stm meals have been great this year. Please br...  Concessions\n",
       "4                We do not buy from the concession.   Concessions"
      ]
     },
     "execution_count": 3,
     "metadata": {},
     "output_type": "execute_result"
    }
   ],
   "source": [
    "import pandas as pd\n",
    "df = pd.read_excel('/kaggle/input/data-eight/Data.xlsx')\n",
    "df.head()\n"
   ]
  },
  {
   "cell_type": "code",
   "execution_count": 4,
   "id": "725b5f67",
   "metadata": {
    "execution": {
     "iopub.execute_input": "2024-10-25T16:55:04.771433Z",
     "iopub.status.busy": "2024-10-25T16:55:04.770886Z",
     "iopub.status.idle": "2024-10-25T16:55:04.786762Z",
     "shell.execute_reply": "2024-10-25T16:55:04.785219Z"
    },
    "papermill": {
     "duration": 0.026271,
     "end_time": "2024-10-25T16:55:04.789334",
     "exception": false,
     "start_time": "2024-10-25T16:55:04.763063",
     "status": "completed"
    },
    "tags": []
   },
   "outputs": [
    {
     "data": {
      "text/plain": [
       "Category\n",
       "Concessions          270\n",
       "Video Board/Sound     86\n",
       "Cheer                 85\n",
       "Ticketing             79\n",
       "Fac.                  75\n",
       "Marketing             73\n",
       "Parking               68\n",
       "Name: count, dtype: int64"
      ]
     },
     "execution_count": 4,
     "metadata": {},
     "output_type": "execute_result"
    }
   ],
   "source": [
    "df['Category'].value_counts()"
   ]
  },
  {
   "cell_type": "code",
   "execution_count": 5,
   "id": "519587e1",
   "metadata": {
    "execution": {
     "iopub.execute_input": "2024-10-25T16:55:04.804454Z",
     "iopub.status.busy": "2024-10-25T16:55:04.804009Z",
     "iopub.status.idle": "2024-10-25T16:55:04.809857Z",
     "shell.execute_reply": "2024-10-25T16:55:04.808742Z"
    },
    "papermill": {
     "duration": 0.016825,
     "end_time": "2024-10-25T16:55:04.812618",
     "exception": false,
     "start_time": "2024-10-25T16:55:04.795793",
     "status": "completed"
    },
    "tags": []
   },
   "outputs": [
    {
     "name": "stdout",
     "output_type": "stream",
     "text": [
      "Index(['Reviews', 'Category'], dtype='object')\n"
     ]
    }
   ],
   "source": [
    "print(df.columns)"
   ]
  },
  {
   "cell_type": "code",
   "execution_count": 6,
   "id": "078d783c",
   "metadata": {
    "execution": {
     "iopub.execute_input": "2024-10-25T16:55:04.827173Z",
     "iopub.status.busy": "2024-10-25T16:55:04.826769Z",
     "iopub.status.idle": "2024-10-25T16:55:04.834143Z",
     "shell.execute_reply": "2024-10-25T16:55:04.833035Z"
    },
    "papermill": {
     "duration": 0.017493,
     "end_time": "2024-10-25T16:55:04.836558",
     "exception": false,
     "start_time": "2024-10-25T16:55:04.819065",
     "status": "completed"
    },
    "tags": []
   },
   "outputs": [
    {
     "data": {
      "text/plain": [
       "736"
      ]
     },
     "execution_count": 6,
     "metadata": {},
     "output_type": "execute_result"
    }
   ],
   "source": [
    "# Split into features (reviews) and labels (categories)\n",
    "X = df['Reviews']\n",
    "Y = df['Category']\n",
    "len(X)"
   ]
  },
  {
   "cell_type": "code",
   "execution_count": 7,
   "id": "221d7b9a",
   "metadata": {
    "execution": {
     "iopub.execute_input": "2024-10-25T16:55:04.851803Z",
     "iopub.status.busy": "2024-10-25T16:55:04.851373Z",
     "iopub.status.idle": "2024-10-25T16:55:06.532541Z",
     "shell.execute_reply": "2024-10-25T16:55:06.531264Z"
    },
    "papermill": {
     "duration": 1.692938,
     "end_time": "2024-10-25T16:55:06.536057",
     "exception": false,
     "start_time": "2024-10-25T16:55:04.843119",
     "status": "completed"
    },
    "tags": []
   },
   "outputs": [],
   "source": [
    "# Split the data into training and test sets\n",
    "from sklearn.model_selection import train_test_split\n",
    "X_train, X_test, Y_train, Y_test = train_test_split(X, Y, test_size=0.2, random_state=22)"
   ]
  },
  {
   "cell_type": "code",
   "execution_count": 8,
   "id": "7be21666",
   "metadata": {
    "execution": {
     "iopub.execute_input": "2024-10-25T16:55:06.556102Z",
     "iopub.status.busy": "2024-10-25T16:55:06.555527Z",
     "iopub.status.idle": "2024-10-25T16:55:06.679180Z",
     "shell.execute_reply": "2024-10-25T16:55:06.677974Z"
    },
    "papermill": {
     "duration": 0.13564,
     "end_time": "2024-10-25T16:55:06.682095",
     "exception": false,
     "start_time": "2024-10-25T16:55:06.546455",
     "status": "completed"
    },
    "tags": []
   },
   "outputs": [],
   "source": [
    "from sklearn.pipeline import Pipeline\n",
    "from sklearn.feature_extraction.text import TfidfVectorizer\n",
    "from sklearn.naive_bayes import MultinomialNB, ComplementNB\n",
    "from sklearn.svm import LinearSVC\n",
    "from sklearn.metrics import accuracy_score, classification_report "
   ]
  },
  {
   "cell_type": "code",
   "execution_count": 9,
   "id": "af9d66cd",
   "metadata": {
    "execution": {
     "iopub.execute_input": "2024-10-25T16:55:06.697658Z",
     "iopub.status.busy": "2024-10-25T16:55:06.697138Z",
     "iopub.status.idle": "2024-10-25T16:55:06.705584Z",
     "shell.execute_reply": "2024-10-25T16:55:06.704236Z"
    },
    "papermill": {
     "duration": 0.019399,
     "end_time": "2024-10-25T16:55:06.708111",
     "exception": false,
     "start_time": "2024-10-25T16:55:06.688712",
     "status": "completed"
    },
    "tags": []
   },
   "outputs": [],
   "source": [
    "\n",
    "# Define pipelines for different models\n",
    "pipeMNB = Pipeline([('tfidf', TfidfVectorizer(stop_words='english', ngram_range=(1, 2))), ('clf', MultinomialNB())])\n",
    "pipeCNB = Pipeline([('tfidf', TfidfVectorizer(stop_words='english', ngram_range=(1,3))), ('clf', ComplementNB())])\n",
    "pipeSVC = Pipeline([('tfidf', TfidfVectorizer(stop_words='english', ngram_range=(1,3))), ('clf', LinearSVC())])"
   ]
  },
  {
   "cell_type": "code",
   "execution_count": 10,
   "id": "757fbc0d",
   "metadata": {
    "execution": {
     "iopub.execute_input": "2024-10-25T16:55:06.723897Z",
     "iopub.status.busy": "2024-10-25T16:55:06.722945Z",
     "iopub.status.idle": "2024-10-25T16:55:06.732461Z",
     "shell.execute_reply": "2024-10-25T16:55:06.730992Z"
    },
    "papermill": {
     "duration": 0.020306,
     "end_time": "2024-10-25T16:55:06.734991",
     "exception": false,
     "start_time": "2024-10-25T16:55:06.714685",
     "status": "completed"
    },
    "tags": []
   },
   "outputs": [
    {
     "name": "stdout",
     "output_type": "stream",
     "text": [
      "Reviews     0\n",
      "Category    0\n",
      "dtype: int64\n"
     ]
    }
   ],
   "source": [
    "print(df.isnull().sum())"
   ]
  },
  {
   "cell_type": "code",
   "execution_count": 11,
   "id": "e8177976",
   "metadata": {
    "execution": {
     "iopub.execute_input": "2024-10-25T16:55:06.750961Z",
     "iopub.status.busy": "2024-10-25T16:55:06.750345Z",
     "iopub.status.idle": "2024-10-25T16:55:06.757587Z",
     "shell.execute_reply": "2024-10-25T16:55:06.756276Z"
    },
    "papermill": {
     "duration": 0.018406,
     "end_time": "2024-10-25T16:55:06.760294",
     "exception": false,
     "start_time": "2024-10-25T16:55:06.741888",
     "status": "completed"
    },
    "tags": []
   },
   "outputs": [],
   "source": [
    "df['Reviews'] = df['Reviews'].fillna('')"
   ]
  },
  {
   "cell_type": "code",
   "execution_count": 12,
   "id": "87adfdc8",
   "metadata": {
    "execution": {
     "iopub.execute_input": "2024-10-25T16:55:06.777230Z",
     "iopub.status.busy": "2024-10-25T16:55:06.776032Z",
     "iopub.status.idle": "2024-10-25T16:55:06.782881Z",
     "shell.execute_reply": "2024-10-25T16:55:06.781581Z"
    },
    "papermill": {
     "duration": 0.019022,
     "end_time": "2024-10-25T16:55:06.786014",
     "exception": false,
     "start_time": "2024-10-25T16:55:06.766992",
     "status": "completed"
    },
    "tags": []
   },
   "outputs": [],
   "source": [
    "df['Reviews'] = df['Reviews'].astype(str)"
   ]
  },
  {
   "cell_type": "code",
   "execution_count": 13,
   "id": "32f6df23",
   "metadata": {
    "execution": {
     "iopub.execute_input": "2024-10-25T16:55:06.803003Z",
     "iopub.status.busy": "2024-10-25T16:55:06.801865Z",
     "iopub.status.idle": "2024-10-25T16:55:06.809189Z",
     "shell.execute_reply": "2024-10-25T16:55:06.807976Z"
    },
    "papermill": {
     "duration": 0.019648,
     "end_time": "2024-10-25T16:55:06.812422",
     "exception": false,
     "start_time": "2024-10-25T16:55:06.792774",
     "status": "completed"
    },
    "tags": []
   },
   "outputs": [
    {
     "name": "stdout",
     "output_type": "stream",
     "text": [
      "0\n",
      "object\n"
     ]
    }
   ],
   "source": [
    "print(X_train.isnull().sum())  # Check for remaining missing values\n",
    "print(X_train.dtypes)          # Check data types"
   ]
  },
  {
   "cell_type": "code",
   "execution_count": 14,
   "id": "55d2c613",
   "metadata": {
    "execution": {
     "iopub.execute_input": "2024-10-25T16:55:06.834803Z",
     "iopub.status.busy": "2024-10-25T16:55:06.834289Z",
     "iopub.status.idle": "2024-10-25T16:55:07.030073Z",
     "shell.execute_reply": "2024-10-25T16:55:07.028521Z"
    },
    "papermill": {
     "duration": 0.209839,
     "end_time": "2024-10-25T16:55:07.033192",
     "exception": false,
     "start_time": "2024-10-25T16:55:06.823353",
     "status": "completed"
    },
    "tags": []
   },
   "outputs": [
    {
     "name": "stdout",
     "output_type": "stream",
     "text": [
      "MNB Accuracy: 0.45\n",
      "CNB Accuracy: 0.80\n",
      "SVC Accuracy: 0.82\n"
     ]
    }
   ],
   "source": [
    "pipeMNB.fit(X_train, Y_train)\n",
    "predictMNB = pipeMNB.predict(X_test)\n",
    "print(f\"MNB Accuracy: {accuracy_score(Y_test, predictMNB):.2f}\")\n",
    "\n",
    "pipeCNB.fit(X_train, Y_train)\n",
    "predictCNB = pipeCNB.predict(X_test)\n",
    "print(f\"CNB Accuracy: {accuracy_score(Y_test, predictCNB):.2f}\")\n",
    "\n",
    "pipeSVC.fit(X_train, Y_train)\n",
    "predictSVC = pipeSVC.predict(X_test)\n",
    "print(f\"SVC Accuracy: {accuracy_score(Y_test, predictSVC):.2f}\")"
   ]
  },
  {
   "cell_type": "code",
   "execution_count": 15,
   "id": "06868508",
   "metadata": {
    "execution": {
     "iopub.execute_input": "2024-10-25T16:55:07.051016Z",
     "iopub.status.busy": "2024-10-25T16:55:07.050429Z",
     "iopub.status.idle": "2024-10-25T16:55:08.356327Z",
     "shell.execute_reply": "2024-10-25T16:55:08.355409Z"
    },
    "papermill": {
     "duration": 1.317691,
     "end_time": "2024-10-25T16:55:08.358894",
     "exception": false,
     "start_time": "2024-10-25T16:55:07.041203",
     "status": "completed"
    },
    "tags": []
   },
   "outputs": [
    {
     "name": "stdout",
     "output_type": "stream",
     "text": [
      "XGB Accuracy: 0.72\n"
     ]
    }
   ],
   "source": [
    "from sklearn.preprocessing import LabelEncoder\n",
    "from xgboost import XGBClassifier\n",
    "from sklearn.pipeline import Pipeline\n",
    "from sklearn.feature_extraction.text import TfidfVectorizer\n",
    "\n",
    "# Encode the target labels\n",
    "label_encoder = LabelEncoder()\n",
    "Y_train_encoded = label_encoder.fit_transform(Y_train)\n",
    "Y_test_encoded = label_encoder.transform(Y_test)\n",
    "\n",
    "# XGBoost pipeline\n",
    "pipeXGB = Pipeline([('tfidf', TfidfVectorizer(stop_words = 'english')),\n",
    "                    ('clf', XGBClassifier(use_label_encoder=False, eval_metric='mlogloss'))])\n",
    "\n",
    "# Train the model\n",
    "pipeXGB.fit(X_train, Y_train_encoded)  \n",
    "predictXGB = pipeXGB.predict(X_test)\n",
    "\n",
    "# Decode the predictions back to original labels\n",
    "predictXGB_decoded = label_encoder.inverse_transform(predictXGB)\n",
    "\n",
    "# Print accuracy\n",
    "print(f\"XGB Accuracy: {accuracy_score(Y_test, predictXGB_decoded):.2f}\") "
   ]
  },
  {
   "cell_type": "code",
   "execution_count": 16,
   "id": "b605c4b6",
   "metadata": {
    "execution": {
     "iopub.execute_input": "2024-10-25T16:55:08.374788Z",
     "iopub.status.busy": "2024-10-25T16:55:08.374323Z",
     "iopub.status.idle": "2024-10-25T16:55:08.384210Z",
     "shell.execute_reply": "2024-10-25T16:55:08.383062Z"
    },
    "papermill": {
     "duration": 0.020932,
     "end_time": "2024-10-25T16:55:08.386947",
     "exception": false,
     "start_time": "2024-10-25T16:55:08.366015",
     "status": "completed"
    },
    "tags": []
   },
   "outputs": [
    {
     "data": {
      "text/plain": [
       "array(['Ticketing'], dtype=object)"
      ]
     },
     "execution_count": 16,
     "metadata": {},
     "output_type": "execute_result"
    }
   ],
   "source": [
    "msg = \"There was a big queue in ticketing office and tickets were expensive\"\n",
    "pipeSVC.predict([msg]) "
   ]
  },
  {
   "cell_type": "code",
   "execution_count": 17,
   "id": "5c166e56",
   "metadata": {
    "execution": {
     "iopub.execute_input": "2024-10-25T16:55:08.410014Z",
     "iopub.status.busy": "2024-10-25T16:55:08.407814Z",
     "iopub.status.idle": "2024-10-25T16:55:08.421106Z",
     "shell.execute_reply": "2024-10-25T16:55:08.419686Z"
    },
    "papermill": {
     "duration": 0.025988,
     "end_time": "2024-10-25T16:55:08.424615",
     "exception": false,
     "start_time": "2024-10-25T16:55:08.398627",
     "status": "completed"
    },
    "tags": []
   },
   "outputs": [
    {
     "data": {
      "text/plain": [
       "array(['Cheer'], dtype='<U17')"
      ]
     },
     "execution_count": 17,
     "metadata": {},
     "output_type": "execute_result"
    }
   ],
   "source": [
    "msg = \"It would be more entertaining to hear the band or the DJ during timeouts. There is too much talking and too many promotions. It kills the vibe.\"\n",
    "pipeCNB.predict([msg]) "
   ]
  },
  {
   "cell_type": "code",
   "execution_count": 18,
   "id": "ca85a062",
   "metadata": {
    "execution": {
     "iopub.execute_input": "2024-10-25T16:55:08.449800Z",
     "iopub.status.busy": "2024-10-25T16:55:08.448949Z",
     "iopub.status.idle": "2024-10-25T16:55:08.458190Z",
     "shell.execute_reply": "2024-10-25T16:55:08.457235Z"
    },
    "papermill": {
     "duration": 0.02468,
     "end_time": "2024-10-25T16:55:08.461578",
     "exception": false,
     "start_time": "2024-10-25T16:55:08.436898",
     "status": "completed"
    },
    "tags": []
   },
   "outputs": [
    {
     "data": {
      "text/plain": [
       "array(['Fac.'], dtype=object)"
      ]
     },
     "execution_count": 18,
     "metadata": {},
     "output_type": "execute_result"
    }
   ],
   "source": [
    "msg = \"I know this is something outside control, but the TV timeouts while on a subscription service are getting way out of hand.  Constant commercial breaks make game feel dead and drag on forever. No reason a game on ESPN+ should take almost 4 1/2 hours.  \"\n",
    "pipeSVC.predict([msg]) "
   ]
  },
  {
   "cell_type": "code",
   "execution_count": 19,
   "id": "78c04548",
   "metadata": {
    "execution": {
     "iopub.execute_input": "2024-10-25T16:55:08.485776Z",
     "iopub.status.busy": "2024-10-25T16:55:08.485333Z",
     "iopub.status.idle": "2024-10-25T16:55:08.495172Z",
     "shell.execute_reply": "2024-10-25T16:55:08.493926Z"
    },
    "papermill": {
     "duration": 0.024112,
     "end_time": "2024-10-25T16:55:08.497412",
     "exception": false,
     "start_time": "2024-10-25T16:55:08.473300",
     "status": "completed"
    },
    "tags": []
   },
   "outputs": [
    {
     "data": {
      "text/plain": [
       "array(['Concessions'], dtype=object)"
      ]
     },
     "execution_count": 19,
     "metadata": {},
     "output_type": "execute_result"
    }
   ],
   "source": [
    "msg = \"The stadium needs affordable food options. The prices are too high. \"\n",
    "pipeSVC.predict([msg]) "
   ]
  },
  {
   "cell_type": "code",
   "execution_count": 20,
   "id": "5054c6c9",
   "metadata": {
    "execution": {
     "iopub.execute_input": "2024-10-25T16:55:08.514954Z",
     "iopub.status.busy": "2024-10-25T16:55:08.514526Z",
     "iopub.status.idle": "2024-10-25T16:55:08.524084Z",
     "shell.execute_reply": "2024-10-25T16:55:08.522996Z"
    },
    "papermill": {
     "duration": 0.021443,
     "end_time": "2024-10-25T16:55:08.526555",
     "exception": false,
     "start_time": "2024-10-25T16:55:08.505112",
     "status": "completed"
    },
    "tags": []
   },
   "outputs": [
    {
     "data": {
      "text/plain": [
       "array(['Fac.'], dtype='<U17')"
      ]
     },
     "execution_count": 20,
     "metadata": {},
     "output_type": "execute_result"
    }
   ],
   "source": [
    "msg = \"The seats were quite hard to sit on, and the restroom wasnt clean\"\n",
    "pipeCNB.predict([msg]) "
   ]
  },
  {
   "cell_type": "code",
   "execution_count": 21,
   "id": "0ea56880",
   "metadata": {
    "execution": {
     "iopub.execute_input": "2024-10-25T16:55:08.544307Z",
     "iopub.status.busy": "2024-10-25T16:55:08.543909Z",
     "iopub.status.idle": "2024-10-25T16:55:22.081647Z",
     "shell.execute_reply": "2024-10-25T16:55:22.078402Z"
    },
    "papermill": {
     "duration": 13.551026,
     "end_time": "2024-10-25T16:55:22.085153",
     "exception": false,
     "start_time": "2024-10-25T16:55:08.534127",
     "status": "completed"
    },
    "tags": []
   },
   "outputs": [
    {
     "name": "stdout",
     "output_type": "stream",
     "text": [
      "Word2Vec + Logistic Regression Accuracy: 0.34\n"
     ]
    }
   ],
   "source": [
    "import numpy as np\n",
    "from gensim.models import Word2Vec\n",
    "from sklearn.linear_model import LogisticRegression\n",
    "from sklearn.metrics import accuracy_score\n",
    "\n",
    "# Tokenizing reviews\n",
    "tokenized_train = [doc.split() for doc in X_train]\n",
    "tokenized_test = [doc.split() for doc in X_test]\n",
    "\n",
    "# Train Word2Vec model\n",
    "w2v_model = Word2Vec(sentences=tokenized_train, vector_size=100, window=5, min_count=2, workers=4)\n",
    "\n",
    "# Function to convert documents to average word vectors\n",
    "def document_vector(doc):\n",
    "    # Keep words in the document that are in the Word2Vec vocabulary\n",
    "    doc = [word for word in doc if word in w2v_model.wv]\n",
    "    \n",
    "    # Handle empty documents (no words in vocabulary)\n",
    "    if len(doc) == 0:\n",
    "        return np.zeros(w2v_model.vector_size)  # Return a zero vector if no valid words found\n",
    "    \n",
    "    # Return the mean of the word vectors\n",
    "    return np.mean(w2v_model.wv[doc], axis=0)\n",
    "\n",
    "# Convert training and test documents to vectors\n",
    "X_train_w2v = np.array([document_vector(doc) for doc in tokenized_train])\n",
    "X_test_w2v = np.array([document_vector(doc) for doc in tokenized_test])\n",
    "\n",
    "# Use Logistic Regression since it works with continuous values\n",
    "model = LogisticRegression(max_iter=1000)\n",
    "model.fit(X_train_w2v, Y_train)\n",
    "\n",
    "# Predict and evaluate\n",
    "predictions = model.predict(X_test_w2v)\n",
    "print(f\"Word2Vec + Logistic Regression Accuracy: {accuracy_score(Y_test, predictions):.2f}\")\n",
    "\n",
    "# I am still working the word2vec, maybe will rather go with doc2vec. "
   ]
  },
  {
   "cell_type": "code",
   "execution_count": 22,
   "id": "c586eb97",
   "metadata": {
    "execution": {
     "iopub.execute_input": "2024-10-25T16:55:22.116805Z",
     "iopub.status.busy": "2024-10-25T16:55:22.115873Z",
     "iopub.status.idle": "2024-10-25T16:55:22.163846Z",
     "shell.execute_reply": "2024-10-25T16:55:22.162615Z"
    },
    "papermill": {
     "duration": 0.068085,
     "end_time": "2024-10-25T16:55:22.167366",
     "exception": false,
     "start_time": "2024-10-25T16:55:22.099281",
     "status": "completed"
    },
    "tags": []
   },
   "outputs": [
    {
     "name": "stdout",
     "output_type": "stream",
     "text": [
      "                                            Comments\n",
      "0  Nothing open on the concessions.  Limited opti...\n",
      "1                               Better food choices.\n",
      "2    $14.00 FOR ONE REFILLABLE DRINK IS OUTRAGEOUS. \n",
      "3  prices of concession are obscene. People servi...\n",
      "4  1.  There are so many video boards in the stad...\n",
      "                                            Comments Predicted_Category\n",
      "0  Nothing open on the concessions.  Limited opti...        Concessions\n",
      "1                               Better food choices.        Concessions\n",
      "2    $14.00 FOR ONE REFILLABLE DRINK IS OUTRAGEOUS.         Concessions\n",
      "3  prices of concession are obscene. People servi...        Concessions\n",
      "4  1.  There are so many video boards in the stad...  Video Board/Sound\n",
      "Predictions saved to classified_comments.csv\n"
     ]
    }
   ],
   "source": [
    "import pandas as pd\n",
    "\n",
    "# Load the new data with comments to classify\n",
    "new_data = pd.read_csv('/kaggle/input/testingdata2/UABComments.csv', encoding='ISO-8859-1')\n",
    "\n",
    "new_data['Comments'] = new_data['Comments'].fillna('')  # Fill any missing values\n",
    "\n",
    "# Check the data\n",
    "print(new_data.head())\n",
    "\n",
    "# Predict using the best-performing model (pipeSVC in this case)\n",
    "predictions = pipeSVC.predict(new_data['Comments'])\n",
    "\n",
    "# Add the predictions as a new column in the DataFrame\n",
    "new_data['Predicted_Category'] = predictions\n",
    "print(new_data[['Comments', 'Predicted_Category']].head())\n",
    "# Save the classified data to a new CSV file\n",
    "new_data.to_csv('/kaggle/working/classified_comments.csv', index=False)\n",
    "\n",
    "print(\"Predictions saved to classified_comments.csv\")"
   ]
  },
  {
   "cell_type": "code",
   "execution_count": 23,
   "id": "e3e996a2",
   "metadata": {
    "execution": {
     "iopub.execute_input": "2024-10-25T16:55:22.194260Z",
     "iopub.status.busy": "2024-10-25T16:55:22.193851Z",
     "iopub.status.idle": "2024-10-25T16:55:22.199954Z",
     "shell.execute_reply": "2024-10-25T16:55:22.198746Z"
    },
    "papermill": {
     "duration": 0.023263,
     "end_time": "2024-10-25T16:55:22.203454",
     "exception": false,
     "start_time": "2024-10-25T16:55:22.180191",
     "status": "completed"
    },
    "tags": []
   },
   "outputs": [
    {
     "name": "stdout",
     "output_type": "stream",
     "text": [
      "['classified_comments.csv', '__notebook__.ipynb']\n"
     ]
    }
   ],
   "source": [
    "import os\n",
    "\n",
    "# List the files in the current working directory\n",
    "print(os.listdir('/kaggle/working'))\n"
   ]
  }
 ],
 "metadata": {
  "kaggle": {
   "accelerator": "none",
   "dataSources": [
    {
     "datasetId": 5889115,
     "sourceId": 9643503,
     "sourceType": "datasetVersion"
    },
    {
     "datasetId": 5889201,
     "sourceId": 9643637,
     "sourceType": "datasetVersion"
    },
    {
     "datasetId": 5948262,
     "sourceId": 9721952,
     "sourceType": "datasetVersion"
    }
   ],
   "dockerImageVersionId": 30761,
   "isGpuEnabled": false,
   "isInternetEnabled": false,
   "language": "python",
   "sourceType": "notebook"
  },
  "kernelspec": {
   "display_name": "Python 3",
   "language": "python",
   "name": "python3"
  },
  "language_info": {
   "codemirror_mode": {
    "name": "ipython",
    "version": 3
   },
   "file_extension": ".py",
   "mimetype": "text/x-python",
   "name": "python",
   "nbconvert_exporter": "python",
   "pygments_lexer": "ipython3",
   "version": "3.10.14"
  },
  "papermill": {
   "default_parameters": {},
   "duration": 22.837666,
   "end_time": "2024-10-25T16:55:23.234693",
   "environment_variables": {},
   "exception": null,
   "input_path": "__notebook__.ipynb",
   "output_path": "__notebook__.ipynb",
   "parameters": {},
   "start_time": "2024-10-25T16:55:00.397027",
   "version": "2.6.0"
  }
 },
 "nbformat": 4,
 "nbformat_minor": 5
}
