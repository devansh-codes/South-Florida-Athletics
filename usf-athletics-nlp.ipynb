{
 "cells": [
  {
   "cell_type": "code",
   "execution_count": 1,
   "id": "c20cc6a7",
   "metadata": {
    "_cell_guid": "b1076dfc-b9ad-4769-8c92-a6c4dae69d19",
    "_uuid": "8f2839f25d086af736a60e9eeb907d3b93b6e0e5",
    "execution": {
     "iopub.execute_input": "2024-10-16T17:55:57.073266Z",
     "iopub.status.busy": "2024-10-16T17:55:57.072775Z",
     "iopub.status.idle": "2024-10-16T17:55:58.078077Z",
     "shell.execute_reply": "2024-10-16T17:55:58.076812Z"
    },
    "papermill": {
     "duration": 1.017933,
     "end_time": "2024-10-16T17:55:58.081073",
     "exception": false,
     "start_time": "2024-10-16T17:55:57.063140",
     "status": "completed"
    },
    "tags": []
   },
   "outputs": [
    {
     "name": "stdout",
     "output_type": "stream",
     "text": [
      "/kaggle/input/data-eight/Data.xlsx\n",
      "/kaggle/input/dataseven/Data.xlsx\n",
      "/kaggle/input/data-six/Data.xlsx\n",
      "/kaggle/input/datafour/Data.xlsx\n"
     ]
    }
   ],
   "source": [
    "# This Python 3 environment comes with many helpful analytics libraries installed\n",
    "# It is defined by the kaggle/python Docker image: https://github.com/kaggle/docker-python\n",
    "# For example, here's several helpful packages to load\n",
    "\n",
    "import numpy as np # linear algebra\n",
    "import pandas as pd # data processing, CSV file I/O (e.g. pd.read_csv)\n",
    "\n",
    "# Input data files are available in the read-only \"../input/\" directory\n",
    "# For example, running this (by clicking run or pressing Shift+Enter) will list all files under the input directory\n",
    "\n",
    "import os\n",
    "for dirname, _, filenames in os.walk('/kaggle/input'): \n",
    "    for filename in filenames:\n",
    "        print(os.path.join(dirname, filename))\n",
    "\n",
    "# You can write up to 20GB to the current directory (/kaggle/working/) that gets preserved as output when you create a version using \"Save & Run All\" \n",
    "# You can also write temporary files to /kaggle/temp/, but they won't be saved outside of the current session"
   ]
  },
  {
   "cell_type": "code",
   "execution_count": 2,
   "id": "c16ebfc9",
   "metadata": {
    "execution": {
     "iopub.execute_input": "2024-10-16T17:55:58.098211Z",
     "iopub.status.busy": "2024-10-16T17:55:58.097199Z",
     "iopub.status.idle": "2024-10-16T17:55:58.105995Z",
     "shell.execute_reply": "2024-10-16T17:55:58.104681Z"
    },
    "papermill": {
     "duration": 0.019853,
     "end_time": "2024-10-16T17:55:58.108541",
     "exception": false,
     "start_time": "2024-10-16T17:55:58.088688",
     "status": "completed"
    },
    "tags": []
   },
   "outputs": [
    {
     "name": "stdout",
     "output_type": "stream",
     "text": [
      "/kaggle/input/data-eight/Data.xlsx\n",
      "/kaggle/input/dataseven/Data.xlsx\n",
      "/kaggle/input/data-six/Data.xlsx\n",
      "/kaggle/input/datafour/Data.xlsx\n"
     ]
    }
   ],
   "source": [
    "import os\n",
    "for dirname, _, filenames in os.walk('/kaggle/input'):\n",
    "    for filename in filenames:\n",
    "        print(os.path.join(dirname, filename))"
   ]
  },
  {
   "cell_type": "code",
   "execution_count": 3,
   "id": "52f9b04b",
   "metadata": {
    "execution": {
     "iopub.execute_input": "2024-10-16T17:55:58.125421Z",
     "iopub.status.busy": "2024-10-16T17:55:58.124944Z",
     "iopub.status.idle": "2024-10-16T17:55:58.566089Z",
     "shell.execute_reply": "2024-10-16T17:55:58.564891Z"
    },
    "papermill": {
     "duration": 0.452551,
     "end_time": "2024-10-16T17:55:58.568611",
     "exception": false,
     "start_time": "2024-10-16T17:55:58.116060",
     "status": "completed"
    },
    "tags": []
   },
   "outputs": [
    {
     "data": {
      "text/html": [
       "<div>\n",
       "<style scoped>\n",
       "    .dataframe tbody tr th:only-of-type {\n",
       "        vertical-align: middle;\n",
       "    }\n",
       "\n",
       "    .dataframe tbody tr th {\n",
       "        vertical-align: top;\n",
       "    }\n",
       "\n",
       "    .dataframe thead th {\n",
       "        text-align: right;\n",
       "    }\n",
       "</style>\n",
       "<table border=\"1\" class=\"dataframe\">\n",
       "  <thead>\n",
       "    <tr style=\"text-align: right;\">\n",
       "      <th></th>\n",
       "      <th>Reviews</th>\n",
       "      <th>Category</th>\n",
       "    </tr>\n",
       "  </thead>\n",
       "  <tbody>\n",
       "    <tr>\n",
       "      <th>0</th>\n",
       "      <td>Arena club food buffet has really stepped up a...</td>\n",
       "      <td>Concessions</td>\n",
       "    </tr>\n",
       "    <tr>\n",
       "      <th>1</th>\n",
       "      <td>Arena Club staff catering staff very helpful</td>\n",
       "      <td>Concessions</td>\n",
       "    </tr>\n",
       "    <tr>\n",
       "      <th>2</th>\n",
       "      <td>Have never used.</td>\n",
       "      <td>Concessions</td>\n",
       "    </tr>\n",
       "    <tr>\n",
       "      <th>3</th>\n",
       "      <td>Stm meals have been great this year. Please br...</td>\n",
       "      <td>Concessions</td>\n",
       "    </tr>\n",
       "    <tr>\n",
       "      <th>4</th>\n",
       "      <td>We do not buy from the concession.</td>\n",
       "      <td>Concessions</td>\n",
       "    </tr>\n",
       "  </tbody>\n",
       "</table>\n",
       "</div>"
      ],
      "text/plain": [
       "                                             Reviews     Category\n",
       "0  Arena club food buffet has really stepped up a...  Concessions\n",
       "1      Arena Club staff catering staff very helpful   Concessions\n",
       "2                                  Have never used.   Concessions\n",
       "3  Stm meals have been great this year. Please br...  Concessions\n",
       "4                We do not buy from the concession.   Concessions"
      ]
     },
     "execution_count": 3,
     "metadata": {},
     "output_type": "execute_result"
    }
   ],
   "source": [
    "import pandas as pd\n",
    "df = pd.read_excel('/kaggle/input/data-eight/Data.xlsx')\n",
    "df.head()\n"
   ]
  },
  {
   "cell_type": "code",
   "execution_count": 4,
   "id": "ad08b797",
   "metadata": {
    "execution": {
     "iopub.execute_input": "2024-10-16T17:55:58.585916Z",
     "iopub.status.busy": "2024-10-16T17:55:58.585377Z",
     "iopub.status.idle": "2024-10-16T17:55:58.599874Z",
     "shell.execute_reply": "2024-10-16T17:55:58.598759Z"
    },
    "papermill": {
     "duration": 0.025615,
     "end_time": "2024-10-16T17:55:58.602247",
     "exception": false,
     "start_time": "2024-10-16T17:55:58.576632",
     "status": "completed"
    },
    "tags": []
   },
   "outputs": [
    {
     "data": {
      "text/plain": [
       "Category\n",
       "Concessions          270\n",
       "Video Board/Sound     86\n",
       "Cheer                 85\n",
       "Ticketing             79\n",
       "Fac.                  75\n",
       "Marketing             73\n",
       "Parking               68\n",
       "Name: count, dtype: int64"
      ]
     },
     "execution_count": 4,
     "metadata": {},
     "output_type": "execute_result"
    }
   ],
   "source": [
    "df['Category'].value_counts()"
   ]
  },
  {
   "cell_type": "code",
   "execution_count": 5,
   "id": "7e24e534",
   "metadata": {
    "execution": {
     "iopub.execute_input": "2024-10-16T17:55:58.619612Z",
     "iopub.status.busy": "2024-10-16T17:55:58.619149Z",
     "iopub.status.idle": "2024-10-16T17:55:58.625371Z",
     "shell.execute_reply": "2024-10-16T17:55:58.624302Z"
    },
    "papermill": {
     "duration": 0.017828,
     "end_time": "2024-10-16T17:55:58.627811",
     "exception": false,
     "start_time": "2024-10-16T17:55:58.609983",
     "status": "completed"
    },
    "tags": []
   },
   "outputs": [
    {
     "name": "stdout",
     "output_type": "stream",
     "text": [
      "Index(['Reviews', 'Category'], dtype='object')\n"
     ]
    }
   ],
   "source": [
    "print(df.columns)"
   ]
  },
  {
   "cell_type": "code",
   "execution_count": 6,
   "id": "d59ab3b1",
   "metadata": {
    "execution": {
     "iopub.execute_input": "2024-10-16T17:55:58.645444Z",
     "iopub.status.busy": "2024-10-16T17:55:58.645007Z",
     "iopub.status.idle": "2024-10-16T17:55:58.652292Z",
     "shell.execute_reply": "2024-10-16T17:55:58.651281Z"
    },
    "papermill": {
     "duration": 0.019128,
     "end_time": "2024-10-16T17:55:58.654690",
     "exception": false,
     "start_time": "2024-10-16T17:55:58.635562",
     "status": "completed"
    },
    "tags": []
   },
   "outputs": [
    {
     "data": {
      "text/plain": [
       "736"
      ]
     },
     "execution_count": 6,
     "metadata": {},
     "output_type": "execute_result"
    }
   ],
   "source": [
    "# Split into features (reviews) and labels (categories)\n",
    "X = df['Reviews']\n",
    "Y = df['Category']\n",
    "len(X)"
   ]
  },
  {
   "cell_type": "code",
   "execution_count": 7,
   "id": "2a4a0fc3",
   "metadata": {
    "execution": {
     "iopub.execute_input": "2024-10-16T17:55:58.672651Z",
     "iopub.status.busy": "2024-10-16T17:55:58.671698Z",
     "iopub.status.idle": "2024-10-16T17:56:00.322129Z",
     "shell.execute_reply": "2024-10-16T17:56:00.321036Z"
    },
    "papermill": {
     "duration": 1.662139,
     "end_time": "2024-10-16T17:56:00.324802",
     "exception": false,
     "start_time": "2024-10-16T17:55:58.662663",
     "status": "completed"
    },
    "tags": []
   },
   "outputs": [],
   "source": [
    "# Split the data into training and test sets\n",
    "from sklearn.model_selection import train_test_split\n",
    "X_train, X_test, Y_train, Y_test = train_test_split(X, Y, test_size=0.2, random_state=22)"
   ]
  },
  {
   "cell_type": "code",
   "execution_count": 8,
   "id": "a4f1e960",
   "metadata": {
    "execution": {
     "iopub.execute_input": "2024-10-16T17:56:00.343147Z",
     "iopub.status.busy": "2024-10-16T17:56:00.342534Z",
     "iopub.status.idle": "2024-10-16T17:56:00.471780Z",
     "shell.execute_reply": "2024-10-16T17:56:00.470863Z"
    },
    "papermill": {
     "duration": 0.141613,
     "end_time": "2024-10-16T17:56:00.474562",
     "exception": false,
     "start_time": "2024-10-16T17:56:00.332949",
     "status": "completed"
    },
    "tags": []
   },
   "outputs": [],
   "source": [
    "from sklearn.pipeline import Pipeline\n",
    "from sklearn.feature_extraction.text import TfidfVectorizer\n",
    "from sklearn.naive_bayes import MultinomialNB, ComplementNB\n",
    "from sklearn.svm import LinearSVC\n",
    "from sklearn.metrics import accuracy_score, classification_report "
   ]
  },
  {
   "cell_type": "code",
   "execution_count": 9,
   "id": "408ffeeb",
   "metadata": {
    "execution": {
     "iopub.execute_input": "2024-10-16T17:56:00.492589Z",
     "iopub.status.busy": "2024-10-16T17:56:00.492151Z",
     "iopub.status.idle": "2024-10-16T17:56:00.499258Z",
     "shell.execute_reply": "2024-10-16T17:56:00.498190Z"
    },
    "papermill": {
     "duration": 0.019001,
     "end_time": "2024-10-16T17:56:00.501721",
     "exception": false,
     "start_time": "2024-10-16T17:56:00.482720",
     "status": "completed"
    },
    "tags": []
   },
   "outputs": [],
   "source": [
    "\n",
    "# Define pipelines for different models\n",
    "pipeMNB = Pipeline([('tfidf', TfidfVectorizer(stop_words='english', ngram_range=(1, 2))), ('clf', MultinomialNB())])\n",
    "pipeCNB = Pipeline([('tfidf', TfidfVectorizer(stop_words='english', ngram_range=(1,3))), ('clf', ComplementNB())])\n",
    "pipeSVC = Pipeline([('tfidf', TfidfVectorizer(stop_words='english', ngram_range=(1,3))), ('clf', LinearSVC())])"
   ]
  },
  {
   "cell_type": "code",
   "execution_count": 10,
   "id": "c6db6b19",
   "metadata": {
    "execution": {
     "iopub.execute_input": "2024-10-16T17:56:00.519279Z",
     "iopub.status.busy": "2024-10-16T17:56:00.518835Z",
     "iopub.status.idle": "2024-10-16T17:56:00.526995Z",
     "shell.execute_reply": "2024-10-16T17:56:00.525781Z"
    },
    "papermill": {
     "duration": 0.019558,
     "end_time": "2024-10-16T17:56:00.529220",
     "exception": false,
     "start_time": "2024-10-16T17:56:00.509662",
     "status": "completed"
    },
    "tags": []
   },
   "outputs": [
    {
     "name": "stdout",
     "output_type": "stream",
     "text": [
      "Reviews     0\n",
      "Category    0\n",
      "dtype: int64\n"
     ]
    }
   ],
   "source": [
    "print(df.isnull().sum())"
   ]
  },
  {
   "cell_type": "code",
   "execution_count": 11,
   "id": "609e24df",
   "metadata": {
    "execution": {
     "iopub.execute_input": "2024-10-16T17:56:00.546884Z",
     "iopub.status.busy": "2024-10-16T17:56:00.546465Z",
     "iopub.status.idle": "2024-10-16T17:56:00.552644Z",
     "shell.execute_reply": "2024-10-16T17:56:00.551778Z"
    },
    "papermill": {
     "duration": 0.017681,
     "end_time": "2024-10-16T17:56:00.554871",
     "exception": false,
     "start_time": "2024-10-16T17:56:00.537190",
     "status": "completed"
    },
    "tags": []
   },
   "outputs": [],
   "source": [
    "df['Reviews'] = df['Reviews'].fillna('')"
   ]
  },
  {
   "cell_type": "code",
   "execution_count": 12,
   "id": "5356e8cc",
   "metadata": {
    "execution": {
     "iopub.execute_input": "2024-10-16T17:56:00.572599Z",
     "iopub.status.busy": "2024-10-16T17:56:00.572159Z",
     "iopub.status.idle": "2024-10-16T17:56:00.578337Z",
     "shell.execute_reply": "2024-10-16T17:56:00.577129Z"
    },
    "papermill": {
     "duration": 0.017625,
     "end_time": "2024-10-16T17:56:00.580548",
     "exception": false,
     "start_time": "2024-10-16T17:56:00.562923",
     "status": "completed"
    },
    "tags": []
   },
   "outputs": [],
   "source": [
    "df['Reviews'] = df['Reviews'].astype(str)"
   ]
  },
  {
   "cell_type": "code",
   "execution_count": 13,
   "id": "3290c1ac",
   "metadata": {
    "execution": {
     "iopub.execute_input": "2024-10-16T17:56:00.598741Z",
     "iopub.status.busy": "2024-10-16T17:56:00.598257Z",
     "iopub.status.idle": "2024-10-16T17:56:00.604620Z",
     "shell.execute_reply": "2024-10-16T17:56:00.603549Z"
    },
    "papermill": {
     "duration": 0.01817,
     "end_time": "2024-10-16T17:56:00.607170",
     "exception": false,
     "start_time": "2024-10-16T17:56:00.589000",
     "status": "completed"
    },
    "tags": []
   },
   "outputs": [
    {
     "name": "stdout",
     "output_type": "stream",
     "text": [
      "0\n",
      "object\n"
     ]
    }
   ],
   "source": [
    "print(X_train.isnull().sum())  # Check for remaining missing values\n",
    "print(X_train.dtypes)          # Check data types"
   ]
  },
  {
   "cell_type": "code",
   "execution_count": 14,
   "id": "3790139b",
   "metadata": {
    "execution": {
     "iopub.execute_input": "2024-10-16T17:56:00.625254Z",
     "iopub.status.busy": "2024-10-16T17:56:00.624815Z",
     "iopub.status.idle": "2024-10-16T17:56:00.848526Z",
     "shell.execute_reply": "2024-10-16T17:56:00.847483Z"
    },
    "papermill": {
     "duration": 0.235819,
     "end_time": "2024-10-16T17:56:00.851018",
     "exception": false,
     "start_time": "2024-10-16T17:56:00.615199",
     "status": "completed"
    },
    "tags": []
   },
   "outputs": [
    {
     "name": "stdout",
     "output_type": "stream",
     "text": [
      "MNB Accuracy: 0.45\n",
      "CNB Accuracy: 0.80\n",
      "SVC Accuracy: 0.82\n"
     ]
    }
   ],
   "source": [
    "pipeMNB.fit(X_train, Y_train)\n",
    "predictMNB = pipeMNB.predict(X_test)\n",
    "print(f\"MNB Accuracy: {accuracy_score(Y_test, predictMNB):.2f}\")\n",
    "\n",
    "pipeCNB.fit(X_train, Y_train)\n",
    "predictCNB = pipeCNB.predict(X_test)\n",
    "print(f\"CNB Accuracy: {accuracy_score(Y_test, predictCNB):.2f}\")\n",
    "\n",
    "pipeSVC.fit(X_train, Y_train)\n",
    "predictSVC = pipeSVC.predict(X_test)\n",
    "print(f\"SVC Accuracy: {accuracy_score(Y_test, predictSVC):.2f}\")"
   ]
  },
  {
   "cell_type": "code",
   "execution_count": 15,
   "id": "f758e2a3",
   "metadata": {
    "execution": {
     "iopub.execute_input": "2024-10-16T17:56:00.870049Z",
     "iopub.status.busy": "2024-10-16T17:56:00.869283Z",
     "iopub.status.idle": "2024-10-16T17:56:02.065502Z",
     "shell.execute_reply": "2024-10-16T17:56:02.064635Z"
    },
    "papermill": {
     "duration": 1.208577,
     "end_time": "2024-10-16T17:56:02.068134",
     "exception": false,
     "start_time": "2024-10-16T17:56:00.859557",
     "status": "completed"
    },
    "tags": []
   },
   "outputs": [
    {
     "name": "stdout",
     "output_type": "stream",
     "text": [
      "XGB Accuracy: 0.72\n"
     ]
    }
   ],
   "source": [
    "from sklearn.preprocessing import LabelEncoder\n",
    "from xgboost import XGBClassifier\n",
    "from sklearn.pipeline import Pipeline\n",
    "from sklearn.feature_extraction.text import TfidfVectorizer\n",
    "\n",
    "# Encode the target labels\n",
    "label_encoder = LabelEncoder()\n",
    "Y_train_encoded = label_encoder.fit_transform(Y_train)\n",
    "Y_test_encoded = label_encoder.transform(Y_test)\n",
    "\n",
    "# XGBoost pipeline\n",
    "pipeXGB = Pipeline([('tfidf', TfidfVectorizer(stop_words = 'english')),\n",
    "                    ('clf', XGBClassifier(use_label_encoder=False, eval_metric='mlogloss'))])\n",
    "\n",
    "# Train the model\n",
    "pipeXGB.fit(X_train, Y_train_encoded)\n",
    "predictXGB = pipeXGB.predict(X_test)\n",
    "\n",
    "# Decode the predictions back to original labels\n",
    "predictXGB_decoded = label_encoder.inverse_transform(predictXGB)\n",
    "\n",
    "# Print accuracy\n",
    "print(f\"XGB Accuracy: {accuracy_score(Y_test, predictXGB_decoded):.2f}\") "
   ]
  },
  {
   "cell_type": "code",
   "execution_count": 16,
   "id": "6b52e96b",
   "metadata": {
    "execution": {
     "iopub.execute_input": "2024-10-16T17:56:02.088154Z",
     "iopub.status.busy": "2024-10-16T17:56:02.087770Z",
     "iopub.status.idle": "2024-10-16T17:56:02.096559Z",
     "shell.execute_reply": "2024-10-16T17:56:02.095459Z"
    },
    "papermill": {
     "duration": 0.021167,
     "end_time": "2024-10-16T17:56:02.098962",
     "exception": false,
     "start_time": "2024-10-16T17:56:02.077795",
     "status": "completed"
    },
    "tags": []
   },
   "outputs": [
    {
     "data": {
      "text/plain": [
       "array(['Ticketing'], dtype=object)"
      ]
     },
     "execution_count": 16,
     "metadata": {},
     "output_type": "execute_result"
    }
   ],
   "source": [
    "msg = \"There was a big queue in ticketing office and tickets were expensive\"\n",
    "pipeSVC.predict([msg]) "
   ]
  },
  {
   "cell_type": "code",
   "execution_count": 17,
   "id": "b1ec760d",
   "metadata": {
    "execution": {
     "iopub.execute_input": "2024-10-16T17:56:02.117794Z",
     "iopub.status.busy": "2024-10-16T17:56:02.117369Z",
     "iopub.status.idle": "2024-10-16T17:56:02.125579Z",
     "shell.execute_reply": "2024-10-16T17:56:02.124554Z"
    },
    "papermill": {
     "duration": 0.020274,
     "end_time": "2024-10-16T17:56:02.128012",
     "exception": false,
     "start_time": "2024-10-16T17:56:02.107738",
     "status": "completed"
    },
    "tags": []
   },
   "outputs": [
    {
     "data": {
      "text/plain": [
       "array(['Parking'], dtype=object)"
      ]
     },
     "execution_count": 17,
     "metadata": {},
     "output_type": "execute_result"
    }
   ],
   "source": [
    "msg = \"I am a student and still paid 28$ to park my car\"\n",
    "pipeSVC.predict([msg]) "
   ]
  },
  {
   "cell_type": "code",
   "execution_count": 18,
   "id": "a99c8615",
   "metadata": {
    "execution": {
     "iopub.execute_input": "2024-10-16T17:56:02.146536Z",
     "iopub.status.busy": "2024-10-16T17:56:02.146134Z",
     "iopub.status.idle": "2024-10-16T17:56:02.155409Z",
     "shell.execute_reply": "2024-10-16T17:56:02.154306Z"
    },
    "papermill": {
     "duration": 0.021144,
     "end_time": "2024-10-16T17:56:02.157650",
     "exception": false,
     "start_time": "2024-10-16T17:56:02.136506",
     "status": "completed"
    },
    "tags": []
   },
   "outputs": [
    {
     "data": {
      "text/plain": [
       "array(['Marketing'], dtype=object)"
      ]
     },
     "execution_count": 18,
     "metadata": {},
     "output_type": "execute_result"
    }
   ],
   "source": [
    "msg = \"There should be more giveaways, like horns, t-shirts during volleyball games\"\n",
    "pipeSVC.predict([msg]) "
   ]
  },
  {
   "cell_type": "code",
   "execution_count": 19,
   "id": "115d0f91",
   "metadata": {
    "execution": {
     "iopub.execute_input": "2024-10-16T17:56:02.177663Z",
     "iopub.status.busy": "2024-10-16T17:56:02.176792Z",
     "iopub.status.idle": "2024-10-16T17:56:14.500939Z",
     "shell.execute_reply": "2024-10-16T17:56:14.499783Z"
    },
    "papermill": {
     "duration": 12.338349,
     "end_time": "2024-10-16T17:56:14.504713",
     "exception": false,
     "start_time": "2024-10-16T17:56:02.166364",
     "status": "completed"
    },
    "tags": []
   },
   "outputs": [
    {
     "name": "stdout",
     "output_type": "stream",
     "text": [
      "Word2Vec + Logistic Regression Accuracy: 0.34\n"
     ]
    }
   ],
   "source": [
    "import numpy as np\n",
    "from gensim.models import Word2Vec\n",
    "from sklearn.linear_model import LogisticRegression\n",
    "from sklearn.metrics import accuracy_score\n",
    "\n",
    "# Tokenizing reviews\n",
    "tokenized_train = [doc.split() for doc in X_train]\n",
    "tokenized_test = [doc.split() for doc in X_test]\n",
    "\n",
    "# Train Word2Vec model\n",
    "w2v_model = Word2Vec(sentences=tokenized_train, vector_size=100, window=5, min_count=2, workers=4)\n",
    "\n",
    "# Function to convert documents to average word vectors\n",
    "def document_vector(doc):\n",
    "    # Keep words in the document that are in the Word2Vec vocabulary\n",
    "    doc = [word for word in doc if word in w2v_model.wv]\n",
    "    \n",
    "    # Handle empty documents (no words in vocabulary)\n",
    "    if len(doc) == 0:\n",
    "        return np.zeros(w2v_model.vector_size)  # Return a zero vector if no valid words found\n",
    "    \n",
    "    # Return the mean of the word vectors\n",
    "    return np.mean(w2v_model.wv[doc], axis=0)\n",
    "\n",
    "# Convert training and test documents to vectors\n",
    "X_train_w2v = np.array([document_vector(doc) for doc in tokenized_train])\n",
    "X_test_w2v = np.array([document_vector(doc) for doc in tokenized_test])\n",
    "\n",
    "# Use Logistic Regression since it works with continuous values\n",
    "model = LogisticRegression(max_iter=1000)\n",
    "model.fit(X_train_w2v, Y_train)\n",
    "\n",
    "# Predict and evaluate\n",
    "predictions = model.predict(X_test_w2v)\n",
    "print(f\"Word2Vec + Logistic Regression Accuracy: {accuracy_score(Y_test, predictions):.2f}\")\n"
   ]
  },
  {
   "cell_type": "code",
   "execution_count": null,
   "id": "fdc0d896",
   "metadata": {
    "papermill": {
     "duration": 0.018074,
     "end_time": "2024-10-16T17:56:14.541536",
     "exception": false,
     "start_time": "2024-10-16T17:56:14.523462",
     "status": "completed"
    },
    "tags": []
   },
   "outputs": [],
   "source": []
  }
 ],
 "metadata": {
  "kaggle": {
   "accelerator": "none",
   "dataSources": [
    {
     "datasetId": 5874592,
     "sourceId": 9624234,
     "sourceType": "datasetVersion"
    },
    {
     "datasetId": 5888875,
     "sourceId": 9643211,
     "sourceType": "datasetVersion"
    },
    {
     "datasetId": 5889115,
     "sourceId": 9643503,
     "sourceType": "datasetVersion"
    },
    {
     "datasetId": 5889201,
     "sourceId": 9643637,
     "sourceType": "datasetVersion"
    }
   ],
   "dockerImageVersionId": 30761,
   "isGpuEnabled": false,
   "isInternetEnabled": false,
   "language": "python",
   "sourceType": "notebook"
  },
  "kernelspec": {
   "display_name": "Python 3",
   "language": "python",
   "name": "python3"
  },
  "language_info": {
   "codemirror_mode": {
    "name": "ipython",
    "version": 3
   },
   "file_extension": ".py",
   "mimetype": "text/x-python",
   "name": "python",
   "nbconvert_exporter": "python",
   "pygments_lexer": "ipython3",
   "version": "3.10.14"
  },
  "papermill": {
   "default_parameters": {},
   "duration": 21.468696,
   "end_time": "2024-10-16T17:56:15.490898",
   "environment_variables": {},
   "exception": null,
   "input_path": "__notebook__.ipynb",
   "output_path": "__notebook__.ipynb",
   "parameters": {},
   "start_time": "2024-10-16T17:55:54.022202",
   "version": "2.6.0"
  }
 },
 "nbformat": 4,
 "nbformat_minor": 5
}
