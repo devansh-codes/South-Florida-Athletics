{
 "cells": [
  {
   "cell_type": "code",
   "execution_count": 1,
   "id": "d6043c36",
   "metadata": {
    "_cell_guid": "b1076dfc-b9ad-4769-8c92-a6c4dae69d19",
    "_uuid": "8f2839f25d086af736a60e9eeb907d3b93b6e0e5",
    "execution": {
     "iopub.execute_input": "2024-10-16T18:13:24.617057Z",
     "iopub.status.busy": "2024-10-16T18:13:24.616627Z",
     "iopub.status.idle": "2024-10-16T18:13:25.531949Z",
     "shell.execute_reply": "2024-10-16T18:13:25.530772Z"
    },
    "papermill": {
     "duration": 0.92829,
     "end_time": "2024-10-16T18:13:25.534710",
     "exception": false,
     "start_time": "2024-10-16T18:13:24.606420",
     "status": "completed"
    },
    "tags": []
   },
   "outputs": [
    {
     "name": "stdout",
     "output_type": "stream",
     "text": [
      "/kaggle/input/datafour/Data.xlsx\n",
      "/kaggle/input/data-six/Data.xlsx\n",
      "/kaggle/input/data-eight/Data.xlsx\n",
      "/kaggle/input/dataseven/Data.xlsx\n"
     ]
    }
   ],
   "source": [
    "# This Python 3 environment comes with many helpful analytics libraries installed\n",
    "# It is defined by the kaggle/python Docker image: https://github.com/kaggle/docker-python\n",
    "# For example, here's several helpful packages to load\n",
    "\n",
    "import numpy as np # linear algebra\n",
    "import pandas as pd # data processing, CSV file I/O (e.g. pd.read_csv)\n",
    "\n",
    "# Input data files are available in the read-only \"../input/\" directory\n",
    "# For example, running this (by clicking run or pressing Shift+Enter) will list all files under the input directory\n",
    "\n",
    "import os\n",
    "for dirname, _, filenames in os.walk('/kaggle/input'): \n",
    "    for filename in filenames:\n",
    "        print(os.path.join(dirname, filename))\n",
    "\n",
    "# You can write up to 20GB to the current directory (/kaggle/working/) that gets preserved as output when you create a version using \"Save & Run All\" \n",
    "# You can also write temporary files to /kaggle/temp/, but they won't be saved outside of the current session"
   ]
  },
  {
   "cell_type": "code",
   "execution_count": 2,
   "id": "e6650b2e",
   "metadata": {
    "execution": {
     "iopub.execute_input": "2024-10-16T18:13:25.552615Z",
     "iopub.status.busy": "2024-10-16T18:13:25.552046Z",
     "iopub.status.idle": "2024-10-16T18:13:25.561200Z",
     "shell.execute_reply": "2024-10-16T18:13:25.559991Z"
    },
    "papermill": {
     "duration": 0.020646,
     "end_time": "2024-10-16T18:13:25.563580",
     "exception": false,
     "start_time": "2024-10-16T18:13:25.542934",
     "status": "completed"
    },
    "tags": []
   },
   "outputs": [
    {
     "name": "stdout",
     "output_type": "stream",
     "text": [
      "/kaggle/input/datafour/Data.xlsx\n",
      "/kaggle/input/data-six/Data.xlsx\n",
      "/kaggle/input/data-eight/Data.xlsx\n",
      "/kaggle/input/dataseven/Data.xlsx\n"
     ]
    }
   ],
   "source": [
    "import os\n",
    "for dirname, _, filenames in os.walk('/kaggle/input'):\n",
    "    for filename in filenames:\n",
    "        print(os.path.join(dirname, filename))"
   ]
  },
  {
   "cell_type": "code",
   "execution_count": 3,
   "id": "7682845d",
   "metadata": {
    "execution": {
     "iopub.execute_input": "2024-10-16T18:13:25.581769Z",
     "iopub.status.busy": "2024-10-16T18:13:25.581330Z",
     "iopub.status.idle": "2024-10-16T18:13:25.991052Z",
     "shell.execute_reply": "2024-10-16T18:13:25.989955Z"
    },
    "papermill": {
     "duration": 0.422091,
     "end_time": "2024-10-16T18:13:25.993737",
     "exception": false,
     "start_time": "2024-10-16T18:13:25.571646",
     "status": "completed"
    },
    "tags": []
   },
   "outputs": [
    {
     "data": {
      "text/html": [
       "<div>\n",
       "<style scoped>\n",
       "    .dataframe tbody tr th:only-of-type {\n",
       "        vertical-align: middle;\n",
       "    }\n",
       "\n",
       "    .dataframe tbody tr th {\n",
       "        vertical-align: top;\n",
       "    }\n",
       "\n",
       "    .dataframe thead th {\n",
       "        text-align: right;\n",
       "    }\n",
       "</style>\n",
       "<table border=\"1\" class=\"dataframe\">\n",
       "  <thead>\n",
       "    <tr style=\"text-align: right;\">\n",
       "      <th></th>\n",
       "      <th>Reviews</th>\n",
       "      <th>Category</th>\n",
       "    </tr>\n",
       "  </thead>\n",
       "  <tbody>\n",
       "    <tr>\n",
       "      <th>0</th>\n",
       "      <td>Arena club food buffet has really stepped up a...</td>\n",
       "      <td>Concessions</td>\n",
       "    </tr>\n",
       "    <tr>\n",
       "      <th>1</th>\n",
       "      <td>Arena Club staff catering staff very helpful</td>\n",
       "      <td>Concessions</td>\n",
       "    </tr>\n",
       "    <tr>\n",
       "      <th>2</th>\n",
       "      <td>Have never used.</td>\n",
       "      <td>Concessions</td>\n",
       "    </tr>\n",
       "    <tr>\n",
       "      <th>3</th>\n",
       "      <td>Stm meals have been great this year. Please br...</td>\n",
       "      <td>Concessions</td>\n",
       "    </tr>\n",
       "    <tr>\n",
       "      <th>4</th>\n",
       "      <td>We do not buy from the concession.</td>\n",
       "      <td>Concessions</td>\n",
       "    </tr>\n",
       "  </tbody>\n",
       "</table>\n",
       "</div>"
      ],
      "text/plain": [
       "                                             Reviews     Category\n",
       "0  Arena club food buffet has really stepped up a...  Concessions\n",
       "1      Arena Club staff catering staff very helpful   Concessions\n",
       "2                                  Have never used.   Concessions\n",
       "3  Stm meals have been great this year. Please br...  Concessions\n",
       "4                We do not buy from the concession.   Concessions"
      ]
     },
     "execution_count": 3,
     "metadata": {},
     "output_type": "execute_result"
    }
   ],
   "source": [
    "import pandas as pd\n",
    "df = pd.read_excel('/kaggle/input/data-eight/Data.xlsx')\n",
    "df.head()\n"
   ]
  },
  {
   "cell_type": "code",
   "execution_count": 4,
   "id": "864e8e72",
   "metadata": {
    "execution": {
     "iopub.execute_input": "2024-10-16T18:13:26.012727Z",
     "iopub.status.busy": "2024-10-16T18:13:26.012190Z",
     "iopub.status.idle": "2024-10-16T18:13:26.025767Z",
     "shell.execute_reply": "2024-10-16T18:13:26.024629Z"
    },
    "papermill": {
     "duration": 0.025466,
     "end_time": "2024-10-16T18:13:26.028206",
     "exception": false,
     "start_time": "2024-10-16T18:13:26.002740",
     "status": "completed"
    },
    "tags": []
   },
   "outputs": [
    {
     "data": {
      "text/plain": [
       "Category\n",
       "Concessions          270\n",
       "Video Board/Sound     86\n",
       "Cheer                 85\n",
       "Ticketing             79\n",
       "Fac.                  75\n",
       "Marketing             73\n",
       "Parking               68\n",
       "Name: count, dtype: int64"
      ]
     },
     "execution_count": 4,
     "metadata": {},
     "output_type": "execute_result"
    }
   ],
   "source": [
    "df['Category'].value_counts()"
   ]
  },
  {
   "cell_type": "code",
   "execution_count": 5,
   "id": "52dba736",
   "metadata": {
    "execution": {
     "iopub.execute_input": "2024-10-16T18:13:26.046945Z",
     "iopub.status.busy": "2024-10-16T18:13:26.046051Z",
     "iopub.status.idle": "2024-10-16T18:13:26.052032Z",
     "shell.execute_reply": "2024-10-16T18:13:26.050982Z"
    },
    "papermill": {
     "duration": 0.017734,
     "end_time": "2024-10-16T18:13:26.054338",
     "exception": false,
     "start_time": "2024-10-16T18:13:26.036604",
     "status": "completed"
    },
    "tags": []
   },
   "outputs": [
    {
     "name": "stdout",
     "output_type": "stream",
     "text": [
      "Index(['Reviews', 'Category'], dtype='object')\n"
     ]
    }
   ],
   "source": [
    "print(df.columns)"
   ]
  },
  {
   "cell_type": "code",
   "execution_count": 6,
   "id": "634e7a38",
   "metadata": {
    "execution": {
     "iopub.execute_input": "2024-10-16T18:13:26.073885Z",
     "iopub.status.busy": "2024-10-16T18:13:26.073492Z",
     "iopub.status.idle": "2024-10-16T18:13:26.080759Z",
     "shell.execute_reply": "2024-10-16T18:13:26.079631Z"
    },
    "papermill": {
     "duration": 0.019181,
     "end_time": "2024-10-16T18:13:26.083093",
     "exception": false,
     "start_time": "2024-10-16T18:13:26.063912",
     "status": "completed"
    },
    "tags": []
   },
   "outputs": [
    {
     "data": {
      "text/plain": [
       "736"
      ]
     },
     "execution_count": 6,
     "metadata": {},
     "output_type": "execute_result"
    }
   ],
   "source": [
    "# Split into features (reviews) and labels (categories)\n",
    "X = df['Reviews']\n",
    "Y = df['Category']\n",
    "len(X)"
   ]
  },
  {
   "cell_type": "code",
   "execution_count": 7,
   "id": "58ac46a5",
   "metadata": {
    "execution": {
     "iopub.execute_input": "2024-10-16T18:13:26.102448Z",
     "iopub.status.busy": "2024-10-16T18:13:26.101511Z",
     "iopub.status.idle": "2024-10-16T18:13:27.579661Z",
     "shell.execute_reply": "2024-10-16T18:13:27.578463Z"
    },
    "papermill": {
     "duration": 1.490885,
     "end_time": "2024-10-16T18:13:27.582477",
     "exception": false,
     "start_time": "2024-10-16T18:13:26.091592",
     "status": "completed"
    },
    "tags": []
   },
   "outputs": [],
   "source": [
    "# Split the data into training and test sets\n",
    "from sklearn.model_selection import train_test_split\n",
    "X_train, X_test, Y_train, Y_test = train_test_split(X, Y, test_size=0.2, random_state=22)"
   ]
  },
  {
   "cell_type": "code",
   "execution_count": 8,
   "id": "7e336297",
   "metadata": {
    "execution": {
     "iopub.execute_input": "2024-10-16T18:13:27.602270Z",
     "iopub.status.busy": "2024-10-16T18:13:27.600927Z",
     "iopub.status.idle": "2024-10-16T18:13:27.713231Z",
     "shell.execute_reply": "2024-10-16T18:13:27.712204Z"
    },
    "papermill": {
     "duration": 0.12479,
     "end_time": "2024-10-16T18:13:27.715907",
     "exception": false,
     "start_time": "2024-10-16T18:13:27.591117",
     "status": "completed"
    },
    "tags": []
   },
   "outputs": [],
   "source": [
    "from sklearn.pipeline import Pipeline\n",
    "from sklearn.feature_extraction.text import TfidfVectorizer\n",
    "from sklearn.naive_bayes import MultinomialNB, ComplementNB\n",
    "from sklearn.svm import LinearSVC\n",
    "from sklearn.metrics import accuracy_score, classification_report "
   ]
  },
  {
   "cell_type": "code",
   "execution_count": 9,
   "id": "4e6c9bad",
   "metadata": {
    "execution": {
     "iopub.execute_input": "2024-10-16T18:13:27.735125Z",
     "iopub.status.busy": "2024-10-16T18:13:27.734671Z",
     "iopub.status.idle": "2024-10-16T18:13:27.741903Z",
     "shell.execute_reply": "2024-10-16T18:13:27.740760Z"
    },
    "papermill": {
     "duration": 0.019608,
     "end_time": "2024-10-16T18:13:27.744398",
     "exception": false,
     "start_time": "2024-10-16T18:13:27.724790",
     "status": "completed"
    },
    "tags": []
   },
   "outputs": [],
   "source": [
    "\n",
    "# Define pipelines for different models\n",
    "pipeMNB = Pipeline([('tfidf', TfidfVectorizer(stop_words='english', ngram_range=(1, 2))), ('clf', MultinomialNB())])\n",
    "pipeCNB = Pipeline([('tfidf', TfidfVectorizer(stop_words='english', ngram_range=(1,3))), ('clf', ComplementNB())])\n",
    "pipeSVC = Pipeline([('tfidf', TfidfVectorizer(stop_words='english', ngram_range=(1,3))), ('clf', LinearSVC())])"
   ]
  },
  {
   "cell_type": "code",
   "execution_count": 10,
   "id": "b1c53f0c",
   "metadata": {
    "execution": {
     "iopub.execute_input": "2024-10-16T18:13:27.764232Z",
     "iopub.status.busy": "2024-10-16T18:13:27.763267Z",
     "iopub.status.idle": "2024-10-16T18:13:27.771771Z",
     "shell.execute_reply": "2024-10-16T18:13:27.770566Z"
    },
    "papermill": {
     "duration": 0.021098,
     "end_time": "2024-10-16T18:13:27.774115",
     "exception": false,
     "start_time": "2024-10-16T18:13:27.753017",
     "status": "completed"
    },
    "tags": []
   },
   "outputs": [
    {
     "name": "stdout",
     "output_type": "stream",
     "text": [
      "Reviews     0\n",
      "Category    0\n",
      "dtype: int64\n"
     ]
    }
   ],
   "source": [
    "print(df.isnull().sum())"
   ]
  },
  {
   "cell_type": "code",
   "execution_count": 11,
   "id": "13aff14a",
   "metadata": {
    "execution": {
     "iopub.execute_input": "2024-10-16T18:13:27.793440Z",
     "iopub.status.busy": "2024-10-16T18:13:27.792517Z",
     "iopub.status.idle": "2024-10-16T18:13:27.798963Z",
     "shell.execute_reply": "2024-10-16T18:13:27.797877Z"
    },
    "papermill": {
     "duration": 0.018508,
     "end_time": "2024-10-16T18:13:27.801279",
     "exception": false,
     "start_time": "2024-10-16T18:13:27.782771",
     "status": "completed"
    },
    "tags": []
   },
   "outputs": [],
   "source": [
    "df['Reviews'] = df['Reviews'].fillna('')"
   ]
  },
  {
   "cell_type": "code",
   "execution_count": 12,
   "id": "65526fd3",
   "metadata": {
    "execution": {
     "iopub.execute_input": "2024-10-16T18:13:27.820770Z",
     "iopub.status.busy": "2024-10-16T18:13:27.819950Z",
     "iopub.status.idle": "2024-10-16T18:13:27.825739Z",
     "shell.execute_reply": "2024-10-16T18:13:27.824678Z"
    },
    "papermill": {
     "duration": 0.018047,
     "end_time": "2024-10-16T18:13:27.828077",
     "exception": false,
     "start_time": "2024-10-16T18:13:27.810030",
     "status": "completed"
    },
    "tags": []
   },
   "outputs": [],
   "source": [
    "df['Reviews'] = df['Reviews'].astype(str)"
   ]
  },
  {
   "cell_type": "code",
   "execution_count": 13,
   "id": "1244d35d",
   "metadata": {
    "execution": {
     "iopub.execute_input": "2024-10-16T18:13:27.847454Z",
     "iopub.status.busy": "2024-10-16T18:13:27.846649Z",
     "iopub.status.idle": "2024-10-16T18:13:27.853314Z",
     "shell.execute_reply": "2024-10-16T18:13:27.852060Z"
    },
    "papermill": {
     "duration": 0.019007,
     "end_time": "2024-10-16T18:13:27.855748",
     "exception": false,
     "start_time": "2024-10-16T18:13:27.836741",
     "status": "completed"
    },
    "tags": []
   },
   "outputs": [
    {
     "name": "stdout",
     "output_type": "stream",
     "text": [
      "0\n",
      "object\n"
     ]
    }
   ],
   "source": [
    "print(X_train.isnull().sum())  # Check for remaining missing values\n",
    "print(X_train.dtypes)          # Check data types"
   ]
  },
  {
   "cell_type": "code",
   "execution_count": 14,
   "id": "794d36d4",
   "metadata": {
    "execution": {
     "iopub.execute_input": "2024-10-16T18:13:27.875031Z",
     "iopub.status.busy": "2024-10-16T18:13:27.874192Z",
     "iopub.status.idle": "2024-10-16T18:13:28.097705Z",
     "shell.execute_reply": "2024-10-16T18:13:28.096583Z"
    },
    "papermill": {
     "duration": 0.235959,
     "end_time": "2024-10-16T18:13:28.100296",
     "exception": false,
     "start_time": "2024-10-16T18:13:27.864337",
     "status": "completed"
    },
    "tags": []
   },
   "outputs": [
    {
     "name": "stdout",
     "output_type": "stream",
     "text": [
      "MNB Accuracy: 0.45\n",
      "CNB Accuracy: 0.80\n",
      "SVC Accuracy: 0.82\n"
     ]
    }
   ],
   "source": [
    "pipeMNB.fit(X_train, Y_train)\n",
    "predictMNB = pipeMNB.predict(X_test)\n",
    "print(f\"MNB Accuracy: {accuracy_score(Y_test, predictMNB):.2f}\")\n",
    "\n",
    "pipeCNB.fit(X_train, Y_train)\n",
    "predictCNB = pipeCNB.predict(X_test)\n",
    "print(f\"CNB Accuracy: {accuracy_score(Y_test, predictCNB):.2f}\")\n",
    "\n",
    "pipeSVC.fit(X_train, Y_train)\n",
    "predictSVC = pipeSVC.predict(X_test)\n",
    "print(f\"SVC Accuracy: {accuracy_score(Y_test, predictSVC):.2f}\")"
   ]
  },
  {
   "cell_type": "code",
   "execution_count": 15,
   "id": "e57e4e47",
   "metadata": {
    "execution": {
     "iopub.execute_input": "2024-10-16T18:13:28.120694Z",
     "iopub.status.busy": "2024-10-16T18:13:28.119707Z",
     "iopub.status.idle": "2024-10-16T18:13:29.448931Z",
     "shell.execute_reply": "2024-10-16T18:13:29.446433Z"
    },
    "papermill": {
     "duration": 1.342862,
     "end_time": "2024-10-16T18:13:29.452157",
     "exception": false,
     "start_time": "2024-10-16T18:13:28.109295",
     "status": "completed"
    },
    "tags": []
   },
   "outputs": [
    {
     "name": "stdout",
     "output_type": "stream",
     "text": [
      "XGB Accuracy: 0.72\n"
     ]
    }
   ],
   "source": [
    "from sklearn.preprocessing import LabelEncoder\n",
    "from xgboost import XGBClassifier\n",
    "from sklearn.pipeline import Pipeline\n",
    "from sklearn.feature_extraction.text import TfidfVectorizer\n",
    "\n",
    "# Encode the target labels\n",
    "label_encoder = LabelEncoder()\n",
    "Y_train_encoded = label_encoder.fit_transform(Y_train)\n",
    "Y_test_encoded = label_encoder.transform(Y_test)\n",
    "\n",
    "# XGBoost pipeline\n",
    "pipeXGB = Pipeline([('tfidf', TfidfVectorizer(stop_words = 'english')),\n",
    "                    ('clf', XGBClassifier(use_label_encoder=False, eval_metric='mlogloss'))])\n",
    "\n",
    "# Train the model\n",
    "pipeXGB.fit(X_train, Y_train_encoded)\n",
    "predictXGB = pipeXGB.predict(X_test)\n",
    "\n",
    "# Decode the predictions back to original labels\n",
    "predictXGB_decoded = label_encoder.inverse_transform(predictXGB)\n",
    "\n",
    "# Print accuracy\n",
    "print(f\"XGB Accuracy: {accuracy_score(Y_test, predictXGB_decoded):.2f}\") "
   ]
  },
  {
   "cell_type": "code",
   "execution_count": 16,
   "id": "45260b74",
   "metadata": {
    "execution": {
     "iopub.execute_input": "2024-10-16T18:13:29.475403Z",
     "iopub.status.busy": "2024-10-16T18:13:29.474969Z",
     "iopub.status.idle": "2024-10-16T18:13:29.484768Z",
     "shell.execute_reply": "2024-10-16T18:13:29.483614Z"
    },
    "papermill": {
     "duration": 0.023603,
     "end_time": "2024-10-16T18:13:29.487350",
     "exception": false,
     "start_time": "2024-10-16T18:13:29.463747",
     "status": "completed"
    },
    "tags": []
   },
   "outputs": [
    {
     "data": {
      "text/plain": [
       "array(['Ticketing'], dtype=object)"
      ]
     },
     "execution_count": 16,
     "metadata": {},
     "output_type": "execute_result"
    }
   ],
   "source": [
    "msg = \"There was a big queue in ticketing office and tickets were expensive\"\n",
    "pipeSVC.predict([msg]) "
   ]
  },
  {
   "cell_type": "code",
   "execution_count": 17,
   "id": "def8a2e6",
   "metadata": {
    "execution": {
     "iopub.execute_input": "2024-10-16T18:13:29.509109Z",
     "iopub.status.busy": "2024-10-16T18:13:29.508110Z",
     "iopub.status.idle": "2024-10-16T18:13:29.518370Z",
     "shell.execute_reply": "2024-10-16T18:13:29.517315Z"
    },
    "papermill": {
     "duration": 0.023778,
     "end_time": "2024-10-16T18:13:29.520683",
     "exception": false,
     "start_time": "2024-10-16T18:13:29.496905",
     "status": "completed"
    },
    "tags": []
   },
   "outputs": [
    {
     "data": {
      "text/plain": [
       "array(['Parking'], dtype='<U17')"
      ]
     },
     "execution_count": 17,
     "metadata": {},
     "output_type": "execute_result"
    }
   ],
   "source": [
    "msg = \"I am a student and still paid 28$ to park my car\"\n",
    "pipeCNB.predict([msg]) "
   ]
  },
  {
   "cell_type": "code",
   "execution_count": 18,
   "id": "c631ea80",
   "metadata": {
    "execution": {
     "iopub.execute_input": "2024-10-16T18:13:29.544460Z",
     "iopub.status.busy": "2024-10-16T18:13:29.543532Z",
     "iopub.status.idle": "2024-10-16T18:13:29.552090Z",
     "shell.execute_reply": "2024-10-16T18:13:29.551043Z"
    },
    "papermill": {
     "duration": 0.021996,
     "end_time": "2024-10-16T18:13:29.554320",
     "exception": false,
     "start_time": "2024-10-16T18:13:29.532324",
     "status": "completed"
    },
    "tags": []
   },
   "outputs": [
    {
     "data": {
      "text/plain": [
       "array(['Marketing'], dtype=object)"
      ]
     },
     "execution_count": 18,
     "metadata": {},
     "output_type": "execute_result"
    }
   ],
   "source": [
    "msg = \"There should be more giveaways, like horns, t-shirts during volleyball games\"\n",
    "pipeSVC.predict([msg]) "
   ]
  },
  {
   "cell_type": "code",
   "execution_count": 19,
   "id": "c855a39a",
   "metadata": {
    "execution": {
     "iopub.execute_input": "2024-10-16T18:13:29.575163Z",
     "iopub.status.busy": "2024-10-16T18:13:29.574732Z",
     "iopub.status.idle": "2024-10-16T18:13:29.583961Z",
     "shell.execute_reply": "2024-10-16T18:13:29.582776Z"
    },
    "papermill": {
     "duration": 0.022518,
     "end_time": "2024-10-16T18:13:29.586352",
     "exception": false,
     "start_time": "2024-10-16T18:13:29.563834",
     "status": "completed"
    },
    "tags": []
   },
   "outputs": [
    {
     "data": {
      "text/plain": [
       "array(['Cheer'], dtype=object)"
      ]
     },
     "execution_count": 19,
     "metadata": {},
     "output_type": "execute_result"
    }
   ],
   "source": [
    "msg = \"Crowd was lazy, didnt hear any excitement\"\n",
    "pipeSVC.predict([msg]) "
   ]
  },
  {
   "cell_type": "code",
   "execution_count": 20,
   "id": "cd2ea382",
   "metadata": {
    "execution": {
     "iopub.execute_input": "2024-10-16T18:13:29.608599Z",
     "iopub.status.busy": "2024-10-16T18:13:29.608042Z",
     "iopub.status.idle": "2024-10-16T18:13:29.620490Z",
     "shell.execute_reply": "2024-10-16T18:13:29.618975Z"
    },
    "papermill": {
     "duration": 0.02718,
     "end_time": "2024-10-16T18:13:29.623807",
     "exception": false,
     "start_time": "2024-10-16T18:13:29.596627",
     "status": "completed"
    },
    "tags": []
   },
   "outputs": [
    {
     "data": {
      "text/plain": [
       "array(['Fac.'], dtype='<U17')"
      ]
     },
     "execution_count": 20,
     "metadata": {},
     "output_type": "execute_result"
    }
   ],
   "source": [
    "msg = \"The seats were quite hard to sit on, and the restroom wasnt clean\"\n",
    "pipeCNB.predict([msg]) "
   ]
  },
  {
   "cell_type": "code",
   "execution_count": 21,
   "id": "afe577a8",
   "metadata": {
    "execution": {
     "iopub.execute_input": "2024-10-16T18:13:29.650402Z",
     "iopub.status.busy": "2024-10-16T18:13:29.649854Z",
     "iopub.status.idle": "2024-10-16T18:13:41.773362Z",
     "shell.execute_reply": "2024-10-16T18:13:41.771914Z"
    },
    "papermill": {
     "duration": 12.141145,
     "end_time": "2024-10-16T18:13:41.778014",
     "exception": false,
     "start_time": "2024-10-16T18:13:29.636869",
     "status": "completed"
    },
    "tags": []
   },
   "outputs": [
    {
     "name": "stdout",
     "output_type": "stream",
     "text": [
      "Word2Vec + Logistic Regression Accuracy: 0.34\n"
     ]
    }
   ],
   "source": [
    "import numpy as np\n",
    "from gensim.models import Word2Vec\n",
    "from sklearn.linear_model import LogisticRegression\n",
    "from sklearn.metrics import accuracy_score\n",
    "\n",
    "# Tokenizing reviews\n",
    "tokenized_train = [doc.split() for doc in X_train]\n",
    "tokenized_test = [doc.split() for doc in X_test]\n",
    "\n",
    "# Train Word2Vec model\n",
    "w2v_model = Word2Vec(sentences=tokenized_train, vector_size=100, window=5, min_count=2, workers=4)\n",
    "\n",
    "# Function to convert documents to average word vectors\n",
    "def document_vector(doc):\n",
    "    # Keep words in the document that are in the Word2Vec vocabulary\n",
    "    doc = [word for word in doc if word in w2v_model.wv]\n",
    "    \n",
    "    # Handle empty documents (no words in vocabulary)\n",
    "    if len(doc) == 0:\n",
    "        return np.zeros(w2v_model.vector_size)  # Return a zero vector if no valid words found\n",
    "    \n",
    "    # Return the mean of the word vectors\n",
    "    return np.mean(w2v_model.wv[doc], axis=0)\n",
    "\n",
    "# Convert training and test documents to vectors\n",
    "X_train_w2v = np.array([document_vector(doc) for doc in tokenized_train])\n",
    "X_test_w2v = np.array([document_vector(doc) for doc in tokenized_test])\n",
    "\n",
    "# Use Logistic Regression since it works with continuous values\n",
    "model = LogisticRegression(max_iter=1000)\n",
    "model.fit(X_train_w2v, Y_train)\n",
    "\n",
    "# Predict and evaluate\n",
    "predictions = model.predict(X_test_w2v)\n",
    "print(f\"Word2Vec + Logistic Regression Accuracy: {accuracy_score(Y_test, predictions):.2f}\")\n",
    "\n",
    "# I am still working the word2vec, maybe will rather go with doc2vec. "
   ]
  },
  {
   "cell_type": "code",
   "execution_count": null,
   "id": "40211fae",
   "metadata": {
    "papermill": {
     "duration": 0.020132,
     "end_time": "2024-10-16T18:13:41.819469",
     "exception": false,
     "start_time": "2024-10-16T18:13:41.799337",
     "status": "completed"
    },
    "tags": []
   },
   "outputs": [],
   "source": []
  }
 ],
 "metadata": {
  "kaggle": {
   "accelerator": "none",
   "dataSources": [
    {
     "datasetId": 5874592,
     "sourceId": 9624234,
     "sourceType": "datasetVersion"
    },
    {
     "datasetId": 5888875,
     "sourceId": 9643211,
     "sourceType": "datasetVersion"
    },
    {
     "datasetId": 5889115,
     "sourceId": 9643503,
     "sourceType": "datasetVersion"
    },
    {
     "datasetId": 5889201,
     "sourceId": 9643637,
     "sourceType": "datasetVersion"
    }
   ],
   "dockerImageVersionId": 30761,
   "isGpuEnabled": false,
   "isInternetEnabled": false,
   "language": "python",
   "sourceType": "notebook"
  },
  "kernelspec": {
   "display_name": "Python 3",
   "language": "python",
   "name": "python3"
  },
  "language_info": {
   "codemirror_mode": {
    "name": "ipython",
    "version": 3
   },
   "file_extension": ".py",
   "mimetype": "text/x-python",
   "name": "python",
   "nbconvert_exporter": "python",
   "pygments_lexer": "ipython3",
   "version": "3.10.14"
  },
  "papermill": {
   "default_parameters": {},
   "duration": 21.122246,
   "end_time": "2024-10-16T18:13:42.770852",
   "environment_variables": {},
   "exception": null,
   "input_path": "__notebook__.ipynb",
   "output_path": "__notebook__.ipynb",
   "parameters": {},
   "start_time": "2024-10-16T18:13:21.648606",
   "version": "2.6.0"
  }
 },
 "nbformat": 4,
 "nbformat_minor": 5
}
