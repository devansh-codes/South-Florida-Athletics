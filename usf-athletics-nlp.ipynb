{
 "cells": [
  {
   "cell_type": "code",
   "execution_count": 1,
   "id": "c9eacc90",
   "metadata": {
    "_cell_guid": "b1076dfc-b9ad-4769-8c92-a6c4dae69d19",
    "_uuid": "8f2839f25d086af736a60e9eeb907d3b93b6e0e5",
    "execution": {
     "iopub.execute_input": "2024-10-07T17:58:34.626630Z",
     "iopub.status.busy": "2024-10-07T17:58:34.626155Z",
     "iopub.status.idle": "2024-10-07T17:58:35.534851Z",
     "shell.execute_reply": "2024-10-07T17:58:35.533526Z"
    },
    "papermill": {
     "duration": 0.920231,
     "end_time": "2024-10-07T17:58:35.537308",
     "exception": false,
     "start_time": "2024-10-07T17:58:34.617077",
     "status": "completed"
    },
    "tags": []
   },
   "outputs": [
    {
     "name": "stdout",
     "output_type": "stream",
     "text": [
      "/kaggle/input/dataset3/Data.xlsx\n"
     ]
    }
   ],
   "source": [
    "# This Python 3 environment comes with many helpful analytics libraries installed\n",
    "# It is defined by the kaggle/python Docker image: https://github.com/kaggle/docker-python\n",
    "# For example, here's several helpful packages to load\n",
    "\n",
    "import numpy as np # linear algebra\n",
    "import pandas as pd # data processing, CSV file I/O (e.g. pd.read_csv)\n",
    "\n",
    "# Input data files are available in the read-only \"../input/\" directory\n",
    "# For example, running this (by clicking run or pressing Shift+Enter) will list all files under the input directory\n",
    "\n",
    "import os\n",
    "for dirname, _, filenames in os.walk('/kaggle/input'):\n",
    "    for filename in filenames:\n",
    "        print(os.path.join(dirname, filename))\n",
    "\n",
    "# You can write up to 20GB to the current directory (/kaggle/working/) that gets preserved as output when you create a version using \"Save & Run All\" \n",
    "# You can also write temporary files to /kaggle/temp/, but they won't be saved outside of the current session"
   ]
  },
  {
   "cell_type": "markdown",
   "id": "18445912",
   "metadata": {
    "papermill": {
     "duration": 0.006609,
     "end_time": "2024-10-07T17:58:35.551264",
     "exception": false,
     "start_time": "2024-10-07T17:58:35.544655",
     "status": "completed"
    },
    "tags": []
   },
   "source": []
  },
  {
   "cell_type": "code",
   "execution_count": 2,
   "id": "72dc959d",
   "metadata": {
    "execution": {
     "iopub.execute_input": "2024-10-07T17:58:35.567175Z",
     "iopub.status.busy": "2024-10-07T17:58:35.566133Z",
     "iopub.status.idle": "2024-10-07T17:58:35.573995Z",
     "shell.execute_reply": "2024-10-07T17:58:35.572943Z"
    },
    "papermill": {
     "duration": 0.018155,
     "end_time": "2024-10-07T17:58:35.576189",
     "exception": false,
     "start_time": "2024-10-07T17:58:35.558034",
     "status": "completed"
    },
    "tags": []
   },
   "outputs": [
    {
     "name": "stdout",
     "output_type": "stream",
     "text": [
      "/kaggle/input/dataset3/Data.xlsx\n"
     ]
    }
   ],
   "source": [
    "import os\n",
    "for dirname, _, filenames in os.walk('/kaggle/input'):\n",
    "    for filename in filenames:\n",
    "        print(os.path.join(dirname, filename))"
   ]
  },
  {
   "cell_type": "code",
   "execution_count": 3,
   "id": "b50613d6",
   "metadata": {
    "execution": {
     "iopub.execute_input": "2024-10-07T17:58:35.591784Z",
     "iopub.status.busy": "2024-10-07T17:58:35.591252Z",
     "iopub.status.idle": "2024-10-07T17:58:35.975178Z",
     "shell.execute_reply": "2024-10-07T17:58:35.974069Z"
    },
    "papermill": {
     "duration": 0.39535,
     "end_time": "2024-10-07T17:58:35.978422",
     "exception": false,
     "start_time": "2024-10-07T17:58:35.583072",
     "status": "completed"
    },
    "tags": []
   },
   "outputs": [
    {
     "data": {
      "text/html": [
       "<div>\n",
       "<style scoped>\n",
       "    .dataframe tbody tr th:only-of-type {\n",
       "        vertical-align: middle;\n",
       "    }\n",
       "\n",
       "    .dataframe tbody tr th {\n",
       "        vertical-align: top;\n",
       "    }\n",
       "\n",
       "    .dataframe thead th {\n",
       "        text-align: right;\n",
       "    }\n",
       "</style>\n",
       "<table border=\"1\" class=\"dataframe\">\n",
       "  <thead>\n",
       "    <tr style=\"text-align: right;\">\n",
       "      <th></th>\n",
       "      <th>Reviews</th>\n",
       "      <th>Category</th>\n",
       "    </tr>\n",
       "  </thead>\n",
       "  <tbody>\n",
       "    <tr>\n",
       "      <th>0</th>\n",
       "      <td>Arena club food buffet has really stepped up a...</td>\n",
       "      <td>Concessions</td>\n",
       "    </tr>\n",
       "    <tr>\n",
       "      <th>1</th>\n",
       "      <td>Arena Club staff catering staff very helpful</td>\n",
       "      <td>Concessions</td>\n",
       "    </tr>\n",
       "    <tr>\n",
       "      <th>2</th>\n",
       "      <td>Have never used.</td>\n",
       "      <td>Concessions</td>\n",
       "    </tr>\n",
       "    <tr>\n",
       "      <th>3</th>\n",
       "      <td>Stm meals have been great this year. Please br...</td>\n",
       "      <td>Concessions</td>\n",
       "    </tr>\n",
       "    <tr>\n",
       "      <th>4</th>\n",
       "      <td>We do not buy from the concession.</td>\n",
       "      <td>Concessions</td>\n",
       "    </tr>\n",
       "  </tbody>\n",
       "</table>\n",
       "</div>"
      ],
      "text/plain": [
       "                                             Reviews     Category\n",
       "0  Arena club food buffet has really stepped up a...  Concessions\n",
       "1      Arena Club staff catering staff very helpful   Concessions\n",
       "2                                  Have never used.   Concessions\n",
       "3  Stm meals have been great this year. Please br...  Concessions\n",
       "4                We do not buy from the concession.   Concessions"
      ]
     },
     "execution_count": 3,
     "metadata": {},
     "output_type": "execute_result"
    }
   ],
   "source": [
    "import pandas as pd\n",
    "df = pd.read_excel('/kaggle/input/dataset3/Data.xlsx')\n",
    "df.head()\n"
   ]
  },
  {
   "cell_type": "code",
   "execution_count": 4,
   "id": "170fac44",
   "metadata": {
    "execution": {
     "iopub.execute_input": "2024-10-07T17:58:35.996439Z",
     "iopub.status.busy": "2024-10-07T17:58:35.995403Z",
     "iopub.status.idle": "2024-10-07T17:58:36.009665Z",
     "shell.execute_reply": "2024-10-07T17:58:36.008582Z"
    },
    "papermill": {
     "duration": 0.02532,
     "end_time": "2024-10-07T17:58:36.012077",
     "exception": false,
     "start_time": "2024-10-07T17:58:35.986757",
     "status": "completed"
    },
    "tags": []
   },
   "outputs": [
    {
     "data": {
      "text/plain": [
       "Category\n",
       "Concessions          342\n",
       "Video Board/Sound     44\n",
       "Cheer                 35\n",
       "Ticketing             28\n",
       "Facilities            24\n",
       "Marketing             23\n",
       "Parking               18\n",
       "Facilities             1\n",
       "Name: count, dtype: int64"
      ]
     },
     "execution_count": 4,
     "metadata": {},
     "output_type": "execute_result"
    }
   ],
   "source": [
    "df['Category'].value_counts()"
   ]
  },
  {
   "cell_type": "code",
   "execution_count": 5,
   "id": "e1ae6624",
   "metadata": {
    "execution": {
     "iopub.execute_input": "2024-10-07T17:58:36.029280Z",
     "iopub.status.busy": "2024-10-07T17:58:36.028844Z",
     "iopub.status.idle": "2024-10-07T17:58:36.034748Z",
     "shell.execute_reply": "2024-10-07T17:58:36.033672Z"
    },
    "papermill": {
     "duration": 0.017628,
     "end_time": "2024-10-07T17:58:36.037325",
     "exception": false,
     "start_time": "2024-10-07T17:58:36.019697",
     "status": "completed"
    },
    "tags": []
   },
   "outputs": [
    {
     "name": "stdout",
     "output_type": "stream",
     "text": [
      "Index(['Reviews', 'Category'], dtype='object')\n"
     ]
    }
   ],
   "source": [
    "print(df.columns)"
   ]
  },
  {
   "cell_type": "code",
   "execution_count": 6,
   "id": "b9899e5b",
   "metadata": {
    "execution": {
     "iopub.execute_input": "2024-10-07T17:58:36.054311Z",
     "iopub.status.busy": "2024-10-07T17:58:36.053915Z",
     "iopub.status.idle": "2024-10-07T17:58:36.061687Z",
     "shell.execute_reply": "2024-10-07T17:58:36.060605Z"
    },
    "papermill": {
     "duration": 0.019076,
     "end_time": "2024-10-07T17:58:36.063968",
     "exception": false,
     "start_time": "2024-10-07T17:58:36.044892",
     "status": "completed"
    },
    "tags": []
   },
   "outputs": [
    {
     "data": {
      "text/plain": [
       "515"
      ]
     },
     "execution_count": 6,
     "metadata": {},
     "output_type": "execute_result"
    }
   ],
   "source": [
    "# Split into features (reviews) and labels (categories)\n",
    "X = df['Reviews']\n",
    "Y = df['Category']\n",
    "len(X)"
   ]
  },
  {
   "cell_type": "code",
   "execution_count": 7,
   "id": "83c032ba",
   "metadata": {
    "execution": {
     "iopub.execute_input": "2024-10-07T17:58:36.080837Z",
     "iopub.status.busy": "2024-10-07T17:58:36.080386Z",
     "iopub.status.idle": "2024-10-07T17:58:37.548136Z",
     "shell.execute_reply": "2024-10-07T17:58:37.547132Z"
    },
    "papermill": {
     "duration": 1.479411,
     "end_time": "2024-10-07T17:58:37.550967",
     "exception": false,
     "start_time": "2024-10-07T17:58:36.071556",
     "status": "completed"
    },
    "tags": []
   },
   "outputs": [],
   "source": [
    "# Split the data into training and test sets\n",
    "from sklearn.model_selection import train_test_split\n",
    "X_train, X_test, Y_train, Y_test = train_test_split(X, Y, test_size=0.2, random_state=22)"
   ]
  },
  {
   "cell_type": "code",
   "execution_count": 8,
   "id": "95e2efb3",
   "metadata": {
    "execution": {
     "iopub.execute_input": "2024-10-07T17:58:37.569147Z",
     "iopub.status.busy": "2024-10-07T17:58:37.567992Z",
     "iopub.status.idle": "2024-10-07T17:58:37.681741Z",
     "shell.execute_reply": "2024-10-07T17:58:37.680458Z"
    },
    "papermill": {
     "duration": 0.125729,
     "end_time": "2024-10-07T17:58:37.684500",
     "exception": false,
     "start_time": "2024-10-07T17:58:37.558771",
     "status": "completed"
    },
    "tags": []
   },
   "outputs": [],
   "source": [
    "from sklearn.pipeline import Pipeline\n",
    "from sklearn.feature_extraction.text import TfidfVectorizer\n",
    "from sklearn.naive_bayes import MultinomialNB, ComplementNB\n",
    "from sklearn.svm import LinearSVC\n",
    "from sklearn.metrics import accuracy_score, classification_report "
   ]
  },
  {
   "cell_type": "code",
   "execution_count": 9,
   "id": "cd8ae395",
   "metadata": {
    "execution": {
     "iopub.execute_input": "2024-10-07T17:58:37.701984Z",
     "iopub.status.busy": "2024-10-07T17:58:37.701537Z",
     "iopub.status.idle": "2024-10-07T17:58:37.708598Z",
     "shell.execute_reply": "2024-10-07T17:58:37.707464Z"
    },
    "papermill": {
     "duration": 0.018276,
     "end_time": "2024-10-07T17:58:37.710827",
     "exception": false,
     "start_time": "2024-10-07T17:58:37.692551",
     "status": "completed"
    },
    "tags": []
   },
   "outputs": [],
   "source": [
    "# Define pipelines for different models\n",
    "pipeMNB = Pipeline([('tfidf', TfidfVectorizer(stop_words='english')), ('clf', MultinomialNB())])\n",
    "pipeCNB = Pipeline([('tfidf', TfidfVectorizer(ngram_range=(1,3))), ('clf', ComplementNB())])\n",
    "pipeSVC = Pipeline([('tfidf', TfidfVectorizer(ngram_range=(1,3))), ('clf', LinearSVC())])"
   ]
  },
  {
   "cell_type": "code",
   "execution_count": 10,
   "id": "ae902ed6",
   "metadata": {
    "execution": {
     "iopub.execute_input": "2024-10-07T17:58:37.728096Z",
     "iopub.status.busy": "2024-10-07T17:58:37.727633Z",
     "iopub.status.idle": "2024-10-07T17:58:37.735358Z",
     "shell.execute_reply": "2024-10-07T17:58:37.734128Z"
    },
    "papermill": {
     "duration": 0.019289,
     "end_time": "2024-10-07T17:58:37.737844",
     "exception": false,
     "start_time": "2024-10-07T17:58:37.718555",
     "status": "completed"
    },
    "tags": []
   },
   "outputs": [
    {
     "name": "stdout",
     "output_type": "stream",
     "text": [
      "Reviews     0\n",
      "Category    0\n",
      "dtype: int64\n"
     ]
    }
   ],
   "source": [
    "print(df.isnull().sum())"
   ]
  },
  {
   "cell_type": "code",
   "execution_count": 11,
   "id": "7131dc76",
   "metadata": {
    "execution": {
     "iopub.execute_input": "2024-10-07T17:58:37.755207Z",
     "iopub.status.busy": "2024-10-07T17:58:37.754816Z",
     "iopub.status.idle": "2024-10-07T17:58:37.760914Z",
     "shell.execute_reply": "2024-10-07T17:58:37.759826Z"
    },
    "papermill": {
     "duration": 0.017608,
     "end_time": "2024-10-07T17:58:37.763280",
     "exception": false,
     "start_time": "2024-10-07T17:58:37.745672",
     "status": "completed"
    },
    "tags": []
   },
   "outputs": [],
   "source": [
    "df['Reviews'] = df['Reviews'].fillna('')"
   ]
  },
  {
   "cell_type": "code",
   "execution_count": 12,
   "id": "78489b83",
   "metadata": {
    "execution": {
     "iopub.execute_input": "2024-10-07T17:58:37.781296Z",
     "iopub.status.busy": "2024-10-07T17:58:37.780372Z",
     "iopub.status.idle": "2024-10-07T17:58:37.785986Z",
     "shell.execute_reply": "2024-10-07T17:58:37.784934Z"
    },
    "papermill": {
     "duration": 0.016973,
     "end_time": "2024-10-07T17:58:37.788155",
     "exception": false,
     "start_time": "2024-10-07T17:58:37.771182",
     "status": "completed"
    },
    "tags": []
   },
   "outputs": [],
   "source": [
    "df['Reviews'] = df['Reviews'].astype(str)"
   ]
  },
  {
   "cell_type": "code",
   "execution_count": 13,
   "id": "dd2495c1",
   "metadata": {
    "execution": {
     "iopub.execute_input": "2024-10-07T17:58:37.805468Z",
     "iopub.status.busy": "2024-10-07T17:58:37.805022Z",
     "iopub.status.idle": "2024-10-07T17:58:37.811624Z",
     "shell.execute_reply": "2024-10-07T17:58:37.810566Z"
    },
    "papermill": {
     "duration": 0.018294,
     "end_time": "2024-10-07T17:58:37.814163",
     "exception": false,
     "start_time": "2024-10-07T17:58:37.795869",
     "status": "completed"
    },
    "tags": []
   },
   "outputs": [
    {
     "name": "stdout",
     "output_type": "stream",
     "text": [
      "0\n",
      "object\n"
     ]
    }
   ],
   "source": [
    "print(X_train.isnull().sum())  # Check for remaining missing values\n",
    "print(X_train.dtypes)          # Check data types"
   ]
  },
  {
   "cell_type": "code",
   "execution_count": 14,
   "id": "5b440165",
   "metadata": {
    "execution": {
     "iopub.execute_input": "2024-10-07T17:58:37.831658Z",
     "iopub.status.busy": "2024-10-07T17:58:37.831222Z",
     "iopub.status.idle": "2024-10-07T17:58:38.068796Z",
     "shell.execute_reply": "2024-10-07T17:58:38.067315Z"
    },
    "papermill": {
     "duration": 0.249079,
     "end_time": "2024-10-07T17:58:38.071236",
     "exception": false,
     "start_time": "2024-10-07T17:58:37.822157",
     "status": "completed"
    },
    "tags": []
   },
   "outputs": [
    {
     "name": "stdout",
     "output_type": "stream",
     "text": [
      "MNB Accuracy: 0.59\n",
      "CNB Accuracy: 0.65\n",
      "SVC Accuracy: 0.65\n"
     ]
    }
   ],
   "source": [
    "pipeMNB.fit(X_train, Y_train)\n",
    "predictMNB = pipeMNB.predict(X_test)\n",
    "print(f\"MNB Accuracy: {accuracy_score(Y_test, predictMNB):.2f}\")\n",
    "\n",
    "pipeCNB.fit(X_train, Y_train)\n",
    "predictCNB = pipeCNB.predict(X_test)\n",
    "print(f\"CNB Accuracy: {accuracy_score(Y_test, predictCNB):.2f}\")\n",
    "\n",
    "pipeSVC.fit(X_train, Y_train)\n",
    "predictSVC = pipeSVC.predict(X_test)\n",
    "print(f\"SVC Accuracy: {accuracy_score(Y_test, predictSVC):.2f}\")"
   ]
  },
  {
   "cell_type": "code",
   "execution_count": 15,
   "id": "ce5e3728",
   "metadata": {
    "execution": {
     "iopub.execute_input": "2024-10-07T17:58:38.089270Z",
     "iopub.status.busy": "2024-10-07T17:58:38.088822Z",
     "iopub.status.idle": "2024-10-07T17:58:39.495812Z",
     "shell.execute_reply": "2024-10-07T17:58:39.494196Z"
    },
    "papermill": {
     "duration": 1.419177,
     "end_time": "2024-10-07T17:58:39.498564",
     "exception": false,
     "start_time": "2024-10-07T17:58:38.079387",
     "status": "completed"
    },
    "tags": []
   },
   "outputs": [
    {
     "name": "stdout",
     "output_type": "stream",
     "text": [
      "XGB Accuracy: 0.67\n"
     ]
    }
   ],
   "source": [
    "from sklearn.preprocessing import LabelEncoder\n",
    "from xgboost import XGBClassifier\n",
    "from sklearn.pipeline import Pipeline\n",
    "from sklearn.feature_extraction.text import TfidfVectorizer\n",
    "\n",
    "# Encode the target labels\n",
    "label_encoder = LabelEncoder()\n",
    "Y_train_encoded = label_encoder.fit_transform(Y_train)\n",
    "Y_test_encoded = label_encoder.transform(Y_test)\n",
    "\n",
    "# XGBoost pipeline\n",
    "pipeXGB = Pipeline([('tfidf', TfidfVectorizer(ngram_range=(1, 2), stop_words = 'english')),\n",
    "                    ('clf', XGBClassifier(use_label_encoder=False, eval_metric='mlogloss'))])\n",
    "\n",
    "# Train the model\n",
    "pipeXGB.fit(X_train, Y_train_encoded)\n",
    "predictXGB = pipeXGB.predict(X_test)\n",
    "\n",
    "# Decode the predictions back to original labels\n",
    "predictXGB_decoded = label_encoder.inverse_transform(predictXGB)\n",
    "\n",
    "# Print accuracy\n",
    "print(f\"XGB Accuracy: {accuracy_score(Y_test, predictXGB_decoded):.2f}\")\n"
   ]
  },
  {
   "cell_type": "code",
   "execution_count": 16,
   "id": "d4497391",
   "metadata": {
    "execution": {
     "iopub.execute_input": "2024-10-07T17:58:39.518004Z",
     "iopub.status.busy": "2024-10-07T17:58:39.517558Z",
     "iopub.status.idle": "2024-10-07T17:58:39.708851Z",
     "shell.execute_reply": "2024-10-07T17:58:39.707579Z"
    },
    "papermill": {
     "duration": 0.203517,
     "end_time": "2024-10-07T17:58:39.711383",
     "exception": false,
     "start_time": "2024-10-07T17:58:39.507866",
     "status": "completed"
    },
    "tags": []
   },
   "outputs": [
    {
     "name": "stdout",
     "output_type": "stream",
     "text": [
      "LR Accuracy: 0.60\n"
     ]
    }
   ],
   "source": [
    "from sklearn.linear_model import LogisticRegression\n",
    "from sklearn.feature_selection import SelectKBest, chi2 \n",
    "\n",
    "# Logistic Regression pipeline\n",
    "pipeLR = Pipeline([('tfidf', TfidfVectorizer(ngram_range=(1, 3), stop_words='english')),\n",
    "                   ('select', SelectKBest(chi2, k=1000)),\n",
    "                   ('clf', LogisticRegression(max_iter=1000))])\n",
    "\n",
    "pipeLR.fit(X_train, Y_train)\n",
    "predictLR = pipeLR.predict(X_test)\n",
    "print(f\"LR Accuracy: {accuracy_score(Y_test, predictLR):.2f}\")"
   ]
  },
  {
   "cell_type": "code",
   "execution_count": 17,
   "id": "dc40dbb4",
   "metadata": {
    "execution": {
     "iopub.execute_input": "2024-10-07T17:58:39.729786Z",
     "iopub.status.busy": "2024-10-07T17:58:39.729361Z",
     "iopub.status.idle": "2024-10-07T17:58:40.431965Z",
     "shell.execute_reply": "2024-10-07T17:58:40.430761Z"
    },
    "papermill": {
     "duration": 0.71449,
     "end_time": "2024-10-07T17:58:40.434350",
     "exception": false,
     "start_time": "2024-10-07T17:58:39.719860",
     "status": "completed"
    },
    "tags": []
   },
   "outputs": [
    {
     "name": "stdout",
     "output_type": "stream",
     "text": [
      "RF Accuracy: 0.66\n"
     ]
    }
   ],
   "source": [
    "from sklearn.ensemble import RandomForestClassifier\n",
    " \n",
    "    \n",
    "\n",
    "# Random Forest pipeline\n",
    "pipeRF = Pipeline([('tfidf', TfidfVectorizer(ngram_range=(1, 3), stop_words='english')),\n",
    "                   ('clf', RandomForestClassifier())])\n",
    "\n",
    "pipeRF.fit(X_train, Y_train)\n",
    "predictRF = pipeRF.predict(X_test)\n",
    "print(f\"RF Accuracy: {accuracy_score(Y_test, predictRF):.2f}\")"
   ]
  },
  {
   "cell_type": "code",
   "execution_count": 18,
   "id": "2268ff22",
   "metadata": {
    "execution": {
     "iopub.execute_input": "2024-10-07T17:58:40.452926Z",
     "iopub.status.busy": "2024-10-07T17:58:40.452169Z",
     "iopub.status.idle": "2024-10-07T17:58:40.462468Z",
     "shell.execute_reply": "2024-10-07T17:58:40.461671Z"
    },
    "papermill": {
     "duration": 0.024296,
     "end_time": "2024-10-07T17:58:40.466983",
     "exception": false,
     "start_time": "2024-10-07T17:58:40.442687",
     "status": "completed"
    },
    "tags": []
   },
   "outputs": [
    {
     "data": {
      "text/plain": [
       "array([6])"
      ]
     },
     "execution_count": 18,
     "metadata": {},
     "output_type": "execute_result"
    }
   ],
   "source": [
    "msg = \"There was a big queue in ticketing office and tickets were expensive\"\n",
    "pipeXGB.predict([msg]) "
   ]
  }
 ],
 "metadata": {
  "kaggle": {
   "accelerator": "none",
   "dataSources": [
    {
     "datasetId": 5832442,
     "sourceId": 9569042,
     "sourceType": "datasetVersion"
    }
   ],
   "dockerImageVersionId": 30761,
   "isGpuEnabled": false,
   "isInternetEnabled": false,
   "language": "python",
   "sourceType": "notebook"
  },
  "kernelspec": {
   "display_name": "Python 3",
   "language": "python",
   "name": "python3"
  },
  "language_info": {
   "codemirror_mode": {
    "name": "ipython",
    "version": 3
   },
   "file_extension": ".py",
   "mimetype": "text/x-python",
   "name": "python",
   "nbconvert_exporter": "python",
   "pygments_lexer": "ipython3",
   "version": "3.10.14"
  },
  "papermill": {
   "default_parameters": {},
   "duration": 9.459377,
   "end_time": "2024-10-07T17:58:41.096988",
   "environment_variables": {},
   "exception": null,
   "input_path": "__notebook__.ipynb",
   "output_path": "__notebook__.ipynb",
   "parameters": {},
   "start_time": "2024-10-07T17:58:31.637611",
   "version": "2.6.0"
  }
 },
 "nbformat": 4,
 "nbformat_minor": 5
}
